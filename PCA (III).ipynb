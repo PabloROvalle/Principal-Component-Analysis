{
 "cells": [
  {
   "cell_type": "markdown",
   "id": "175e0743",
   "metadata": {},
   "source": [
    "## Principal Component Analysis. Part III: The real PCA"
   ]
  },
  {
   "cell_type": "code",
   "execution_count": 1,
   "id": "a1fd7502",
   "metadata": {},
   "outputs": [],
   "source": [
    "%matplotlib inline\n",
    "from astropy.io import fits\n",
    "import numpy as np\n",
    "import matplotlib.pyplot as plt\n",
    "import glob, os\n",
    "import pandas as pd\n",
    "import time\n",
    "from matplotlib.pyplot import figure\n",
    "import math as mt\n",
    "from scipy import integrate\n",
    "import sys\n",
    "import warnings\n",
    "time0 = time.perf_counter()"
   ]
  },
  {
   "cell_type": "markdown",
   "id": "101992c2",
   "metadata": {},
   "source": [
    " It is added the clusters variable. A binary variable that will be used later. Just remember to activate it if needed. If you are using real data put \n",
    " \n",
    " clusters = False"
   ]
  },
  {
   "cell_type": "code",
   "execution_count": 2,
   "id": "df764748",
   "metadata": {},
   "outputs": [],
   "source": [
    "clusters = True # you want to prove the PCA analysis? then put this variable in True!"
   ]
  },
  {
   "cell_type": "markdown",
   "id": "ab746374",
   "metadata": {},
   "source": [
    "#### Navigating the cube\n",
    "As shown in other codes, we navigate the MIRI cube and make the changes we think are needed for this analysis."
   ]
  },
  {
   "cell_type": "code",
   "execution_count": 3,
   "id": "ea571410",
   "metadata": {},
   "outputs": [],
   "source": [
    "spec_dir = '/home/povalle/notebook/data_products/'\n",
    "channel = '2'  # 1 // 2 // 3 // 4 // all\n",
    "band = 'short' # shor // medi // long // all\n",
    "filesave = '/home/povalle/notebook/extraction/data/'\n",
    "low = 1250\n",
    "up= 1325\n",
    "scale = 1e6*1e-26/((3.335641e-11)*1e4) # Changing to W/cm2 sr cm-1\n",
    "scale = scale*1.1 # because of the oversized PSF of MIRIsim (REMOVE WITH REAL DATA)\n",
    "filedf = 'mergedspectra.txt'\n",
    "\n",
    "\n",
    "filename= 'jupiter_ch4.res'\n",
    "df = pd.read_csv(filename, sep='\\s+', header = None)\n",
    "df[0] = 10**4/df[0]\n",
    "wavex = df[0]\n",
    "spex = df[2]\n",
    "\n",
    "if channel=='all':\n",
    "    filename = spec_dir + 'allcube_ch1-2-3-4-mediumshortlong-_s3d.fits'\n",
    "else:\n",
    "    filename = spec_dir + 'Level3_ch' + str(channel) + '-' + str(band) + '_s3d.fits'\n",
    "    \n",
    "hdu = fits.open(filename)\n",
    "hdr = hdu['SCI'].header\n",
    "data = hdu['SCI'].data\n",
    "RA = hdu['SCI'].header['RA_V1']\n",
    "DEC = hdu['SCI'].header['DEC_V1']\n",
    "CRPIX1 = hdu['SCI'].header['CRPIX1']\n",
    "CRPIX2 = hdu['SCI'].header['CRPIX2']\n",
    "\n",
    "ny = data.shape[1]\n",
    "nx = data.shape[2]\n",
    "\n",
    "if channel=='all':\n",
    "    wave = hdu['WCS-TABLE'].data['wavelength'][0] #IF WORKING WITH 4 CHANNEL CUBE\n",
    "else:    \n",
    "    wave = np.arange(hdr['NAXIS3'])*hdr['CDELT3']+hdr['CRVAL3'] #IF WORKING WITH 1 CHANNEL or SUBBAND CUBE\n",
    "    \n",
    "wave = wave + 0.0033\n",
    "wave = np.array(wave)\n",
    "lenwave = int(len(wave))\n",
    "\n",
    "wavenumber = 10**4/wave\n",
    "for ix in range(len(wavenumber)):\n",
    "            if wavenumber[ix] < low:\n",
    "                lower = ix\n",
    "                break\n",
    "for iix in range(len(wavenumber)):\n",
    "            if wavenumber[iix] < up:\n",
    "                upper = iix\n",
    "                break"
   ]
  },
  {
   "cell_type": "markdown",
   "id": "25af094f",
   "metadata": {},
   "source": [
    "#### Creating the master dataframe (clean and remove lines)\n",
    "\n",
    "We clean the spectra. In MIRIsim we get some spectra with corrupted data (values go down to zero). For the PCA, we need to remove all of them. After that we create a master dataframe df. If the variable cluster i on (cluster=1), then the code changes three spectra of the 1200 by removing some emission lines in order to see how the PCA is able to identify them by clustering, as we will see in the final visualization.\n",
    "\n",
    "A second dataframe (dfx) is created in order to store the spatial information of every spaxel."
   ]
  },
  {
   "cell_type": "code",
   "execution_count": 4,
   "id": "9b9833d2",
   "metadata": {},
   "outputs": [
    {
     "data": {
      "text/html": [
       "<div>\n",
       "<style scoped>\n",
       "    .dataframe tbody tr th:only-of-type {\n",
       "        vertical-align: middle;\n",
       "    }\n",
       "\n",
       "    .dataframe tbody tr th {\n",
       "        vertical-align: top;\n",
       "    }\n",
       "\n",
       "    .dataframe thead th {\n",
       "        text-align: right;\n",
       "    }\n",
       "</style>\n",
       "<table border=\"1\" class=\"dataframe\">\n",
       "  <thead>\n",
       "    <tr style=\"text-align: right;\">\n",
       "      <th></th>\n",
       "      <th>1</th>\n",
       "      <th>2</th>\n",
       "      <th>3</th>\n",
       "      <th>4</th>\n",
       "      <th>5</th>\n",
       "      <th>6</th>\n",
       "      <th>7</th>\n",
       "      <th>8</th>\n",
       "      <th>9</th>\n",
       "      <th>10</th>\n",
       "      <th>...</th>\n",
       "      <th>1176</th>\n",
       "      <th>1177</th>\n",
       "      <th>1178</th>\n",
       "      <th>1179</th>\n",
       "      <th>1180</th>\n",
       "      <th>1181</th>\n",
       "      <th>1182</th>\n",
       "      <th>1183</th>\n",
       "      <th>1184</th>\n",
       "      <th>1185</th>\n",
       "    </tr>\n",
       "  </thead>\n",
       "  <tbody>\n",
       "    <tr>\n",
       "      <th>0</th>\n",
       "      <td>4.358876e-09</td>\n",
       "      <td>3.993168e-09</td>\n",
       "      <td>3.902826e-09</td>\n",
       "      <td>3.868369e-09</td>\n",
       "      <td>4.237903e-09</td>\n",
       "      <td>3.619014e-09</td>\n",
       "      <td>3.598226e-09</td>\n",
       "      <td>3.646688e-09</td>\n",
       "      <td>3.676094e-09</td>\n",
       "      <td>3.945899e-09</td>\n",
       "      <td>...</td>\n",
       "      <td>8.273448e-09</td>\n",
       "      <td>7.664641e-09</td>\n",
       "      <td>7.808638e-09</td>\n",
       "      <td>9.860915e-09</td>\n",
       "      <td>1.105829e-08</td>\n",
       "      <td>1.111258e-08</td>\n",
       "      <td>7.763668e-09</td>\n",
       "      <td>1.017214e-08</td>\n",
       "      <td>1.110616e-08</td>\n",
       "      <td>1.110766e-08</td>\n",
       "    </tr>\n",
       "    <tr>\n",
       "      <th>1</th>\n",
       "      <td>4.206282e-09</td>\n",
       "      <td>4.129420e-09</td>\n",
       "      <td>4.074037e-09</td>\n",
       "      <td>4.049780e-09</td>\n",
       "      <td>4.076491e-09</td>\n",
       "      <td>3.734902e-09</td>\n",
       "      <td>3.757347e-09</td>\n",
       "      <td>3.855070e-09</td>\n",
       "      <td>3.904258e-09</td>\n",
       "      <td>4.128510e-09</td>\n",
       "      <td>...</td>\n",
       "      <td>8.519561e-09</td>\n",
       "      <td>8.426938e-09</td>\n",
       "      <td>8.716063e-09</td>\n",
       "      <td>1.089157e-08</td>\n",
       "      <td>1.198101e-08</td>\n",
       "      <td>1.216314e-08</td>\n",
       "      <td>8.581836e-09</td>\n",
       "      <td>1.153258e-08</td>\n",
       "      <td>1.201901e-08</td>\n",
       "      <td>1.221223e-08</td>\n",
       "    </tr>\n",
       "    <tr>\n",
       "      <th>2</th>\n",
       "      <td>4.088199e-09</td>\n",
       "      <td>4.067737e-09</td>\n",
       "      <td>4.084302e-09</td>\n",
       "      <td>4.123733e-09</td>\n",
       "      <td>4.141640e-09</td>\n",
       "      <td>3.998715e-09</td>\n",
       "      <td>3.922364e-09</td>\n",
       "      <td>4.009246e-09</td>\n",
       "      <td>4.068820e-09</td>\n",
       "      <td>4.143646e-09</td>\n",
       "      <td>...</td>\n",
       "      <td>8.402197e-09</td>\n",
       "      <td>8.474404e-09</td>\n",
       "      <td>8.918687e-09</td>\n",
       "      <td>1.120068e-08</td>\n",
       "      <td>1.257546e-08</td>\n",
       "      <td>1.352094e-08</td>\n",
       "      <td>8.733367e-09</td>\n",
       "      <td>1.191185e-08</td>\n",
       "      <td>1.269344e-08</td>\n",
       "      <td>1.367712e-08</td>\n",
       "    </tr>\n",
       "    <tr>\n",
       "      <th>3</th>\n",
       "      <td>6.700290e-09</td>\n",
       "      <td>6.735681e-09</td>\n",
       "      <td>6.682536e-09</td>\n",
       "      <td>6.683286e-09</td>\n",
       "      <td>6.650305e-09</td>\n",
       "      <td>6.979646e-09</td>\n",
       "      <td>6.644232e-09</td>\n",
       "      <td>6.800452e-09</td>\n",
       "      <td>6.937234e-09</td>\n",
       "      <td>6.983627e-09</td>\n",
       "      <td>...</td>\n",
       "      <td>1.331342e-08</td>\n",
       "      <td>1.354635e-08</td>\n",
       "      <td>1.399600e-08</td>\n",
       "      <td>1.698194e-08</td>\n",
       "      <td>1.900426e-08</td>\n",
       "      <td>2.013577e-08</td>\n",
       "      <td>1.355628e-08</td>\n",
       "      <td>1.762145e-08</td>\n",
       "      <td>1.924839e-08</td>\n",
       "      <td>2.023012e-08</td>\n",
       "    </tr>\n",
       "    <tr>\n",
       "      <th>4</th>\n",
       "      <td>1.365293e-08</td>\n",
       "      <td>1.390826e-08</td>\n",
       "      <td>1.385813e-08</td>\n",
       "      <td>1.377121e-08</td>\n",
       "      <td>1.387640e-08</td>\n",
       "      <td>1.423743e-08</td>\n",
       "      <td>1.371235e-08</td>\n",
       "      <td>1.411566e-08</td>\n",
       "      <td>1.427419e-08</td>\n",
       "      <td>1.411497e-08</td>\n",
       "      <td>...</td>\n",
       "      <td>2.492079e-08</td>\n",
       "      <td>2.501046e-08</td>\n",
       "      <td>2.560298e-08</td>\n",
       "      <td>2.978353e-08</td>\n",
       "      <td>3.282146e-08</td>\n",
       "      <td>3.403472e-08</td>\n",
       "      <td>2.479703e-08</td>\n",
       "      <td>3.033221e-08</td>\n",
       "      <td>3.306639e-08</td>\n",
       "      <td>3.406674e-08</td>\n",
       "    </tr>\n",
       "    <tr>\n",
       "      <th>...</th>\n",
       "      <td>...</td>\n",
       "      <td>...</td>\n",
       "      <td>...</td>\n",
       "      <td>...</td>\n",
       "      <td>...</td>\n",
       "      <td>...</td>\n",
       "      <td>...</td>\n",
       "      <td>...</td>\n",
       "      <td>...</td>\n",
       "      <td>...</td>\n",
       "      <td>...</td>\n",
       "      <td>...</td>\n",
       "      <td>...</td>\n",
       "      <td>...</td>\n",
       "      <td>...</td>\n",
       "      <td>...</td>\n",
       "      <td>...</td>\n",
       "      <td>...</td>\n",
       "      <td>...</td>\n",
       "      <td>...</td>\n",
       "      <td>...</td>\n",
       "    </tr>\n",
       "    <tr>\n",
       "      <th>626</th>\n",
       "      <td>1.274666e-08</td>\n",
       "      <td>1.280559e-08</td>\n",
       "      <td>1.282974e-08</td>\n",
       "      <td>1.287864e-08</td>\n",
       "      <td>1.288782e-08</td>\n",
       "      <td>1.205409e-08</td>\n",
       "      <td>1.230609e-08</td>\n",
       "      <td>1.212834e-08</td>\n",
       "      <td>1.206632e-08</td>\n",
       "      <td>1.246591e-08</td>\n",
       "      <td>...</td>\n",
       "      <td>2.164179e-08</td>\n",
       "      <td>2.181489e-08</td>\n",
       "      <td>2.284391e-08</td>\n",
       "      <td>2.744065e-08</td>\n",
       "      <td>2.947488e-08</td>\n",
       "      <td>2.988988e-08</td>\n",
       "      <td>2.268712e-08</td>\n",
       "      <td>2.844162e-08</td>\n",
       "      <td>2.952937e-08</td>\n",
       "      <td>2.996727e-08</td>\n",
       "    </tr>\n",
       "    <tr>\n",
       "      <th>627</th>\n",
       "      <td>1.770218e-08</td>\n",
       "      <td>1.762114e-08</td>\n",
       "      <td>1.750253e-08</td>\n",
       "      <td>1.752163e-08</td>\n",
       "      <td>1.752884e-08</td>\n",
       "      <td>1.638527e-08</td>\n",
       "      <td>1.668163e-08</td>\n",
       "      <td>1.675326e-08</td>\n",
       "      <td>1.681119e-08</td>\n",
       "      <td>1.731321e-08</td>\n",
       "      <td>...</td>\n",
       "      <td>2.947935e-08</td>\n",
       "      <td>2.942849e-08</td>\n",
       "      <td>3.040718e-08</td>\n",
       "      <td>3.619066e-08</td>\n",
       "      <td>3.919050e-08</td>\n",
       "      <td>3.942106e-08</td>\n",
       "      <td>3.028339e-08</td>\n",
       "      <td>3.712027e-08</td>\n",
       "      <td>3.923742e-08</td>\n",
       "      <td>3.946996e-08</td>\n",
       "    </tr>\n",
       "    <tr>\n",
       "      <th>628</th>\n",
       "      <td>1.937691e-08</td>\n",
       "      <td>1.933953e-08</td>\n",
       "      <td>1.927146e-08</td>\n",
       "      <td>1.924578e-08</td>\n",
       "      <td>1.924465e-08</td>\n",
       "      <td>1.808328e-08</td>\n",
       "      <td>1.826079e-08</td>\n",
       "      <td>1.852236e-08</td>\n",
       "      <td>1.861702e-08</td>\n",
       "      <td>1.902923e-08</td>\n",
       "      <td>...</td>\n",
       "      <td>3.146488e-08</td>\n",
       "      <td>3.143224e-08</td>\n",
       "      <td>3.249439e-08</td>\n",
       "      <td>3.821780e-08</td>\n",
       "      <td>4.162073e-08</td>\n",
       "      <td>4.133258e-08</td>\n",
       "      <td>3.272027e-08</td>\n",
       "      <td>3.924251e-08</td>\n",
       "      <td>4.164574e-08</td>\n",
       "      <td>4.128942e-08</td>\n",
       "    </tr>\n",
       "    <tr>\n",
       "      <th>629</th>\n",
       "      <td>1.731043e-08</td>\n",
       "      <td>1.733158e-08</td>\n",
       "      <td>1.729871e-08</td>\n",
       "      <td>1.728994e-08</td>\n",
       "      <td>1.730942e-08</td>\n",
       "      <td>1.635615e-08</td>\n",
       "      <td>1.713519e-08</td>\n",
       "      <td>1.731175e-08</td>\n",
       "      <td>1.745164e-08</td>\n",
       "      <td>1.747377e-08</td>\n",
       "      <td>...</td>\n",
       "      <td>2.801606e-08</td>\n",
       "      <td>2.811639e-08</td>\n",
       "      <td>2.934544e-08</td>\n",
       "      <td>3.420425e-08</td>\n",
       "      <td>3.755348e-08</td>\n",
       "      <td>3.719970e-08</td>\n",
       "      <td>3.002199e-08</td>\n",
       "      <td>3.516736e-08</td>\n",
       "      <td>3.759834e-08</td>\n",
       "      <td>3.714105e-08</td>\n",
       "    </tr>\n",
       "    <tr>\n",
       "      <th>630</th>\n",
       "      <td>1.512502e-08</td>\n",
       "      <td>1.493822e-08</td>\n",
       "      <td>1.485913e-08</td>\n",
       "      <td>1.484389e-08</td>\n",
       "      <td>1.496782e-08</td>\n",
       "      <td>1.384524e-08</td>\n",
       "      <td>1.405035e-08</td>\n",
       "      <td>1.479596e-08</td>\n",
       "      <td>1.525416e-08</td>\n",
       "      <td>1.528272e-08</td>\n",
       "      <td>...</td>\n",
       "      <td>2.442656e-08</td>\n",
       "      <td>2.445858e-08</td>\n",
       "      <td>2.570559e-08</td>\n",
       "      <td>2.987223e-08</td>\n",
       "      <td>3.322920e-08</td>\n",
       "      <td>3.306177e-08</td>\n",
       "      <td>2.678487e-08</td>\n",
       "      <td>3.076049e-08</td>\n",
       "      <td>3.334311e-08</td>\n",
       "      <td>3.301805e-08</td>\n",
       "    </tr>\n",
       "  </tbody>\n",
       "</table>\n",
       "<p>631 rows × 1185 columns</p>\n",
       "</div>"
      ],
      "text/plain": [
       "             1             2             3             4             5     \\\n",
       "0    4.358876e-09  3.993168e-09  3.902826e-09  3.868369e-09  4.237903e-09   \n",
       "1    4.206282e-09  4.129420e-09  4.074037e-09  4.049780e-09  4.076491e-09   \n",
       "2    4.088199e-09  4.067737e-09  4.084302e-09  4.123733e-09  4.141640e-09   \n",
       "3    6.700290e-09  6.735681e-09  6.682536e-09  6.683286e-09  6.650305e-09   \n",
       "4    1.365293e-08  1.390826e-08  1.385813e-08  1.377121e-08  1.387640e-08   \n",
       "..            ...           ...           ...           ...           ...   \n",
       "626  1.274666e-08  1.280559e-08  1.282974e-08  1.287864e-08  1.288782e-08   \n",
       "627  1.770218e-08  1.762114e-08  1.750253e-08  1.752163e-08  1.752884e-08   \n",
       "628  1.937691e-08  1.933953e-08  1.927146e-08  1.924578e-08  1.924465e-08   \n",
       "629  1.731043e-08  1.733158e-08  1.729871e-08  1.728994e-08  1.730942e-08   \n",
       "630  1.512502e-08  1.493822e-08  1.485913e-08  1.484389e-08  1.496782e-08   \n",
       "\n",
       "             6             7             8             9             10    \\\n",
       "0    3.619014e-09  3.598226e-09  3.646688e-09  3.676094e-09  3.945899e-09   \n",
       "1    3.734902e-09  3.757347e-09  3.855070e-09  3.904258e-09  4.128510e-09   \n",
       "2    3.998715e-09  3.922364e-09  4.009246e-09  4.068820e-09  4.143646e-09   \n",
       "3    6.979646e-09  6.644232e-09  6.800452e-09  6.937234e-09  6.983627e-09   \n",
       "4    1.423743e-08  1.371235e-08  1.411566e-08  1.427419e-08  1.411497e-08   \n",
       "..            ...           ...           ...           ...           ...   \n",
       "626  1.205409e-08  1.230609e-08  1.212834e-08  1.206632e-08  1.246591e-08   \n",
       "627  1.638527e-08  1.668163e-08  1.675326e-08  1.681119e-08  1.731321e-08   \n",
       "628  1.808328e-08  1.826079e-08  1.852236e-08  1.861702e-08  1.902923e-08   \n",
       "629  1.635615e-08  1.713519e-08  1.731175e-08  1.745164e-08  1.747377e-08   \n",
       "630  1.384524e-08  1.405035e-08  1.479596e-08  1.525416e-08  1.528272e-08   \n",
       "\n",
       "     ...          1176          1177          1178          1179  \\\n",
       "0    ...  8.273448e-09  7.664641e-09  7.808638e-09  9.860915e-09   \n",
       "1    ...  8.519561e-09  8.426938e-09  8.716063e-09  1.089157e-08   \n",
       "2    ...  8.402197e-09  8.474404e-09  8.918687e-09  1.120068e-08   \n",
       "3    ...  1.331342e-08  1.354635e-08  1.399600e-08  1.698194e-08   \n",
       "4    ...  2.492079e-08  2.501046e-08  2.560298e-08  2.978353e-08   \n",
       "..   ...           ...           ...           ...           ...   \n",
       "626  ...  2.164179e-08  2.181489e-08  2.284391e-08  2.744065e-08   \n",
       "627  ...  2.947935e-08  2.942849e-08  3.040718e-08  3.619066e-08   \n",
       "628  ...  3.146488e-08  3.143224e-08  3.249439e-08  3.821780e-08   \n",
       "629  ...  2.801606e-08  2.811639e-08  2.934544e-08  3.420425e-08   \n",
       "630  ...  2.442656e-08  2.445858e-08  2.570559e-08  2.987223e-08   \n",
       "\n",
       "             1180          1181          1182          1183          1184  \\\n",
       "0    1.105829e-08  1.111258e-08  7.763668e-09  1.017214e-08  1.110616e-08   \n",
       "1    1.198101e-08  1.216314e-08  8.581836e-09  1.153258e-08  1.201901e-08   \n",
       "2    1.257546e-08  1.352094e-08  8.733367e-09  1.191185e-08  1.269344e-08   \n",
       "3    1.900426e-08  2.013577e-08  1.355628e-08  1.762145e-08  1.924839e-08   \n",
       "4    3.282146e-08  3.403472e-08  2.479703e-08  3.033221e-08  3.306639e-08   \n",
       "..            ...           ...           ...           ...           ...   \n",
       "626  2.947488e-08  2.988988e-08  2.268712e-08  2.844162e-08  2.952937e-08   \n",
       "627  3.919050e-08  3.942106e-08  3.028339e-08  3.712027e-08  3.923742e-08   \n",
       "628  4.162073e-08  4.133258e-08  3.272027e-08  3.924251e-08  4.164574e-08   \n",
       "629  3.755348e-08  3.719970e-08  3.002199e-08  3.516736e-08  3.759834e-08   \n",
       "630  3.322920e-08  3.306177e-08  2.678487e-08  3.076049e-08  3.334311e-08   \n",
       "\n",
       "             1185  \n",
       "0    1.110766e-08  \n",
       "1    1.221223e-08  \n",
       "2    1.367712e-08  \n",
       "3    2.023012e-08  \n",
       "4    3.406674e-08  \n",
       "..            ...  \n",
       "626  2.996727e-08  \n",
       "627  3.946996e-08  \n",
       "628  4.128942e-08  \n",
       "629  3.714105e-08  \n",
       "630  3.301805e-08  \n",
       "\n",
       "[631 rows x 1185 columns]"
      ]
     },
     "execution_count": 4,
     "metadata": {},
     "output_type": "execute_result"
    }
   ],
   "source": [
    "warnings.filterwarnings(\"ignore\")\n",
    "df = pd.DataFrame(wave)\n",
    "dfx = pd.DataFrame({0:[0, 1]})\n",
    "m = 1\n",
    "for i in range(ny):\n",
    "    for ii in range(nx):\n",
    "        if sum(data[:,i,ii]*scale) !=0 :\n",
    "            df[m] = data[:,i,ii]*scale\n",
    "            dfx[m] = [i,ii]\n",
    "            m = m + 1\n",
    "\n",
    "for i in range(df.shape[1]):\n",
    "    count = (df[i] == 0).sum()\n",
    "    count = int(count)\n",
    "    if count > 1:\n",
    "        df = df.drop(columns=[i])\n",
    "        dfx = dfx.drop(columns=[i])\n",
    "        \n",
    "df.to_csv(filedf, header=None, \n",
    "          index=None, sep=' ')\n",
    "df = pd.read_csv(filedf, header=None, sep='\\s+')\n",
    "df = df.drop(columns=[0])\n",
    "\n",
    "dfx.to_csv(filedf, header=None, \n",
    "          index=None, sep=' ')\n",
    "dfx = pd.read_csv(filedf, header=None, sep='\\s+')\n",
    "\n",
    "if clusters == True:\n",
    "    k = np.linspace(0.1e-7,0.07e-7,25)\n",
    "    df[df.shape[1]-1][100:125] = k\n",
    "    df[df.shape[1]-2][100:125] = k\n",
    "    df[df.shape[1]-5][100:125] = k\n",
    "    k = np.linspace(0.05e-7,0.07e-7,20)\n",
    "    df[df.shape[1]-1][160:180] = k\n",
    "    df[df.shape[1]-2][160:180] = k\n",
    "    df[df.shape[1]-5][160:180] = k\n",
    "df"
   ]
  },
  {
   "cell_type": "markdown",
   "id": "eb6cabf3",
   "metadata": {},
   "source": [
    "We create two arrays with the information of the x and y pixel position to try to find patterns in the image after the PCA."
   ]
  },
  {
   "cell_type": "code",
   "execution_count": 5,
   "id": "1bfa7815",
   "metadata": {},
   "outputs": [],
   "source": [
    "array_x = dfx.iloc[0]\n",
    "array_y = dfx.iloc[1]"
   ]
  },
  {
   "cell_type": "markdown",
   "id": "a001af0e",
   "metadata": {},
   "source": [
    "We can check how the spectra looks like, comparing it with a normal spectra. If cluster=1 then you will note the lack of some spectral lines. If not the spectra will be quite similar."
   ]
  },
  {
   "cell_type": "code",
   "execution_count": 6,
   "id": "1f0791e9",
   "metadata": {},
   "outputs": [
    {
     "data": {
      "image/png": "[encoded data removed]",
      "text/plain": [
       "<Figure size 576x360 with 1 Axes>"
      ]
     },
     "metadata": {
      "needs_background": "light"
     },
     "output_type": "display_data"
    }
   ],
   "source": [
    "ax = plt.gca()\n",
    "\n",
    "df.plot(y=df.shape[1],ax=ax)\n",
    "df.plot(y=df.shape[1]-1,ax=ax, figsize=(8,5))\n",
    "ax.set_xlim(0,300)\n",
    "ax.set_ylim(0,8e-8)\n",
    "ax.legend(['Raw Spectra','Spectra with some emisssion bands deleted'])\n",
    "ax.set_xlabel('data point')\n",
    "ax.set_ylabel('Radiance (W $cm^{-2}$ $sr^{-1}$ / $cm^{-1}$)')\n",
    "ax.grid()"
   ]
  },
  {
   "cell_type": "markdown",
   "id": "1f37779a",
   "metadata": {},
   "source": [
    "We are going to transpose the dataframe in order to make the data analysis easier for the pca library. We save the df again to have it if needed."
   ]
  },
  {
   "cell_type": "code",
   "execution_count": 7,
   "id": "9de9a9b8",
   "metadata": {},
   "outputs": [],
   "source": [
    "df = df.transpose()\n",
    "df.to_csv(filedf, header=None, \n",
    "          index=None, sep=' ')\n",
    "df = pd.read_csv(filedf, header=None, sep='\\s+')"
   ]
  },
  {
   "cell_type": "markdown",
   "id": "8e5a9be3",
   "metadata": {},
   "source": [
    "### Primary Components Analysis\n",
    "\n",
    "We import the Machine learning libraries."
   ]
  },
  {
   "cell_type": "code",
   "execution_count": 8,
   "id": "6419773e",
   "metadata": {},
   "outputs": [],
   "source": [
    "from sklearn.preprocessing import scale # Data scaling\n",
    "from sklearn import decomposition #PCA"
   ]
  },
  {
   "cell_type": "markdown",
   "id": "42500ec9",
   "metadata": {},
   "source": [
    "np.array: Transform the df to a float64 array\n",
    "\n",
    "scale: Center to the mean and component wise scale to unit variance"
   ]
  },
  {
   "cell_type": "code",
   "execution_count": 9,
   "id": "452e1284",
   "metadata": {},
   "outputs": [],
   "source": [
    "X = np.array(df)\n",
    "X = scale(X)"
   ]
  },
  {
   "cell_type": "markdown",
   "id": "159859e5",
   "metadata": {},
   "source": [
    "pca decomposition: Principal component analysis (PCA). Linear dimensionality reduction using Singular Value Decomposition of the data to project it to a lower dimensional space. The input data is centered but not scaled for each feature before applying the SVD.\n",
    "\n",
    "We fit the number of components (3 is more than okay since will have around 90% of the info and we will be able to represent the data in a 3D environment to find some clustering)."
   ]
  },
  {
   "cell_type": "code",
   "execution_count": 10,
   "id": "e22fcd04",
   "metadata": {},
   "outputs": [
    {
     "data": {
      "text/plain": [
       "PCA(n_components=3)"
      ]
     },
     "execution_count": 10,
     "metadata": {},
     "output_type": "execute_result"
    }
   ],
   "source": [
    "pca = decomposition.PCA(n_components=3)\n",
    "pca.fit(X)"
   ]
  },
  {
   "cell_type": "markdown",
   "id": "046e63d1",
   "metadata": {},
   "source": [
    "We do the PCA analysis to our sample"
   ]
  },
  {
   "cell_type": "code",
   "execution_count": 11,
   "id": "19c364ea",
   "metadata": {},
   "outputs": [],
   "source": [
    "scores = pca.transform(X)"
   ]
  },
  {
   "cell_type": "markdown",
   "id": "6016ef51",
   "metadata": {},
   "source": [
    "We create the dataframe and specify the color. All of the are blue instead of the three spectra that can change in function of the value of the variable cluster.\n",
    "\n",
    "We add two columns with the pixel position."
   ]
  },
  {
   "cell_type": "code",
   "execution_count": 58,
   "id": "315ae17c",
   "metadata": {},
   "outputs": [
    {
     "data": {
      "text/html": [
       "<div>\n",
       "<style scoped>\n",
       "    .dataframe tbody tr th:only-of-type {\n",
       "        vertical-align: middle;\n",
       "    }\n",
       "\n",
       "    .dataframe tbody tr th {\n",
       "        vertical-align: top;\n",
       "    }\n",
       "\n",
       "    .dataframe thead th {\n",
       "        text-align: right;\n",
       "    }\n",
       "</style>\n",
       "<table border=\"1\" class=\"dataframe\">\n",
       "  <thead>\n",
       "    <tr style=\"text-align: right;\">\n",
       "      <th></th>\n",
       "      <th>PC1</th>\n",
       "      <th>PC2</th>\n",
       "      <th>PC3</th>\n",
       "      <th>color</th>\n",
       "      <th>x</th>\n",
       "      <th>y</th>\n",
       "    </tr>\n",
       "  </thead>\n",
       "  <tbody>\n",
       "    <tr>\n",
       "      <th>0</th>\n",
       "      <td>-19.510345</td>\n",
       "      <td>1.921697</td>\n",
       "      <td>0.279675</td>\n",
       "      <td>blue</td>\n",
       "      <td>0</td>\n",
       "      <td>1</td>\n",
       "    </tr>\n",
       "    <tr>\n",
       "      <th>1</th>\n",
       "      <td>-19.589953</td>\n",
       "      <td>1.951914</td>\n",
       "      <td>0.229746</td>\n",
       "      <td>blue</td>\n",
       "      <td>1</td>\n",
       "      <td>23</td>\n",
       "    </tr>\n",
       "    <tr>\n",
       "      <th>2</th>\n",
       "      <td>-19.601050</td>\n",
       "      <td>1.950749</td>\n",
       "      <td>0.224880</td>\n",
       "      <td>blue</td>\n",
       "      <td>1</td>\n",
       "      <td>24</td>\n",
       "    </tr>\n",
       "    <tr>\n",
       "      <th>3</th>\n",
       "      <td>-19.581246</td>\n",
       "      <td>1.927240</td>\n",
       "      <td>0.225364</td>\n",
       "      <td>blue</td>\n",
       "      <td>1</td>\n",
       "      <td>25</td>\n",
       "    </tr>\n",
       "    <tr>\n",
       "      <th>4</th>\n",
       "      <td>-19.566408</td>\n",
       "      <td>1.915004</td>\n",
       "      <td>0.221620</td>\n",
       "      <td>blue</td>\n",
       "      <td>1</td>\n",
       "      <td>26</td>\n",
       "    </tr>\n",
       "    <tr>\n",
       "      <th>...</th>\n",
       "      <td>...</td>\n",
       "      <td>...</td>\n",
       "      <td>...</td>\n",
       "      <td>...</td>\n",
       "      <td>...</td>\n",
       "      <td>...</td>\n",
       "    </tr>\n",
       "    <tr>\n",
       "      <th>1180</th>\n",
       "      <td>32.712717</td>\n",
       "      <td>0.202837</td>\n",
       "      <td>0.225745</td>\n",
       "      <td>blue</td>\n",
       "      <td>35</td>\n",
       "      <td>24</td>\n",
       "    </tr>\n",
       "    <tr>\n",
       "      <th>1181</th>\n",
       "      <td>9.821625</td>\n",
       "      <td>-1.427669</td>\n",
       "      <td>0.008321</td>\n",
       "      <td>blue</td>\n",
       "      <td>35</td>\n",
       "      <td>25</td>\n",
       "    </tr>\n",
       "    <tr>\n",
       "      <th>1182</th>\n",
       "      <td>23.403064</td>\n",
       "      <td>0.383438</td>\n",
       "      <td>11.256064</td>\n",
       "      <td>red</td>\n",
       "      <td>36</td>\n",
       "      <td>22</td>\n",
       "    </tr>\n",
       "    <tr>\n",
       "      <th>1183</th>\n",
       "      <td>29.396910</td>\n",
       "      <td>0.758879</td>\n",
       "      <td>12.510209</td>\n",
       "      <td>red</td>\n",
       "      <td>36</td>\n",
       "      <td>23</td>\n",
       "    </tr>\n",
       "    <tr>\n",
       "      <th>1184</th>\n",
       "      <td>32.714817</td>\n",
       "      <td>0.232942</td>\n",
       "      <td>0.227315</td>\n",
       "      <td>blue</td>\n",
       "      <td>36</td>\n",
       "      <td>24</td>\n",
       "    </tr>\n",
       "  </tbody>\n",
       "</table>\n",
       "<p>1185 rows × 6 columns</p>\n",
       "</div>"
      ],
      "text/plain": [
       "            PC1       PC2        PC3 color   x   y\n",
       "0    -19.510345  1.921697   0.279675  blue   0   1\n",
       "1    -19.589953  1.951914   0.229746  blue   1  23\n",
       "2    -19.601050  1.950749   0.224880  blue   1  24\n",
       "3    -19.581246  1.927240   0.225364  blue   1  25\n",
       "4    -19.566408  1.915004   0.221620  blue   1  26\n",
       "...         ...       ...        ...   ...  ..  ..\n",
       "1180  32.712717  0.202837   0.225745  blue  35  24\n",
       "1181   9.821625 -1.427669   0.008321  blue  35  25\n",
       "1182  23.403064  0.383438  11.256064   red  36  22\n",
       "1183  29.396910  0.758879  12.510209   red  36  23\n",
       "1184  32.714817  0.232942   0.227315  blue  36  24\n",
       "\n",
       "[1185 rows x 6 columns]"
      ]
     },
     "execution_count": 58,
     "metadata": {},
     "output_type": "execute_result"
    }
   ],
   "source": [
    "scores_df = pd.DataFrame(scores, columns=['PC1', 'PC2', 'PC3'])\n",
    "scores_df['color'] = 'blue'\n",
    "\n",
    "scores_df['color'][df.shape[0]-2] = 'red'\n",
    "scores_df['color'][df.shape[0]-3] = 'red'\n",
    "scores_df['color'][df.shape[0]-6] = 'red'\n",
    "\n",
    "scores_df['x'] = array_x\n",
    "scores_df['y'] = array_y\n",
    "\n",
    "df_scores = scores_df\n",
    "df_scores"
   ]
  },
  {
   "cell_type": "markdown",
   "id": "1e68b84b",
   "metadata": {},
   "source": [
    "The importance of every spectra for the three Pricipal component variables is obtained with .components_.T so the sum of every PC1 + PC2 + PC3 is 1. "
   ]
  },
  {
   "cell_type": "code",
   "execution_count": 59,
   "id": "c39cdc96",
   "metadata": {},
   "outputs": [
    {
     "data": {
      "text/html": [
       "<div>\n",
       "<style scoped>\n",
       "    .dataframe tbody tr th:only-of-type {\n",
       "        vertical-align: middle;\n",
       "    }\n",
       "\n",
       "    .dataframe tbody tr th {\n",
       "        vertical-align: top;\n",
       "    }\n",
       "\n",
       "    .dataframe thead th {\n",
       "        text-align: right;\n",
       "    }\n",
       "</style>\n",
       "<table border=\"1\" class=\"dataframe\">\n",
       "  <thead>\n",
       "    <tr style=\"text-align: right;\">\n",
       "      <th></th>\n",
       "      <th>PC1</th>\n",
       "      <th>PC2</th>\n",
       "      <th>PC3</th>\n",
       "    </tr>\n",
       "  </thead>\n",
       "  <tbody>\n",
       "    <tr>\n",
       "      <th>0</th>\n",
       "      <td>0.039692</td>\n",
       "      <td>0.016325</td>\n",
       "      <td>-0.023380</td>\n",
       "    </tr>\n",
       "    <tr>\n",
       "      <th>1</th>\n",
       "      <td>0.039891</td>\n",
       "      <td>0.008043</td>\n",
       "      <td>-0.012128</td>\n",
       "    </tr>\n",
       "    <tr>\n",
       "      <th>2</th>\n",
       "      <td>0.039782</td>\n",
       "      <td>0.014622</td>\n",
       "      <td>-0.006699</td>\n",
       "    </tr>\n",
       "    <tr>\n",
       "      <th>3</th>\n",
       "      <td>0.039758</td>\n",
       "      <td>0.003324</td>\n",
       "      <td>-0.003743</td>\n",
       "    </tr>\n",
       "    <tr>\n",
       "      <th>4</th>\n",
       "      <td>0.039677</td>\n",
       "      <td>-0.015116</td>\n",
       "      <td>-0.008507</td>\n",
       "    </tr>\n",
       "    <tr>\n",
       "      <th>...</th>\n",
       "      <td>...</td>\n",
       "      <td>...</td>\n",
       "      <td>...</td>\n",
       "    </tr>\n",
       "    <tr>\n",
       "      <th>626</th>\n",
       "      <td>0.039892</td>\n",
       "      <td>-0.004487</td>\n",
       "      <td>0.022083</td>\n",
       "    </tr>\n",
       "    <tr>\n",
       "      <th>627</th>\n",
       "      <td>0.039894</td>\n",
       "      <td>-0.020849</td>\n",
       "      <td>0.021411</td>\n",
       "    </tr>\n",
       "    <tr>\n",
       "      <th>628</th>\n",
       "      <td>0.039901</td>\n",
       "      <td>-0.025150</td>\n",
       "      <td>0.019293</td>\n",
       "    </tr>\n",
       "    <tr>\n",
       "      <th>629</th>\n",
       "      <td>0.039893</td>\n",
       "      <td>-0.021457</td>\n",
       "      <td>0.018012</td>\n",
       "    </tr>\n",
       "    <tr>\n",
       "      <th>630</th>\n",
       "      <td>0.039881</td>\n",
       "      <td>-0.011397</td>\n",
       "      <td>0.014174</td>\n",
       "    </tr>\n",
       "  </tbody>\n",
       "</table>\n",
       "<p>631 rows × 3 columns</p>\n",
       "</div>"
      ],
      "text/plain": [
       "          PC1       PC2       PC3\n",
       "0    0.039692  0.016325 -0.023380\n",
       "1    0.039891  0.008043 -0.012128\n",
       "2    0.039782  0.014622 -0.006699\n",
       "3    0.039758  0.003324 -0.003743\n",
       "4    0.039677 -0.015116 -0.008507\n",
       "..        ...       ...       ...\n",
       "626  0.039892 -0.004487  0.022083\n",
       "627  0.039894 -0.020849  0.021411\n",
       "628  0.039901 -0.025150  0.019293\n",
       "629  0.039893 -0.021457  0.018012\n",
       "630  0.039881 -0.011397  0.014174\n",
       "\n",
       "[631 rows x 3 columns]"
      ]
     },
     "execution_count": 59,
     "metadata": {},
     "output_type": "execute_result"
    }
   ],
   "source": [
    "loadings = pca.components_.T\n",
    "df_loadings = pd.DataFrame(loadings, columns=['PC1', 'PC2','PC3'])\n",
    "df_loadings"
   ]
  },
  {
   "cell_type": "markdown",
   "id": "05285799",
   "metadata": {},
   "source": [
    "We also can see how much of the info is stored in every variable. The information will be mostly in PC1 and will decrease fast."
   ]
  },
  {
   "cell_type": "code",
   "execution_count": 60,
   "id": "8a9cdc8a",
   "metadata": {},
   "outputs": [
    {
     "data": {
      "text/plain": [
       "array([9.92248900e-01, 1.80935707e-03, 7.80198300e-04])"
      ]
     },
     "execution_count": 60,
     "metadata": {},
     "output_type": "execute_result"
    }
   ],
   "source": [
    "explained_variance = pca.explained_variance_ratio_\n",
    "explained_variance"
   ]
  },
  {
   "cell_type": "markdown",
   "id": "ce7df8d3",
   "metadata": {},
   "source": [
    "A calculation and representation of the cumulative variance and the variance is shown below. You can zoom in in the plots if you want."
   ]
  },
  {
   "cell_type": "code",
   "execution_count": 61,
   "id": "c87f103c",
   "metadata": {},
   "outputs": [
    {
     "data": {
      "text/html": [
       "<div>\n",
       "<style scoped>\n",
       "    .dataframe tbody tr th:only-of-type {\n",
       "        vertical-align: middle;\n",
       "    }\n",
       "\n",
       "    .dataframe tbody tr th {\n",
       "        vertical-align: top;\n",
       "    }\n",
       "\n",
       "    .dataframe thead th {\n",
       "        text-align: right;\n",
       "    }\n",
       "</style>\n",
       "<table border=\"1\" class=\"dataframe\">\n",
       "  <thead>\n",
       "    <tr style=\"text-align: right;\">\n",
       "      <th></th>\n",
       "      <th>PC</th>\n",
       "      <th>Explained Variance</th>\n",
       "      <th>Cumulative Variance</th>\n",
       "    </tr>\n",
       "  </thead>\n",
       "  <tbody>\n",
       "    <tr>\n",
       "      <th>0</th>\n",
       "      <td></td>\n",
       "      <td>0.000000</td>\n",
       "      <td>0.000</td>\n",
       "    </tr>\n",
       "    <tr>\n",
       "      <th>1</th>\n",
       "      <td>PC1</td>\n",
       "      <td>0.992249</td>\n",
       "      <td>0.992</td>\n",
       "    </tr>\n",
       "    <tr>\n",
       "      <th>2</th>\n",
       "      <td>PC2</td>\n",
       "      <td>0.001809</td>\n",
       "      <td>0.994</td>\n",
       "    </tr>\n",
       "    <tr>\n",
       "      <th>3</th>\n",
       "      <td>PC3</td>\n",
       "      <td>0.000780</td>\n",
       "      <td>0.995</td>\n",
       "    </tr>\n",
       "  </tbody>\n",
       "</table>\n",
       "</div>"
      ],
      "text/plain": [
       "    PC  Explained Variance  Cumulative Variance\n",
       "0                 0.000000                0.000\n",
       "1  PC1            0.992249                0.992\n",
       "2  PC2            0.001809                0.994\n",
       "3  PC3            0.000780                0.995"
      ]
     },
     "execution_count": 61,
     "metadata": {},
     "output_type": "execute_result"
    }
   ],
   "source": [
    "import plotly.express as px\n",
    "\n",
    "explained_variance = np.insert(explained_variance, 0, 0)\n",
    "cumulative_variance = np.cumsum(np.round(explained_variance, decimals=3))\n",
    "pc_df = pd.DataFrame(['','PC1', 'PC2', 'PC3'], columns=['PC'])\n",
    "explained_variance_df = pd.DataFrame(explained_variance, columns=['Explained Variance'])\n",
    "cumulative_variance_df = pd.DataFrame(cumulative_variance, columns=['Cumulative Variance'])\n",
    "df_explained_variance = pd.concat([pc_df, explained_variance_df, cumulative_variance_df], axis=1)\n",
    "df_explained_variance"
   ]
  },
  {
   "cell_type": "code",
   "execution_count": 62,
   "id": "752cc5b6",
   "metadata": {},
   "outputs": [
    {
     "data": {
      "application/vnd.plotly.v1+json": {
       "config": {
        "plotlyServerURL": "https://plot.ly"
       },
       "data": [
        {
         "marker": {
          "color": "LightSeaGreen",
          "size": 15
         },
         "type": "scatter",
         "x": [
          "",
          "PC1",
          "PC2",
          "PC3"
         ],
         "y": [
          0,
          0.992,
          0.994,
          0.995
         ]
        },
        {
         "marker": {
          "color": "RoyalBlue"
         },
         "type": "bar",
         "x": [
          "",
          "PC1",
          "PC2",
          "PC3"
         ],
         "y": [
          0,
          0.9922489004867966,
          0.0018093570705004366,
          0.0007801982997060113
         ]
        }
       ],
       "layout": {
        "template": {
         "data": {
          "bar": [
           {
            "error_x": {
             "color": "#2a3f5f"
            },
            "error_y": {
             "color": "#2a3f5f"
            },
            "marker": {
             "line": {
              "color": "#E5ECF6",
              "width": 0.5
             },
             "pattern": {
              "fillmode": "overlay",
              "size": 10,
              "solidity": 0.2
             }
            },
            "type": "bar"
           }
          ],
          "barpolar": [
           {
            "marker": {
             "line": {
              "color": "#E5ECF6",
              "width": 0.5
             },
             "pattern": {
              "fillmode": "overlay",
              "size": 10,
              "solidity": 0.2
             }
            },
            "type": "barpolar"
           }
          ],
          "carpet": [
           {
            "aaxis": {
             "endlinecolor": "#2a3f5f",
             "gridcolor": "white",
             "linecolor": "white",
             "minorgridcolor": "white",
             "startlinecolor": "#2a3f5f"
            },
            "baxis": {
             "endlinecolor": "#2a3f5f",
             "gridcolor": "white",
             "linecolor": "white",
             "minorgridcolor": "white",
             "startlinecolor": "#2a3f5f"
            },
            "type": "carpet"
           }
          ],
          "choropleth": [
           {
            "colorbar": {
             "outlinewidth": 0,
             "ticks": ""
            },
            "type": "choropleth"
           }
          ],
          "contour": [
           {
            "colorbar": {
             "outlinewidth": 0,
             "ticks": ""
            },
            "colorscale": [
             [
              0,
              "#0d0887"
             ],
             [
              0.1111111111111111,
              "#46039f"
             ],
             [
              0.2222222222222222,
              "#7201a8"
             ],
             [
              0.3333333333333333,
              "#9c179e"
             ],
             [
              0.4444444444444444,
              "#bd3786"
             ],
             [
              0.5555555555555556,
              "#d8576b"
             ],
             [
              0.6666666666666666,
              "#ed7953"
             ],
             [
              0.7777777777777778,
              "#fb9f3a"
             ],
             [
              0.8888888888888888,
              "#fdca26"
             ],
             [
              1,
              "#f0f921"
             ]
            ],
            "type": "contour"
           }
          ],
          "contourcarpet": [
           {
            "colorbar": {
             "outlinewidth": 0,
             "ticks": ""
            },
            "type": "contourcarpet"
           }
          ],
          "heatmap": [
           {
            "colorbar": {
             "outlinewidth": 0,
             "ticks": ""
            },
            "colorscale": [
             [
              0,
              "#0d0887"
             ],
             [
              0.1111111111111111,
              "#46039f"
             ],
             [
              0.2222222222222222,
              "#7201a8"
             ],
             [
              0.3333333333333333,
              "#9c179e"
             ],
             [
              0.4444444444444444,
              "#bd3786"
             ],
             [
              0.5555555555555556,
              "#d8576b"
             ],
             [
              0.6666666666666666,
              "#ed7953"
             ],
             [
              0.7777777777777778,
              "#fb9f3a"
             ],
             [
              0.8888888888888888,
              "#fdca26"
             ],
             [
              1,
              "#f0f921"
             ]
            ],
            "type": "heatmap"
           }
          ],
          "heatmapgl": [
           {
            "colorbar": {
             "outlinewidth": 0,
             "ticks": ""
            },
            "colorscale": [
             [
              0,
              "#0d0887"
             ],
             [
              0.1111111111111111,
              "#46039f"
             ],
             [
              0.2222222222222222,
              "#7201a8"
             ],
             [
              0.3333333333333333,
              "#9c179e"
             ],
             [
              0.4444444444444444,
              "#bd3786"
             ],
             [
              0.5555555555555556,
              "#d8576b"
             ],
             [
              0.6666666666666666,
              "#ed7953"
             ],
             [
              0.7777777777777778,
              "#fb9f3a"
             ],
             [
              0.8888888888888888,
              "#fdca26"
             ],
             [
              1,
              "#f0f921"
             ]
            ],
            "type": "heatmapgl"
           }
          ],
          "histogram": [
           {
            "marker": {
             "pattern": {
              "fillmode": "overlay",
              "size": 10,
              "solidity": 0.2
             }
            },
            "type": "histogram"
           }
          ],
          "histogram2d": [
           {
            "colorbar": {
             "outlinewidth": 0,
             "ticks": ""
            },
            "colorscale": [
             [
              0,
              "#0d0887"
             ],
             [
              0.1111111111111111,
              "#46039f"
             ],
             [
              0.2222222222222222,
              "#7201a8"
             ],
             [
              0.3333333333333333,
              "#9c179e"
             ],
             [
              0.4444444444444444,
              "#bd3786"
             ],
             [
              0.5555555555555556,
              "#d8576b"
             ],
             [
              0.6666666666666666,
              "#ed7953"
             ],
             [
              0.7777777777777778,
              "#fb9f3a"
             ],
             [
              0.8888888888888888,
              "#fdca26"
             ],
             [
              1,
              "#f0f921"
             ]
            ],
            "type": "histogram2d"
           }
          ],
          "histogram2dcontour": [
           {
            "colorbar": {
             "outlinewidth": 0,
             "ticks": ""
            },
            "colorscale": [
             [
              0,
              "#0d0887"
             ],
             [
              0.1111111111111111,
              "#46039f"
             ],
             [
              0.2222222222222222,
              "#7201a8"
             ],
             [
              0.3333333333333333,
              "#9c179e"
             ],
             [
              0.4444444444444444,
              "#bd3786"
             ],
             [
              0.5555555555555556,
              "#d8576b"
             ],
             [
              0.6666666666666666,
              "#ed7953"
             ],
             [
              0.7777777777777778,
              "#fb9f3a"
             ],
             [
              0.8888888888888888,
              "#fdca26"
             ],
             [
              1,
              "#f0f921"
             ]
            ],
            "type": "histogram2dcontour"
           }
          ],
          "mesh3d": [
           {
            "colorbar": {
             "outlinewidth": 0,
             "ticks": ""
            },
            "type": "mesh3d"
           }
          ],
          "parcoords": [
           {
            "line": {
             "colorbar": {
              "outlinewidth": 0,
              "ticks": ""
             }
            },
            "type": "parcoords"
           }
          ],
          "pie": [
           {
            "automargin": true,
            "type": "pie"
           }
          ],
          "scatter": [
           {
            "fillpattern": {
             "fillmode": "overlay",
             "size": 10,
             "solidity": 0.2
            },
            "type": "scatter"
           }
          ],
          "scatter3d": [
           {
            "line": {
             "colorbar": {
              "outlinewidth": 0,
              "ticks": ""
             }
            },
            "marker": {
             "colorbar": {
              "outlinewidth": 0,
              "ticks": ""
             }
            },
            "type": "scatter3d"
           }
          ],
          "scattercarpet": [
           {
            "marker": {
             "colorbar": {
              "outlinewidth": 0,
              "ticks": ""
             }
            },
            "type": "scattercarpet"
           }
          ],
          "scattergeo": [
           {
            "marker": {
             "colorbar": {
              "outlinewidth": 0,
              "ticks": ""
             }
            },
            "type": "scattergeo"
           }
          ],
          "scattergl": [
           {
            "marker": {
             "colorbar": {
              "outlinewidth": 0,
              "ticks": ""
             }
            },
            "type": "scattergl"
           }
          ],
          "scattermapbox": [
           {
            "marker": {
             "colorbar": {
              "outlinewidth": 0,
              "ticks": ""
             }
            },
            "type": "scattermapbox"
           }
          ],
          "scatterpolar": [
           {
            "marker": {
             "colorbar": {
              "outlinewidth": 0,
              "ticks": ""
             }
            },
            "type": "scatterpolar"
           }
          ],
          "scatterpolargl": [
           {
            "marker": {
             "colorbar": {
              "outlinewidth": 0,
              "ticks": ""
             }
            },
            "type": "scatterpolargl"
           }
          ],
          "scatterternary": [
           {
            "marker": {
             "colorbar": {
              "outlinewidth": 0,
              "ticks": ""
             }
            },
            "type": "scatterternary"
           }
          ],
          "surface": [
           {
            "colorbar": {
             "outlinewidth": 0,
             "ticks": ""
            },
            "colorscale": [
             [
              0,
              "#0d0887"
             ],
             [
              0.1111111111111111,
              "#46039f"
             ],
             [
              0.2222222222222222,
              "#7201a8"
             ],
             [
              0.3333333333333333,
              "#9c179e"
             ],
             [
              0.4444444444444444,
              "#bd3786"
             ],
             [
              0.5555555555555556,
              "#d8576b"
             ],
             [
              0.6666666666666666,
              "#ed7953"
             ],
             [
              0.7777777777777778,
              "#fb9f3a"
             ],
             [
              0.8888888888888888,
              "#fdca26"
             ],
             [
              1,
              "#f0f921"
             ]
            ],
            "type": "surface"
           }
          ],
          "table": [
           {
            "cells": {
             "fill": {
              "color": "#EBF0F8"
             },
             "line": {
              "color": "white"
             }
            },
            "header": {
             "fill": {
              "color": "#C8D4E3"
             },
             "line": {
              "color": "white"
             }
            },
            "type": "table"
           }
          ]
         },
         "layout": {
          "annotationdefaults": {
           "arrowcolor": "#2a3f5f",
           "arrowhead": 0,
           "arrowwidth": 1
          },
          "autotypenumbers": "strict",
          "coloraxis": {
           "colorbar": {
            "outlinewidth": 0,
            "ticks": ""
           }
          },
          "colorscale": {
           "diverging": [
            [
             0,
             "#8e0152"
            ],
            [
             0.1,
             "#c51b7d"
            ],
            [
             0.2,
             "#de77ae"
            ],
            [
             0.3,
             "#f1b6da"
            ],
            [
             0.4,
             "#fde0ef"
            ],
            [
             0.5,
             "#f7f7f7"
            ],
            [
             0.6,
             "#e6f5d0"
            ],
            [
             0.7,
             "#b8e186"
            ],
            [
             0.8,
             "#7fbc41"
            ],
            [
             0.9,
             "#4d9221"
            ],
            [
             1,
             "#276419"
            ]
           ],
           "sequential": [
            [
             0,
             "#0d0887"
            ],
            [
             0.1111111111111111,
             "#46039f"
            ],
            [
             0.2222222222222222,
             "#7201a8"
            ],
            [
             0.3333333333333333,
             "#9c179e"
            ],
            [
             0.4444444444444444,
             "#bd3786"
            ],
            [
             0.5555555555555556,
             "#d8576b"
            ],
            [
             0.6666666666666666,
             "#ed7953"
            ],
            [
             0.7777777777777778,
             "#fb9f3a"
            ],
            [
             0.8888888888888888,
             "#fdca26"
            ],
            [
             1,
             "#f0f921"
            ]
           ],
           "sequentialminus": [
            [
             0,
             "#0d0887"
            ],
            [
             0.1111111111111111,
             "#46039f"
            ],
            [
             0.2222222222222222,
             "#7201a8"
            ],
            [
             0.3333333333333333,
             "#9c179e"
            ],
            [
             0.4444444444444444,
             "#bd3786"
            ],
            [
             0.5555555555555556,
             "#d8576b"
            ],
            [
             0.6666666666666666,
             "#ed7953"
            ],
            [
             0.7777777777777778,
             "#fb9f3a"
            ],
            [
             0.8888888888888888,
             "#fdca26"
            ],
            [
             1,
             "#f0f921"
            ]
           ]
          },
          "colorway": [
           "#636efa",
           "#EF553B",
           "#00cc96",
           "#ab63fa",
           "#FFA15A",
           "#19d3f3",
           "#FF6692",
           "#B6E880",
           "#FF97FF",
           "#FECB52"
          ],
          "font": {
           "color": "#2a3f5f"
          },
          "geo": {
           "bgcolor": "white",
           "lakecolor": "white",
           "landcolor": "#E5ECF6",
           "showlakes": true,
           "showland": true,
           "subunitcolor": "white"
          },
          "hoverlabel": {
           "align": "left"
          },
          "hovermode": "closest",
          "mapbox": {
           "style": "light"
          },
          "paper_bgcolor": "white",
          "plot_bgcolor": "#E5ECF6",
          "polar": {
           "angularaxis": {
            "gridcolor": "white",
            "linecolor": "white",
            "ticks": ""
           },
           "bgcolor": "#E5ECF6",
           "radialaxis": {
            "gridcolor": "white",
            "linecolor": "white",
            "ticks": ""
           }
          },
          "scene": {
           "xaxis": {
            "backgroundcolor": "#E5ECF6",
            "gridcolor": "white",
            "gridwidth": 2,
            "linecolor": "white",
            "showbackground": true,
            "ticks": "",
            "zerolinecolor": "white"
           },
           "yaxis": {
            "backgroundcolor": "#E5ECF6",
            "gridcolor": "white",
            "gridwidth": 2,
            "linecolor": "white",
            "showbackground": true,
            "ticks": "",
            "zerolinecolor": "white"
           },
           "zaxis": {
            "backgroundcolor": "#E5ECF6",
            "gridcolor": "white",
            "gridwidth": 2,
            "linecolor": "white",
            "showbackground": true,
            "ticks": "",
            "zerolinecolor": "white"
           }
          },
          "shapedefaults": {
           "line": {
            "color": "#2a3f5f"
           }
          },
          "ternary": {
           "aaxis": {
            "gridcolor": "white",
            "linecolor": "white",
            "ticks": ""
           },
           "baxis": {
            "gridcolor": "white",
            "linecolor": "white",
            "ticks": ""
           },
           "bgcolor": "#E5ECF6",
           "caxis": {
            "gridcolor": "white",
            "linecolor": "white",
            "ticks": ""
           }
          },
          "title": {
           "x": 0.05
          },
          "xaxis": {
           "automargin": true,
           "gridcolor": "white",
           "linecolor": "white",
           "ticks": "",
           "title": {
            "standoff": 15
           },
           "zerolinecolor": "white",
           "zerolinewidth": 2
          },
          "yaxis": {
           "automargin": true,
           "gridcolor": "white",
           "linecolor": "white",
           "ticks": "",
           "title": {
            "standoff": 15
           },
           "zerolinecolor": "white",
           "zerolinewidth": 2
          }
         }
        }
       }
      },
      "text/html": [
       "<div>                            <div id=\"412bb80c-6030-4a43-82cf-4787c3660f89\" class=\"plotly-graph-div\" style=\"height:525px; width:100%;\"></div>            <script type=\"text/javascript\">                require([\"plotly\"], function(Plotly) {                    window.PLOTLYENV=window.PLOTLYENV || {};                                    if (document.getElementById(\"412bb80c-6030-4a43-82cf-4787c3660f89\")) {                    Plotly.newPlot(                        \"412bb80c-6030-4a43-82cf-4787c3660f89\",                        [{\"marker\":{\"color\":\"LightSeaGreen\",\"size\":15},\"x\":[\"\",\"PC1\",\"PC2\",\"PC3\"],\"y\":[0.0,0.992,0.994,0.995],\"type\":\"scatter\"},{\"marker\":{\"color\":\"RoyalBlue\"},\"x\":[\"\",\"PC1\",\"PC2\",\"PC3\"],\"y\":[0.0,0.9922489004867966,0.0018093570705004366,0.0007801982997060113],\"type\":\"bar\"}],                        {\"template\":{\"data\":{\"histogram2dcontour\":[{\"type\":\"histogram2dcontour\",\"colorbar\":{\"outlinewidth\":0,\"ticks\":\"\"},\"colorscale\":[[0.0,\"#0d0887\"],[0.1111111111111111,\"#46039f\"],[0.2222222222222222,\"#7201a8\"],[0.3333333333333333,\"#9c179e\"],[0.4444444444444444,\"#bd3786\"],[0.5555555555555556,\"#d8576b\"],[0.6666666666666666,\"#ed7953\"],[0.7777777777777778,\"#fb9f3a\"],[0.8888888888888888,\"#fdca26\"],[1.0,\"#f0f921\"]]}],\"choropleth\":[{\"type\":\"choropleth\",\"colorbar\":{\"outlinewidth\":0,\"ticks\":\"\"}}],\"histogram2d\":[{\"type\":\"histogram2d\",\"colorbar\":{\"outlinewidth\":0,\"ticks\":\"\"},\"colorscale\":[[0.0,\"#0d0887\"],[0.1111111111111111,\"#46039f\"],[0.2222222222222222,\"#7201a8\"],[0.3333333333333333,\"#9c179e\"],[0.4444444444444444,\"#bd3786\"],[0.5555555555555556,\"#d8576b\"],[0.6666666666666666,\"#ed7953\"],[0.7777777777777778,\"#fb9f3a\"],[0.8888888888888888,\"#fdca26\"],[1.0,\"#f0f921\"]]}],\"heatmap\":[{\"type\":\"heatmap\",\"colorbar\":{\"outlinewidth\":0,\"ticks\":\"\"},\"colorscale\":[[0.0,\"#0d0887\"],[0.1111111111111111,\"#46039f\"],[0.2222222222222222,\"#7201a8\"],[0.3333333333333333,\"#9c179e\"],[0.4444444444444444,\"#bd3786\"],[0.5555555555555556,\"#d8576b\"],[0.6666666666666666,\"#ed7953\"],[0.7777777777777778,\"#fb9f3a\"],[0.8888888888888888,\"#fdca26\"],[1.0,\"#f0f921\"]]}],\"heatmapgl\":[{\"type\":\"heatmapgl\",\"colorbar\":{\"outlinewidth\":0,\"ticks\":\"\"},\"colorscale\":[[0.0,\"#0d0887\"],[0.1111111111111111,\"#46039f\"],[0.2222222222222222,\"#7201a8\"],[0.3333333333333333,\"#9c179e\"],[0.4444444444444444,\"#bd3786\"],[0.5555555555555556,\"#d8576b\"],[0.6666666666666666,\"#ed7953\"],[0.7777777777777778,\"#fb9f3a\"],[0.8888888888888888,\"#fdca26\"],[1.0,\"#f0f921\"]]}],\"contourcarpet\":[{\"type\":\"contourcarpet\",\"colorbar\":{\"outlinewidth\":0,\"ticks\":\"\"}}],\"contour\":[{\"type\":\"contour\",\"colorbar\":{\"outlinewidth\":0,\"ticks\":\"\"},\"colorscale\":[[0.0,\"#0d0887\"],[0.1111111111111111,\"#46039f\"],[0.2222222222222222,\"#7201a8\"],[0.3333333333333333,\"#9c179e\"],[0.4444444444444444,\"#bd3786\"],[0.5555555555555556,\"#d8576b\"],[0.6666666666666666,\"#ed7953\"],[0.7777777777777778,\"#fb9f3a\"],[0.8888888888888888,\"#fdca26\"],[1.0,\"#f0f921\"]]}],\"surface\":[{\"type\":\"surface\",\"colorbar\":{\"outlinewidth\":0,\"ticks\":\"\"},\"colorscale\":[[0.0,\"#0d0887\"],[0.1111111111111111,\"#46039f\"],[0.2222222222222222,\"#7201a8\"],[0.3333333333333333,\"#9c179e\"],[0.4444444444444444,\"#bd3786\"],[0.5555555555555556,\"#d8576b\"],[0.6666666666666666,\"#ed7953\"],[0.7777777777777778,\"#fb9f3a\"],[0.8888888888888888,\"#fdca26\"],[1.0,\"#f0f921\"]]}],\"mesh3d\":[{\"type\":\"mesh3d\",\"colorbar\":{\"outlinewidth\":0,\"ticks\":\"\"}}],\"scatter\":[{\"fillpattern\":{\"fillmode\":\"overlay\",\"size\":10,\"solidity\":0.2},\"type\":\"scatter\"}],\"parcoords\":[{\"type\":\"parcoords\",\"line\":{\"colorbar\":{\"outlinewidth\":0,\"ticks\":\"\"}}}],\"scatterpolargl\":[{\"type\":\"scatterpolargl\",\"marker\":{\"colorbar\":{\"outlinewidth\":0,\"ticks\":\"\"}}}],\"bar\":[{\"error_x\":{\"color\":\"#2a3f5f\"},\"error_y\":{\"color\":\"#2a3f5f\"},\"marker\":{\"line\":{\"color\":\"#E5ECF6\",\"width\":0.5},\"pattern\":{\"fillmode\":\"overlay\",\"size\":10,\"solidity\":0.2}},\"type\":\"bar\"}],\"scattergeo\":[{\"type\":\"scattergeo\",\"marker\":{\"colorbar\":{\"outlinewidth\":0,\"ticks\":\"\"}}}],\"scatterpolar\":[{\"type\":\"scatterpolar\",\"marker\":{\"colorbar\":{\"outlinewidth\":0,\"ticks\":\"\"}}}],\"histogram\":[{\"marker\":{\"pattern\":{\"fillmode\":\"overlay\",\"size\":10,\"solidity\":0.2}},\"type\":\"histogram\"}],\"scattergl\":[{\"type\":\"scattergl\",\"marker\":{\"colorbar\":{\"outlinewidth\":0,\"ticks\":\"\"}}}],\"scatter3d\":[{\"type\":\"scatter3d\",\"line\":{\"colorbar\":{\"outlinewidth\":0,\"ticks\":\"\"}},\"marker\":{\"colorbar\":{\"outlinewidth\":0,\"ticks\":\"\"}}}],\"scattermapbox\":[{\"type\":\"scattermapbox\",\"marker\":{\"colorbar\":{\"outlinewidth\":0,\"ticks\":\"\"}}}],\"scatterternary\":[{\"type\":\"scatterternary\",\"marker\":{\"colorbar\":{\"outlinewidth\":0,\"ticks\":\"\"}}}],\"scattercarpet\":[{\"type\":\"scattercarpet\",\"marker\":{\"colorbar\":{\"outlinewidth\":0,\"ticks\":\"\"}}}],\"carpet\":[{\"aaxis\":{\"endlinecolor\":\"#2a3f5f\",\"gridcolor\":\"white\",\"linecolor\":\"white\",\"minorgridcolor\":\"white\",\"startlinecolor\":\"#2a3f5f\"},\"baxis\":{\"endlinecolor\":\"#2a3f5f\",\"gridcolor\":\"white\",\"linecolor\":\"white\",\"minorgridcolor\":\"white\",\"startlinecolor\":\"#2a3f5f\"},\"type\":\"carpet\"}],\"table\":[{\"cells\":{\"fill\":{\"color\":\"#EBF0F8\"},\"line\":{\"color\":\"white\"}},\"header\":{\"fill\":{\"color\":\"#C8D4E3\"},\"line\":{\"color\":\"white\"}},\"type\":\"table\"}],\"barpolar\":[{\"marker\":{\"line\":{\"color\":\"#E5ECF6\",\"width\":0.5},\"pattern\":{\"fillmode\":\"overlay\",\"size\":10,\"solidity\":0.2}},\"type\":\"barpolar\"}],\"pie\":[{\"automargin\":true,\"type\":\"pie\"}]},\"layout\":{\"autotypenumbers\":\"strict\",\"colorway\":[\"#636efa\",\"#EF553B\",\"#00cc96\",\"#ab63fa\",\"#FFA15A\",\"#19d3f3\",\"#FF6692\",\"#B6E880\",\"#FF97FF\",\"#FECB52\"],\"font\":{\"color\":\"#2a3f5f\"},\"hovermode\":\"closest\",\"hoverlabel\":{\"align\":\"left\"},\"paper_bgcolor\":\"white\",\"plot_bgcolor\":\"#E5ECF6\",\"polar\":{\"bgcolor\":\"#E5ECF6\",\"angularaxis\":{\"gridcolor\":\"white\",\"linecolor\":\"white\",\"ticks\":\"\"},\"radialaxis\":{\"gridcolor\":\"white\",\"linecolor\":\"white\",\"ticks\":\"\"}},\"ternary\":{\"bgcolor\":\"#E5ECF6\",\"aaxis\":{\"gridcolor\":\"white\",\"linecolor\":\"white\",\"ticks\":\"\"},\"baxis\":{\"gridcolor\":\"white\",\"linecolor\":\"white\",\"ticks\":\"\"},\"caxis\":{\"gridcolor\":\"white\",\"linecolor\":\"white\",\"ticks\":\"\"}},\"coloraxis\":{\"colorbar\":{\"outlinewidth\":0,\"ticks\":\"\"}},\"colorscale\":{\"sequential\":[[0.0,\"#0d0887\"],[0.1111111111111111,\"#46039f\"],[0.2222222222222222,\"#7201a8\"],[0.3333333333333333,\"#9c179e\"],[0.4444444444444444,\"#bd3786\"],[0.5555555555555556,\"#d8576b\"],[0.6666666666666666,\"#ed7953\"],[0.7777777777777778,\"#fb9f3a\"],[0.8888888888888888,\"#fdca26\"],[1.0,\"#f0f921\"]],\"sequentialminus\":[[0.0,\"#0d0887\"],[0.1111111111111111,\"#46039f\"],[0.2222222222222222,\"#7201a8\"],[0.3333333333333333,\"#9c179e\"],[0.4444444444444444,\"#bd3786\"],[0.5555555555555556,\"#d8576b\"],[0.6666666666666666,\"#ed7953\"],[0.7777777777777778,\"#fb9f3a\"],[0.8888888888888888,\"#fdca26\"],[1.0,\"#f0f921\"]],\"diverging\":[[0,\"#8e0152\"],[0.1,\"#c51b7d\"],[0.2,\"#de77ae\"],[0.3,\"#f1b6da\"],[0.4,\"#fde0ef\"],[0.5,\"#f7f7f7\"],[0.6,\"#e6f5d0\"],[0.7,\"#b8e186\"],[0.8,\"#7fbc41\"],[0.9,\"#4d9221\"],[1,\"#276419\"]]},\"xaxis\":{\"gridcolor\":\"white\",\"linecolor\":\"white\",\"ticks\":\"\",\"title\":{\"standoff\":15},\"zerolinecolor\":\"white\",\"automargin\":true,\"zerolinewidth\":2},\"yaxis\":{\"gridcolor\":\"white\",\"linecolor\":\"white\",\"ticks\":\"\",\"title\":{\"standoff\":15},\"zerolinecolor\":\"white\",\"automargin\":true,\"zerolinewidth\":2},\"scene\":{\"xaxis\":{\"backgroundcolor\":\"#E5ECF6\",\"gridcolor\":\"white\",\"linecolor\":\"white\",\"showbackground\":true,\"ticks\":\"\",\"zerolinecolor\":\"white\",\"gridwidth\":2},\"yaxis\":{\"backgroundcolor\":\"#E5ECF6\",\"gridcolor\":\"white\",\"linecolor\":\"white\",\"showbackground\":true,\"ticks\":\"\",\"zerolinecolor\":\"white\",\"gridwidth\":2},\"zaxis\":{\"backgroundcolor\":\"#E5ECF6\",\"gridcolor\":\"white\",\"linecolor\":\"white\",\"showbackground\":true,\"ticks\":\"\",\"zerolinecolor\":\"white\",\"gridwidth\":2}},\"shapedefaults\":{\"line\":{\"color\":\"#2a3f5f\"}},\"annotationdefaults\":{\"arrowcolor\":\"#2a3f5f\",\"arrowhead\":0,\"arrowwidth\":1},\"geo\":{\"bgcolor\":\"white\",\"landcolor\":\"#E5ECF6\",\"subunitcolor\":\"white\",\"showland\":true,\"showlakes\":true,\"lakecolor\":\"white\"},\"title\":{\"x\":0.05},\"mapbox\":{\"style\":\"light\"}}}},                        {\"responsive\": true}                    ).then(function(){\n",
       "                            \n",
       "var gd = document.getElementById('412bb80c-6030-4a43-82cf-4787c3660f89');\n",
       "var x = new MutationObserver(function (mutations, observer) {{\n",
       "        var display = window.getComputedStyle(gd).display;\n",
       "        if (!display || display === 'none') {{\n",
       "            console.log([gd, 'removed!']);\n",
       "            Plotly.purge(gd);\n",
       "            observer.disconnect();\n",
       "        }}\n",
       "}});\n",
       "\n",
       "// Listen for the removal of the full notebook cells\n",
       "var notebookContainer = gd.closest('#notebook-container');\n",
       "if (notebookContainer) {{\n",
       "    x.observe(notebookContainer, {childList: true});\n",
       "}}\n",
       "\n",
       "// Listen for the clearing of the current output cell\n",
       "var outputEl = gd.closest('.output');\n",
       "if (outputEl) {{\n",
       "    x.observe(outputEl, {childList: true});\n",
       "}}\n",
       "\n",
       "                        })                };                });            </script>        </div>"
      ]
     },
     "metadata": {},
     "output_type": "display_data"
    }
   ],
   "source": [
    "import plotly.graph_objects as go\n",
    "\n",
    "fig = go.Figure()\n",
    "\n",
    "fig.add_trace(\n",
    "    go.Scatter(\n",
    "        x=df_explained_variance['PC'],\n",
    "        y=df_explained_variance['Cumulative Variance'],\n",
    "        marker=dict(size=15, color=\"LightSeaGreen\")\n",
    "    ))\n",
    "\n",
    "fig.add_trace(\n",
    "    go.Bar(\n",
    "        x=df_explained_variance['PC'],\n",
    "        y=df_explained_variance['Explained Variance'],\n",
    "        marker=dict(color=\"RoyalBlue\")\n",
    "    ))\n",
    "\n",
    "fig.show()"
   ]
  },
  {
   "cell_type": "markdown",
   "id": "9867de42",
   "metadata": {},
   "source": [
    "#### 3D representation and clustering\n",
    "\n",
    "We finally plot the 3D scattered data. As said before, the three spectra that can be modified are shown in red. \n",
    "##### Cluster = 0\n",
    "We see that all the spectra are in the same cluster with a well defined shape. This is because the spectra are actually synthetic spectra, which means that they are strongly correlated. In a real case we should expect a bigger dispersion.\n",
    "##### Cluster = 1\n",
    "We can see how the three spectra are in other place, creating a mini cluster of three dots. We see that PCA can note the lack of some spectral lines pretty well. In case you are using real data, please remove the ranges and let the code autoscale the scatter plot, since maybe your PCA will be out of the boundaries of this plot.\n"
   ]
  },
  {
   "cell_type": "code",
   "execution_count": 74,
   "id": "71af4531",
   "metadata": {},
   "outputs": [
    {
     "name": "stdout",
     "output_type": "stream",
     "text": [
      "Runtime of the extraction: 1643.7 seconds\n"
     ]
    },
    {
     "data": {
      "application/vnd.plotly.v1+json": {
       "config": {
        "plotlyServerURL": "https://plot.ly"
       },
       "data": [
        {
         "customdata": [
          [
           0,
           1
          ],
          [
           1,
           23
          ],
          [
           1,
           24
          ],
          [
           1,
           25
          ],
          [
           1,
           26
          ],
          [
           1,
           27
          ],
          [
           2,
           18
          ],
          [
           2,
           19
          ],
          [
           2,
           20
          ],
          [
           2,
           21
          ],
          [
           2,
           22
          ],
          [
           2,
           23
          ],
          [
           2,
           24
          ],
          [
           2,
           25
          ],
          [
           2,
           26
          ],
          [
           2,
           27
          ],
          [
           2,
           28
          ],
          [
           2,
           30
          ],
          [
           2,
           31
          ],
          [
           2,
           32
          ],
          [
           2,
           33
          ],
          [
           2,
           34
          ],
          [
           3,
           18
          ],
          [
           3,
           19
          ],
          [
           3,
           20
          ],
          [
           3,
           21
          ],
          [
           3,
           22
          ],
          [
           3,
           23
          ],
          [
           3,
           24
          ],
          [
           3,
           25
          ],
          [
           3,
           26
          ],
          [
           3,
           27
          ],
          [
           3,
           28
          ],
          [
           3,
           29
          ],
          [
           3,
           30
          ],
          [
           3,
           31
          ],
          [
           3,
           32
          ],
          [
           3,
           33
          ],
          [
           3,
           34
          ],
          [
           3,
           35
          ],
          [
           3,
           38
          ],
          [
           3,
           39
          ],
          [
           3,
           40
          ],
          [
           3,
           41
          ],
          [
           4,
           9
          ],
          [
           4,
           17
          ],
          [
           4,
           18
          ],
          [
           4,
           19
          ],
          [
           4,
           20
          ],
          [
           4,
           21
          ],
          [
           4,
           22
          ],
          [
           4,
           23
          ],
          [
           4,
           24
          ],
          [
           4,
           25
          ],
          [
           4,
           26
          ],
          [
           4,
           27
          ],
          [
           4,
           28
          ],
          [
           4,
           29
          ],
          [
           4,
           30
          ],
          [
           4,
           31
          ],
          [
           4,
           32
          ],
          [
           4,
           33
          ],
          [
           4,
           34
          ],
          [
           4,
           35
          ],
          [
           4,
           36
          ],
          [
           4,
           37
          ],
          [
           4,
           38
          ],
          [
           4,
           39
          ],
          [
           4,
           40
          ],
          [
           4,
           41
          ],
          [
           4,
           42
          ],
          [
           5,
           7
          ],
          [
           5,
           8
          ],
          [
           5,
           9
          ],
          [
           5,
           10
          ],
          [
           5,
           11
          ],
          [
           5,
           12
          ],
          [
           5,
           13
          ],
          [
           5,
           14
          ],
          [
           5,
           17
          ],
          [
           5,
           18
          ],
          [
           5,
           19
          ],
          [
           5,
           20
          ],
          [
           5,
           21
          ],
          [
           5,
           22
          ],
          [
           5,
           23
          ],
          [
           5,
           24
          ],
          [
           5,
           25
          ],
          [
           5,
           26
          ],
          [
           5,
           27
          ],
          [
           5,
           28
          ],
          [
           5,
           29
          ],
          [
           5,
           30
          ],
          [
           5,
           31
          ],
          [
           5,
           32
          ],
          [
           5,
           33
          ],
          [
           5,
           34
          ],
          [
           5,
           35
          ],
          [
           5,
           36
          ],
          [
           5,
           37
          ],
          [
           5,
           38
          ],
          [
           5,
           39
          ],
          [
           5,
           40
          ],
          [
           5,
           41
          ],
          [
           5,
           42
          ],
          [
           6,
           5
          ],
          [
           6,
           6
          ],
          [
           6,
           7
          ],
          [
           6,
           8
          ],
          [
           6,
           9
          ],
          [
           6,
           10
          ],
          [
           6,
           11
          ],
          [
           6,
           12
          ],
          [
           6,
           13
          ],
          [
           6,
           14
          ],
          [
           6,
           16
          ],
          [
           6,
           17
          ],
          [
           6,
           18
          ],
          [
           6,
           19
          ],
          [
           6,
           20
          ],
          [
           6,
           21
          ],
          [
           6,
           22
          ],
          [
           6,
           23
          ],
          [
           6,
           24
          ],
          [
           6,
           25
          ],
          [
           6,
           26
          ],
          [
           6,
           27
          ],
          [
           6,
           28
          ],
          [
           6,
           29
          ],
          [
           6,
           30
          ],
          [
           6,
           31
          ],
          [
           6,
           32
          ],
          [
           6,
           33
          ],
          [
           6,
           34
          ],
          [
           6,
           35
          ],
          [
           6,
           36
          ],
          [
           6,
           37
          ],
          [
           6,
           38
          ],
          [
           6,
           39
          ],
          [
           6,
           40
          ],
          [
           6,
           41
          ],
          [
           6,
           42
          ],
          [
           7,
           5
          ],
          [
           7,
           6
          ],
          [
           7,
           7
          ],
          [
           7,
           8
          ],
          [
           7,
           9
          ],
          [
           7,
           10
          ],
          [
           7,
           11
          ],
          [
           7,
           12
          ],
          [
           7,
           13
          ],
          [
           7,
           14
          ],
          [
           7,
           15
          ],
          [
           7,
           16
          ],
          [
           7,
           17
          ],
          [
           7,
           18
          ],
          [
           7,
           19
          ],
          [
           7,
           20
          ],
          [
           7,
           21
          ],
          [
           7,
           22
          ],
          [
           7,
           23
          ],
          [
           7,
           24
          ],
          [
           7,
           25
          ],
          [
           7,
           26
          ],
          [
           7,
           27
          ],
          [
           7,
           28
          ],
          [
           7,
           29
          ],
          [
           7,
           30
          ],
          [
           7,
           31
          ],
          [
           7,
           32
          ],
          [
           7,
           33
          ],
          [
           7,
           34
          ],
          [
           7,
           35
          ],
          [
           7,
           36
          ],
          [
           7,
           37
          ],
          [
           7,
           38
          ],
          [
           7,
           39
          ],
          [
           7,
           40
          ],
          [
           7,
           41
          ],
          [
           7,
           42
          ],
          [
           8,
           5
          ],
          [
           8,
           6
          ],
          [
           8,
           7
          ],
          [
           8,
           8
          ],
          [
           8,
           9
          ],
          [
           8,
           10
          ],
          [
           8,
           11
          ],
          [
           8,
           12
          ],
          [
           8,
           13
          ],
          [
           8,
           14
          ],
          [
           8,
           15
          ],
          [
           8,
           16
          ],
          [
           8,
           17
          ],
          [
           8,
           18
          ],
          [
           8,
           19
          ],
          [
           8,
           20
          ],
          [
           8,
           21
          ],
          [
           8,
           22
          ],
          [
           8,
           23
          ],
          [
           8,
           24
          ],
          [
           8,
           25
          ],
          [
           8,
           26
          ],
          [
           8,
           27
          ],
          [
           8,
           28
          ],
          [
           8,
           29
          ],
          [
           8,
           30
          ],
          [
           8,
           31
          ],
          [
           8,
           32
          ],
          [
           8,
           33
          ],
          [
           8,
           34
          ],
          [
           8,
           35
          ],
          [
           8,
           36
          ],
          [
           8,
           37
          ],
          [
           8,
           38
          ],
          [
           8,
           39
          ],
          [
           8,
           40
          ],
          [
           8,
           41
          ],
          [
           8,
           42
          ],
          [
           9,
           5
          ],
          [
           9,
           6
          ],
          [
           9,
           7
          ],
          [
           9,
           8
          ],
          [
           9,
           9
          ],
          [
           9,
           10
          ],
          [
           9,
           11
          ],
          [
           9,
           12
          ],
          [
           9,
           13
          ],
          [
           9,
           14
          ],
          [
           9,
           15
          ],
          [
           9,
           16
          ],
          [
           9,
           17
          ],
          [
           9,
           18
          ],
          [
           9,
           19
          ],
          [
           9,
           20
          ],
          [
           9,
           21
          ],
          [
           9,
           22
          ],
          [
           9,
           23
          ],
          [
           9,
           24
          ],
          [
           9,
           25
          ],
          [
           9,
           26
          ],
          [
           9,
           27
          ],
          [
           9,
           28
          ],
          [
           9,
           29
          ],
          [
           9,
           30
          ],
          [
           9,
           31
          ],
          [
           9,
           32
          ],
          [
           9,
           33
          ],
          [
           9,
           34
          ],
          [
           9,
           35
          ],
          [
           9,
           36
          ],
          [
           9,
           37
          ],
          [
           9,
           38
          ],
          [
           9,
           39
          ],
          [
           9,
           40
          ],
          [
           9,
           41
          ],
          [
           9,
           42
          ],
          [
           10,
           4
          ],
          [
           10,
           5
          ],
          [
           10,
           6
          ],
          [
           10,
           7
          ],
          [
           10,
           8
          ],
          [
           10,
           9
          ],
          [
           10,
           10
          ],
          [
           10,
           11
          ],
          [
           10,
           12
          ],
          [
           10,
           13
          ],
          [
           10,
           14
          ],
          [
           10,
           15
          ],
          [
           10,
           16
          ],
          [
           10,
           17
          ],
          [
           10,
           18
          ],
          [
           10,
           19
          ],
          [
           10,
           20
          ],
          [
           10,
           21
          ],
          [
           10,
           22
          ],
          [
           10,
           23
          ],
          [
           10,
           24
          ],
          [
           10,
           25
          ],
          [
           10,
           26
          ],
          [
           10,
           27
          ],
          [
           10,
           28
          ],
          [
           10,
           29
          ],
          [
           10,
           30
          ],
          [
           10,
           31
          ],
          [
           10,
           32
          ],
          [
           10,
           33
          ],
          [
           10,
           34
          ],
          [
           10,
           35
          ],
          [
           10,
           36
          ],
          [
           10,
           37
          ],
          [
           10,
           38
          ],
          [
           10,
           39
          ],
          [
           10,
           40
          ],
          [
           10,
           41
          ],
          [
           10,
           42
          ],
          [
           11,
           4
          ],
          [
           11,
           5
          ],
          [
           11,
           6
          ],
          [
           11,
           7
          ],
          [
           11,
           8
          ],
          [
           11,
           9
          ],
          [
           11,
           10
          ],
          [
           11,
           11
          ],
          [
           11,
           12
          ],
          [
           11,
           13
          ],
          [
           11,
           14
          ],
          [
           11,
           15
          ],
          [
           11,
           16
          ],
          [
           11,
           17
          ],
          [
           11,
           18
          ],
          [
           11,
           19
          ],
          [
           11,
           20
          ],
          [
           11,
           21
          ],
          [
           11,
           22
          ],
          [
           11,
           23
          ],
          [
           11,
           24
          ],
          [
           11,
           25
          ],
          [
           11,
           26
          ],
          [
           11,
           27
          ],
          [
           11,
           28
          ],
          [
           11,
           29
          ],
          [
           11,
           30
          ],
          [
           11,
           31
          ],
          [
           11,
           32
          ],
          [
           11,
           33
          ],
          [
           11,
           34
          ],
          [
           11,
           35
          ],
          [
           11,
           36
          ],
          [
           11,
           37
          ],
          [
           11,
           38
          ],
          [
           11,
           39
          ],
          [
           11,
           40
          ],
          [
           11,
           41
          ],
          [
           11,
           42
          ],
          [
           12,
           4
          ],
          [
           12,
           5
          ],
          [
           12,
           6
          ],
          [
           12,
           7
          ],
          [
           12,
           8
          ],
          [
           12,
           9
          ],
          [
           12,
           10
          ],
          [
           12,
           11
          ],
          [
           12,
           12
          ],
          [
           12,
           13
          ],
          [
           12,
           14
          ],
          [
           12,
           15
          ],
          [
           12,
           16
          ],
          [
           12,
           17
          ],
          [
           12,
           18
          ],
          [
           12,
           19
          ],
          [
           12,
           20
          ],
          [
           12,
           21
          ],
          [
           12,
           22
          ],
          [
           12,
           23
          ],
          [
           12,
           24
          ],
          [
           12,
           25
          ],
          [
           12,
           26
          ],
          [
           12,
           27
          ],
          [
           12,
           28
          ],
          [
           12,
           29
          ],
          [
           12,
           30
          ],
          [
           12,
           31
          ],
          [
           12,
           32
          ],
          [
           12,
           33
          ],
          [
           12,
           34
          ],
          [
           12,
           35
          ],
          [
           12,
           36
          ],
          [
           12,
           37
          ],
          [
           12,
           38
          ],
          [
           12,
           39
          ],
          [
           12,
           40
          ],
          [
           12,
           41
          ],
          [
           13,
           3
          ],
          [
           13,
           4
          ],
          [
           13,
           5
          ],
          [
           13,
           6
          ],
          [
           13,
           7
          ],
          [
           13,
           8
          ],
          [
           13,
           9
          ],
          [
           13,
           10
          ],
          [
           13,
           11
          ],
          [
           13,
           12
          ],
          [
           13,
           13
          ],
          [
           13,
           14
          ],
          [
           13,
           15
          ],
          [
           13,
           16
          ],
          [
           13,
           17
          ],
          [
           13,
           18
          ],
          [
           13,
           19
          ],
          [
           13,
           20
          ],
          [
           13,
           21
          ],
          [
           13,
           22
          ],
          [
           13,
           23
          ],
          [
           13,
           24
          ],
          [
           13,
           25
          ],
          [
           13,
           26
          ],
          [
           13,
           27
          ],
          [
           13,
           28
          ],
          [
           13,
           29
          ],
          [
           13,
           30
          ],
          [
           13,
           31
          ],
          [
           13,
           32
          ],
          [
           13,
           33
          ],
          [
           13,
           34
          ],
          [
           13,
           35
          ],
          [
           13,
           36
          ],
          [
           13,
           37
          ],
          [
           13,
           38
          ],
          [
           13,
           39
          ],
          [
           13,
           40
          ],
          [
           13,
           41
          ],
          [
           14,
           3
          ],
          [
           14,
           4
          ],
          [
           14,
           5
          ],
          [
           14,
           6
          ],
          [
           14,
           7
          ],
          [
           14,
           8
          ],
          [
           14,
           9
          ],
          [
           14,
           10
          ],
          [
           14,
           11
          ],
          [
           14,
           12
          ],
          [
           14,
           13
          ],
          [
           14,
           14
          ],
          [
           14,
           15
          ],
          [
           14,
           16
          ],
          [
           14,
           17
          ],
          [
           14,
           18
          ],
          [
           14,
           19
          ],
          [
           14,
           20
          ],
          [
           14,
           21
          ],
          [
           14,
           22
          ],
          [
           14,
           23
          ],
          [
           14,
           24
          ],
          [
           14,
           25
          ],
          [
           14,
           26
          ],
          [
           14,
           27
          ],
          [
           14,
           28
          ],
          [
           14,
           29
          ],
          [
           14,
           30
          ],
          [
           14,
           31
          ],
          [
           14,
           32
          ],
          [
           14,
           33
          ],
          [
           14,
           34
          ],
          [
           14,
           35
          ],
          [
           14,
           36
          ],
          [
           14,
           37
          ],
          [
           14,
           38
          ],
          [
           14,
           39
          ],
          [
           14,
           40
          ],
          [
           14,
           41
          ],
          [
           15,
           3
          ],
          [
           15,
           4
          ],
          [
           15,
           5
          ],
          [
           15,
           6
          ],
          [
           15,
           7
          ],
          [
           15,
           8
          ],
          [
           15,
           9
          ],
          [
           15,
           10
          ],
          [
           15,
           11
          ],
          [
           15,
           12
          ],
          [
           15,
           13
          ],
          [
           15,
           14
          ],
          [
           15,
           15
          ],
          [
           15,
           16
          ],
          [
           15,
           17
          ],
          [
           15,
           18
          ],
          [
           15,
           19
          ],
          [
           15,
           20
          ],
          [
           15,
           21
          ],
          [
           15,
           22
          ],
          [
           15,
           23
          ],
          [
           15,
           24
          ],
          [
           15,
           25
          ],
          [
           15,
           26
          ],
          [
           15,
           27
          ],
          [
           15,
           28
          ],
          [
           15,
           29
          ],
          [
           15,
           30
          ],
          [
           15,
           31
          ],
          [
           15,
           32
          ],
          [
           15,
           33
          ],
          [
           15,
           34
          ],
          [
           15,
           35
          ],
          [
           15,
           36
          ],
          [
           15,
           37
          ],
          [
           15,
           38
          ],
          [
           15,
           39
          ],
          [
           15,
           40
          ],
          [
           15,
           41
          ],
          [
           16,
           3
          ],
          [
           16,
           4
          ],
          [
           16,
           5
          ],
          [
           16,
           6
          ],
          [
           16,
           7
          ],
          [
           16,
           8
          ],
          [
           16,
           9
          ],
          [
           16,
           10
          ],
          [
           16,
           11
          ],
          [
           16,
           12
          ],
          [
           16,
           13
          ],
          [
           16,
           14
          ],
          [
           16,
           15
          ],
          [
           16,
           16
          ],
          [
           16,
           17
          ],
          [
           16,
           18
          ],
          [
           16,
           19
          ],
          [
           16,
           20
          ],
          [
           16,
           21
          ],
          [
           16,
           22
          ],
          [
           16,
           23
          ],
          [
           16,
           24
          ],
          [
           16,
           25
          ],
          [
           16,
           26
          ],
          [
           16,
           27
          ],
          [
           16,
           28
          ],
          [
           16,
           29
          ],
          [
           16,
           30
          ],
          [
           16,
           31
          ],
          [
           16,
           32
          ],
          [
           16,
           33
          ],
          [
           16,
           34
          ],
          [
           16,
           35
          ],
          [
           16,
           36
          ],
          [
           16,
           37
          ],
          [
           16,
           38
          ],
          [
           16,
           39
          ],
          [
           16,
           40
          ],
          [
           16,
           41
          ],
          [
           17,
           3
          ],
          [
           17,
           4
          ],
          [
           17,
           5
          ],
          [
           17,
           6
          ],
          [
           17,
           7
          ],
          [
           17,
           8
          ],
          [
           17,
           9
          ],
          [
           17,
           10
          ],
          [
           17,
           11
          ],
          [
           17,
           12
          ],
          [
           17,
           13
          ],
          [
           17,
           14
          ],
          [
           17,
           15
          ],
          [
           17,
           16
          ],
          [
           17,
           17
          ],
          [
           17,
           18
          ],
          [
           17,
           19
          ],
          [
           17,
           20
          ],
          [
           17,
           21
          ],
          [
           17,
           22
          ],
          [
           17,
           23
          ],
          [
           17,
           24
          ],
          [
           17,
           25
          ],
          [
           17,
           26
          ],
          [
           17,
           27
          ],
          [
           17,
           28
          ],
          [
           17,
           29
          ],
          [
           17,
           30
          ],
          [
           17,
           31
          ],
          [
           17,
           32
          ],
          [
           17,
           33
          ],
          [
           17,
           34
          ],
          [
           17,
           35
          ],
          [
           17,
           36
          ],
          [
           17,
           37
          ],
          [
           17,
           38
          ],
          [
           17,
           39
          ],
          [
           17,
           40
          ],
          [
           18,
           3
          ],
          [
           18,
           4
          ],
          [
           18,
           5
          ],
          [
           18,
           6
          ],
          [
           18,
           7
          ],
          [
           18,
           8
          ],
          [
           18,
           9
          ],
          [
           18,
           10
          ],
          [
           18,
           11
          ],
          [
           18,
           12
          ],
          [
           18,
           13
          ],
          [
           18,
           14
          ],
          [
           18,
           15
          ],
          [
           18,
           16
          ],
          [
           18,
           17
          ],
          [
           18,
           18
          ],
          [
           18,
           19
          ],
          [
           18,
           20
          ],
          [
           18,
           21
          ],
          [
           18,
           22
          ],
          [
           18,
           23
          ],
          [
           18,
           24
          ],
          [
           18,
           25
          ],
          [
           18,
           26
          ],
          [
           18,
           27
          ],
          [
           18,
           28
          ],
          [
           18,
           29
          ],
          [
           18,
           30
          ],
          [
           18,
           31
          ],
          [
           18,
           32
          ],
          [
           18,
           33
          ],
          [
           18,
           34
          ],
          [
           18,
           35
          ],
          [
           18,
           36
          ],
          [
           18,
           37
          ],
          [
           18,
           38
          ],
          [
           18,
           39
          ],
          [
           18,
           40
          ],
          [
           19,
           3
          ],
          [
           19,
           4
          ],
          [
           19,
           5
          ],
          [
           19,
           6
          ],
          [
           19,
           7
          ],
          [
           19,
           8
          ],
          [
           19,
           9
          ],
          [
           19,
           10
          ],
          [
           19,
           11
          ],
          [
           19,
           12
          ],
          [
           19,
           13
          ],
          [
           19,
           14
          ],
          [
           19,
           15
          ],
          [
           19,
           16
          ],
          [
           19,
           17
          ],
          [
           19,
           18
          ],
          [
           19,
           19
          ],
          [
           19,
           20
          ],
          [
           19,
           21
          ],
          [
           19,
           22
          ],
          [
           19,
           23
          ],
          [
           19,
           24
          ],
          [
           19,
           25
          ],
          [
           19,
           26
          ],
          [
           19,
           27
          ],
          [
           19,
           28
          ],
          [
           19,
           29
          ],
          [
           19,
           30
          ],
          [
           19,
           31
          ],
          [
           19,
           32
          ],
          [
           19,
           33
          ],
          [
           19,
           34
          ],
          [
           19,
           35
          ],
          [
           19,
           36
          ],
          [
           19,
           37
          ],
          [
           19,
           38
          ],
          [
           19,
           39
          ],
          [
           19,
           40
          ],
          [
           20,
           3
          ],
          [
           20,
           4
          ],
          [
           20,
           5
          ],
          [
           20,
           6
          ],
          [
           20,
           7
          ],
          [
           20,
           8
          ],
          [
           20,
           9
          ],
          [
           20,
           10
          ],
          [
           20,
           11
          ],
          [
           20,
           12
          ],
          [
           20,
           13
          ],
          [
           20,
           14
          ],
          [
           20,
           15
          ],
          [
           20,
           16
          ],
          [
           20,
           17
          ],
          [
           20,
           18
          ],
          [
           20,
           19
          ],
          [
           20,
           20
          ],
          [
           20,
           21
          ],
          [
           20,
           22
          ],
          [
           20,
           23
          ],
          [
           20,
           24
          ],
          [
           20,
           25
          ],
          [
           20,
           26
          ],
          [
           20,
           27
          ],
          [
           20,
           28
          ],
          [
           20,
           29
          ],
          [
           20,
           30
          ],
          [
           20,
           31
          ],
          [
           20,
           32
          ],
          [
           20,
           33
          ],
          [
           20,
           34
          ],
          [
           20,
           35
          ],
          [
           20,
           36
          ],
          [
           20,
           37
          ],
          [
           20,
           38
          ],
          [
           20,
           39
          ],
          [
           20,
           40
          ],
          [
           21,
           3
          ],
          [
           21,
           4
          ],
          [
           21,
           5
          ],
          [
           21,
           6
          ],
          [
           21,
           7
          ],
          [
           21,
           8
          ],
          [
           21,
           9
          ],
          [
           21,
           10
          ],
          [
           21,
           11
          ],
          [
           21,
           12
          ],
          [
           21,
           13
          ],
          [
           21,
           14
          ],
          [
           21,
           15
          ],
          [
           21,
           16
          ],
          [
           21,
           17
          ],
          [
           21,
           18
          ],
          [
           21,
           19
          ],
          [
           21,
           20
          ],
          [
           21,
           21
          ],
          [
           21,
           22
          ],
          [
           21,
           23
          ],
          [
           21,
           24
          ],
          [
           21,
           25
          ],
          [
           21,
           26
          ],
          [
           21,
           27
          ],
          [
           21,
           28
          ],
          [
           21,
           29
          ],
          [
           21,
           30
          ],
          [
           21,
           31
          ],
          [
           21,
           32
          ],
          [
           21,
           33
          ],
          [
           21,
           34
          ],
          [
           21,
           35
          ],
          [
           21,
           36
          ],
          [
           21,
           37
          ],
          [
           21,
           38
          ],
          [
           21,
           39
          ],
          [
           21,
           40
          ],
          [
           22,
           3
          ],
          [
           22,
           4
          ],
          [
           22,
           5
          ],
          [
           22,
           6
          ],
          [
           22,
           7
          ],
          [
           22,
           8
          ],
          [
           22,
           9
          ],
          [
           22,
           10
          ],
          [
           22,
           11
          ],
          [
           22,
           12
          ],
          [
           22,
           13
          ],
          [
           22,
           14
          ],
          [
           22,
           15
          ],
          [
           22,
           16
          ],
          [
           22,
           17
          ],
          [
           22,
           18
          ],
          [
           22,
           19
          ],
          [
           22,
           20
          ],
          [
           22,
           21
          ],
          [
           22,
           22
          ],
          [
           22,
           23
          ],
          [
           22,
           24
          ],
          [
           22,
           25
          ],
          [
           22,
           26
          ],
          [
           22,
           27
          ],
          [
           22,
           28
          ],
          [
           22,
           29
          ],
          [
           22,
           30
          ],
          [
           22,
           31
          ],
          [
           22,
           32
          ],
          [
           22,
           33
          ],
          [
           22,
           34
          ],
          [
           22,
           35
          ],
          [
           22,
           36
          ],
          [
           22,
           37
          ],
          [
           22,
           38
          ],
          [
           22,
           39
          ],
          [
           23,
           2
          ],
          [
           23,
           3
          ],
          [
           23,
           4
          ],
          [
           23,
           5
          ],
          [
           23,
           6
          ],
          [
           23,
           7
          ],
          [
           23,
           8
          ],
          [
           23,
           9
          ],
          [
           23,
           10
          ],
          [
           23,
           11
          ],
          [
           23,
           12
          ],
          [
           23,
           13
          ],
          [
           23,
           14
          ],
          [
           23,
           15
          ],
          [
           23,
           16
          ],
          [
           23,
           17
          ],
          [
           23,
           18
          ],
          [
           23,
           19
          ],
          [
           23,
           20
          ],
          [
           23,
           21
          ],
          [
           23,
           22
          ],
          [
           23,
           23
          ],
          [
           23,
           24
          ],
          [
           23,
           25
          ],
          [
           23,
           26
          ],
          [
           23,
           27
          ],
          [
           23,
           28
          ],
          [
           23,
           29
          ],
          [
           23,
           30
          ],
          [
           23,
           31
          ],
          [
           23,
           32
          ],
          [
           23,
           33
          ],
          [
           23,
           34
          ],
          [
           23,
           35
          ],
          [
           23,
           36
          ],
          [
           23,
           37
          ],
          [
           23,
           38
          ],
          [
           23,
           39
          ],
          [
           24,
           2
          ],
          [
           24,
           3
          ],
          [
           24,
           4
          ],
          [
           24,
           5
          ],
          [
           24,
           6
          ],
          [
           24,
           7
          ],
          [
           24,
           8
          ],
          [
           24,
           9
          ],
          [
           24,
           10
          ],
          [
           24,
           11
          ],
          [
           24,
           12
          ],
          [
           24,
           13
          ],
          [
           24,
           14
          ],
          [
           24,
           15
          ],
          [
           24,
           16
          ],
          [
           24,
           17
          ],
          [
           24,
           18
          ],
          [
           24,
           19
          ],
          [
           24,
           20
          ],
          [
           24,
           21
          ],
          [
           24,
           22
          ],
          [
           24,
           23
          ],
          [
           24,
           24
          ],
          [
           24,
           25
          ],
          [
           24,
           26
          ],
          [
           24,
           27
          ],
          [
           24,
           28
          ],
          [
           24,
           29
          ],
          [
           24,
           30
          ],
          [
           24,
           31
          ],
          [
           24,
           32
          ],
          [
           24,
           33
          ],
          [
           24,
           34
          ],
          [
           24,
           35
          ],
          [
           24,
           36
          ],
          [
           24,
           37
          ],
          [
           24,
           38
          ],
          [
           24,
           39
          ],
          [
           25,
           2
          ],
          [
           25,
           3
          ],
          [
           25,
           4
          ],
          [
           25,
           5
          ],
          [
           25,
           6
          ],
          [
           25,
           7
          ],
          [
           25,
           8
          ],
          [
           25,
           9
          ],
          [
           25,
           10
          ],
          [
           25,
           11
          ],
          [
           25,
           12
          ],
          [
           25,
           13
          ],
          [
           25,
           14
          ],
          [
           25,
           15
          ],
          [
           25,
           16
          ],
          [
           25,
           17
          ],
          [
           25,
           18
          ],
          [
           25,
           19
          ],
          [
           25,
           20
          ],
          [
           25,
           21
          ],
          [
           25,
           22
          ],
          [
           25,
           23
          ],
          [
           25,
           24
          ],
          [
           25,
           25
          ],
          [
           25,
           26
          ],
          [
           25,
           27
          ],
          [
           25,
           28
          ],
          [
           25,
           29
          ],
          [
           25,
           30
          ],
          [
           25,
           31
          ],
          [
           25,
           32
          ],
          [
           25,
           33
          ],
          [
           25,
           34
          ],
          [
           25,
           35
          ],
          [
           25,
           36
          ],
          [
           25,
           37
          ],
          [
           25,
           38
          ],
          [
           25,
           39
          ],
          [
           26,
           2
          ],
          [
           26,
           3
          ],
          [
           26,
           4
          ],
          [
           26,
           5
          ],
          [
           26,
           6
          ],
          [
           26,
           7
          ],
          [
           26,
           8
          ],
          [
           26,
           9
          ],
          [
           26,
           10
          ],
          [
           26,
           11
          ],
          [
           26,
           12
          ],
          [
           26,
           13
          ],
          [
           26,
           14
          ],
          [
           26,
           15
          ],
          [
           26,
           16
          ],
          [
           26,
           17
          ],
          [
           26,
           18
          ],
          [
           26,
           19
          ],
          [
           26,
           20
          ],
          [
           26,
           21
          ],
          [
           26,
           22
          ],
          [
           26,
           23
          ],
          [
           26,
           24
          ],
          [
           26,
           25
          ],
          [
           26,
           26
          ],
          [
           26,
           27
          ],
          [
           26,
           28
          ],
          [
           26,
           29
          ],
          [
           26,
           30
          ],
          [
           26,
           31
          ],
          [
           26,
           32
          ],
          [
           26,
           33
          ],
          [
           26,
           34
          ],
          [
           26,
           35
          ],
          [
           26,
           36
          ],
          [
           26,
           37
          ],
          [
           26,
           38
          ],
          [
           26,
           39
          ],
          [
           27,
           1
          ],
          [
           27,
           2
          ],
          [
           27,
           3
          ],
          [
           27,
           4
          ],
          [
           27,
           5
          ],
          [
           27,
           6
          ],
          [
           27,
           7
          ],
          [
           27,
           8
          ],
          [
           27,
           9
          ],
          [
           27,
           10
          ],
          [
           27,
           11
          ],
          [
           27,
           12
          ],
          [
           27,
           13
          ],
          [
           27,
           14
          ],
          [
           27,
           15
          ],
          [
           27,
           16
          ],
          [
           27,
           17
          ],
          [
           27,
           18
          ],
          [
           27,
           19
          ],
          [
           27,
           20
          ],
          [
           27,
           21
          ],
          [
           27,
           22
          ],
          [
           27,
           23
          ],
          [
           27,
           24
          ],
          [
           27,
           25
          ],
          [
           27,
           26
          ],
          [
           27,
           27
          ],
          [
           27,
           28
          ],
          [
           27,
           29
          ],
          [
           27,
           30
          ],
          [
           27,
           31
          ],
          [
           27,
           32
          ],
          [
           27,
           33
          ],
          [
           27,
           34
          ],
          [
           27,
           35
          ],
          [
           27,
           36
          ],
          [
           27,
           37
          ],
          [
           27,
           38
          ],
          [
           27,
           39
          ],
          [
           28,
           1
          ],
          [
           28,
           2
          ],
          [
           28,
           3
          ],
          [
           28,
           4
          ],
          [
           28,
           5
          ],
          [
           28,
           6
          ],
          [
           28,
           7
          ],
          [
           28,
           8
          ],
          [
           28,
           9
          ],
          [
           28,
           10
          ],
          [
           28,
           11
          ],
          [
           28,
           12
          ],
          [
           28,
           13
          ],
          [
           28,
           14
          ],
          [
           28,
           15
          ],
          [
           28,
           16
          ],
          [
           28,
           17
          ],
          [
           28,
           18
          ],
          [
           28,
           19
          ],
          [
           28,
           20
          ],
          [
           28,
           21
          ],
          [
           28,
           22
          ],
          [
           28,
           23
          ],
          [
           28,
           24
          ],
          [
           28,
           25
          ],
          [
           28,
           26
          ],
          [
           28,
           27
          ],
          [
           28,
           28
          ],
          [
           28,
           29
          ],
          [
           28,
           30
          ],
          [
           28,
           31
          ],
          [
           28,
           32
          ],
          [
           28,
           33
          ],
          [
           28,
           34
          ],
          [
           28,
           35
          ],
          [
           28,
           36
          ],
          [
           28,
           37
          ],
          [
           28,
           38
          ],
          [
           28,
           39
          ],
          [
           29,
           1
          ],
          [
           29,
           2
          ],
          [
           29,
           3
          ],
          [
           29,
           4
          ],
          [
           29,
           5
          ],
          [
           29,
           6
          ],
          [
           29,
           7
          ],
          [
           29,
           8
          ],
          [
           29,
           9
          ],
          [
           29,
           10
          ],
          [
           29,
           11
          ],
          [
           29,
           12
          ],
          [
           29,
           13
          ],
          [
           29,
           14
          ],
          [
           29,
           15
          ],
          [
           29,
           16
          ],
          [
           29,
           17
          ],
          [
           29,
           18
          ],
          [
           29,
           19
          ],
          [
           29,
           20
          ],
          [
           29,
           21
          ],
          [
           29,
           22
          ],
          [
           29,
           23
          ],
          [
           29,
           24
          ],
          [
           29,
           25
          ],
          [
           29,
           26
          ],
          [
           29,
           27
          ],
          [
           29,
           28
          ],
          [
           29,
           29
          ],
          [
           29,
           30
          ],
          [
           29,
           31
          ],
          [
           29,
           32
          ],
          [
           29,
           33
          ],
          [
           29,
           34
          ],
          [
           29,
           35
          ],
          [
           29,
           36
          ],
          [
           29,
           37
          ],
          [
           29,
           38
          ],
          [
           29,
           39
          ],
          [
           30,
           1
          ],
          [
           30,
           2
          ],
          [
           30,
           3
          ],
          [
           30,
           4
          ],
          [
           30,
           5
          ],
          [
           30,
           6
          ],
          [
           30,
           7
          ],
          [
           30,
           8
          ],
          [
           30,
           9
          ],
          [
           30,
           10
          ],
          [
           30,
           11
          ],
          [
           30,
           12
          ],
          [
           30,
           13
          ],
          [
           30,
           14
          ],
          [
           30,
           15
          ],
          [
           30,
           16
          ],
          [
           30,
           17
          ],
          [
           30,
           18
          ],
          [
           30,
           19
          ],
          [
           30,
           20
          ],
          [
           30,
           21
          ],
          [
           30,
           22
          ],
          [
           30,
           23
          ],
          [
           30,
           24
          ],
          [
           30,
           25
          ],
          [
           30,
           26
          ],
          [
           30,
           27
          ],
          [
           30,
           28
          ],
          [
           30,
           29
          ],
          [
           30,
           30
          ],
          [
           30,
           31
          ],
          [
           30,
           32
          ],
          [
           30,
           33
          ],
          [
           30,
           34
          ],
          [
           30,
           35
          ],
          [
           30,
           36
          ],
          [
           30,
           37
          ],
          [
           30,
           38
          ],
          [
           31,
           1
          ],
          [
           31,
           2
          ],
          [
           31,
           3
          ],
          [
           31,
           4
          ],
          [
           31,
           5
          ],
          [
           31,
           6
          ],
          [
           31,
           7
          ],
          [
           31,
           8
          ],
          [
           31,
           9
          ],
          [
           31,
           10
          ],
          [
           31,
           11
          ],
          [
           31,
           12
          ],
          [
           31,
           13
          ],
          [
           31,
           14
          ],
          [
           31,
           15
          ],
          [
           31,
           16
          ],
          [
           31,
           17
          ],
          [
           31,
           18
          ],
          [
           31,
           19
          ],
          [
           31,
           20
          ],
          [
           31,
           21
          ],
          [
           31,
           22
          ],
          [
           31,
           23
          ],
          [
           31,
           24
          ],
          [
           31,
           25
          ],
          [
           31,
           26
          ],
          [
           31,
           27
          ],
          [
           31,
           28
          ],
          [
           31,
           29
          ],
          [
           31,
           30
          ],
          [
           31,
           31
          ],
          [
           31,
           32
          ],
          [
           31,
           33
          ],
          [
           31,
           34
          ],
          [
           31,
           35
          ],
          [
           31,
           36
          ],
          [
           31,
           37
          ],
          [
           31,
           38
          ],
          [
           32,
           1
          ],
          [
           32,
           2
          ],
          [
           32,
           3
          ],
          [
           32,
           4
          ],
          [
           32,
           5
          ],
          [
           32,
           6
          ],
          [
           32,
           7
          ],
          [
           32,
           8
          ],
          [
           32,
           9
          ],
          [
           32,
           10
          ],
          [
           32,
           11
          ],
          [
           32,
           12
          ],
          [
           32,
           13
          ],
          [
           32,
           14
          ],
          [
           32,
           15
          ],
          [
           32,
           16
          ],
          [
           32,
           17
          ],
          [
           32,
           18
          ],
          [
           32,
           19
          ],
          [
           32,
           20
          ],
          [
           32,
           21
          ],
          [
           32,
           22
          ],
          [
           32,
           23
          ],
          [
           32,
           24
          ],
          [
           32,
           25
          ],
          [
           32,
           26
          ],
          [
           32,
           35
          ],
          [
           32,
           36
          ],
          [
           32,
           37
          ],
          [
           33,
           2
          ],
          [
           33,
           3
          ],
          [
           33,
           4
          ],
          [
           33,
           5
          ],
          [
           33,
           6
          ],
          [
           33,
           7
          ],
          [
           33,
           8
          ],
          [
           33,
           9
          ],
          [
           33,
           10
          ],
          [
           33,
           11
          ],
          [
           33,
           12
          ],
          [
           33,
           13
          ],
          [
           33,
           14
          ],
          [
           33,
           15
          ],
          [
           33,
           16
          ],
          [
           33,
           17
          ],
          [
           33,
           18
          ],
          [
           33,
           19
          ],
          [
           33,
           20
          ],
          [
           33,
           21
          ],
          [
           33,
           22
          ],
          [
           33,
           23
          ],
          [
           33,
           24
          ],
          [
           33,
           25
          ],
          [
           33,
           26
          ],
          [
           34,
           9
          ],
          [
           34,
           10
          ],
          [
           34,
           11
          ],
          [
           34,
           12
          ],
          [
           34,
           13
          ],
          [
           34,
           14
          ],
          [
           34,
           15
          ],
          [
           34,
           16
          ],
          [
           34,
           17
          ],
          [
           34,
           18
          ],
          [
           34,
           19
          ],
          [
           34,
           20
          ],
          [
           34,
           21
          ],
          [
           34,
           22
          ],
          [
           34,
           23
          ],
          [
           34,
           24
          ],
          [
           34,
           25
          ],
          [
           34,
           26
          ],
          [
           35,
           16
          ],
          [
           35,
           17
          ],
          [
           35,
           18
          ],
          [
           35,
           19
          ],
          [
           35,
           20
          ],
          [
           35,
           21
          ],
          [
           35,
           22
          ],
          [
           35,
           24
          ],
          [
           35,
           25
          ],
          [
           36,
           24
          ]
         ],
         "hovertemplate": "color=blue<br>PC1=%{x}<br>PC2=%{y}<br>PC3=%{z}<br>x=%{customdata[0]}<br>y=%{customdata[1]}<extra></extra>",
         "legendgroup": "blue",
         "marker": {
          "color": "#636efa",
          "opacity": 0.5,
          "symbol": "circle"
         },
         "mode": "markers",
         "name": "blue",
         "scene": "scene",
         "showlegend": true,
         "type": "scatter3d",
         "x": [
          -19.51034521815636,
          -19.589953054324514,
          -19.601049926687793,
          -19.581246368365143,
          -19.56640810940777,
          -23.029982425963514,
          -22.558080330918475,
          -21.861486976771282,
          -21.728617922167953,
          -20.063701291472004,
          -19.53782736251697,
          -19.59554503159532,
          -19.597591856540827,
          -19.58532594843309,
          -19.567087074828244,
          -19.543661417604472,
          -19.613955249977593,
          -19.619979748845708,
          -19.631243391223236,
          -19.674854820368196,
          -19.699490507985892,
          -22.98307243267788,
          -22.462306141560358,
          -21.895697435041583,
          -21.852693879412243,
          -21.04756892076263,
          -19.991339069197814,
          -19.820126837171546,
          -19.738487159488564,
          -19.66719923367461,
          -19.62683116355513,
          -19.78549178100415,
          -19.864756739202786,
          -19.620935686248473,
          -19.626094052655382,
          -19.64085684751459,
          -19.677562682321117,
          -19.71193181969919,
          -19.872752023794327,
          -19.49305492456757,
          -19.55517117594466,
          -19.678381378087067,
          -20.116729297747398,
          -24.120787637123268,
          -23.288350868979684,
          -23.045606831656613,
          -22.321284097280788,
          -21.91964936747106,
          -21.859332051595793,
          -20.994419637159858,
          -20.102330466384107,
          -19.995518597414808,
          -19.951610432957846,
          -19.901502996515337,
          -19.896767312277646,
          -19.99968270024529,
          -20.054391787600668,
          -19.99282967138157,
          -19.918904881282327,
          -19.849143042630892,
          -19.79989971332932,
          -19.79331284701007,
          -19.905838385607787,
          -19.96627382809403,
          -19.65489495172552,
          -19.51778659451567,
          -19.566767685884088,
          -19.71712039937978,
          -20.22223825422078,
          -20.763515846052762,
          -24.693172007439784,
          -24.165736844811786,
          -24.120169017733527,
          -24.066245021454,
          -23.907269320666014,
          -22.222252588360803,
          -15.527375226264592,
          -10.051929655643523,
          -18.882204858414624,
          -21.519048475460963,
          -21.718859145760476,
          -21.9172973659033,
          -21.92445354617948,
          -21.259784787109268,
          -20.30691261369098,
          -20.22902076136214,
          -20.231906760357354,
          -20.18981278295047,
          -20.111059625167538,
          -20.09815637208962,
          -20.102568914571876,
          -20.10933657005326,
          -20.10044279157072,
          -20.07330415228678,
          -20.07479860167377,
          -20.11639804054148,
          -20.150717188556385,
          -20.155904787159464,
          -20.11005022091755,
          -20.007259411196,
          -19.906452139888973,
          -19.952081127787135,
          -20.445111935940034,
          -20.87322376835435,
          -20.829922986197722,
          -21.947695880003693,
          -22.904008626657617,
          -23.91176783529223,
          -24.062527521571837,
          -23.893885928837026,
          -23.700285432616734,
          -21.518708453867358,
          -14.518174899777087,
          -9.710360537043902,
          2.675671712869459,
          -3.4117432679099475,
          -8.203225460094705,
          -14.143822504115333,
          -20.680962265415822,
          -22.024680014887316,
          -20.92559886373251,
          -18.268371859718613,
          -17.456288339248992,
          -18.372625729727808,
          -18.78695344306524,
          -19.374220256489814,
          -19.86579614835206,
          -20.154675590492296,
          -20.314386490593037,
          -20.35427892583283,
          -20.33042673916119,
          -20.287252878390692,
          -20.257525015548865,
          -20.236572800823854,
          -20.213306677966514,
          -20.183031915580923,
          -20.19055511018124,
          -20.209237205406477,
          -20.358969655262165,
          -20.92451151389171,
          -21.110360708877888,
          -17.519795477492107,
          -15.953142418650263,
          -16.527399399356003,
          -22.297541063623363,
          -22.74739667394207,
          -17.572374355630316,
          -14.55230680270338,
          -12.847000110485428,
          -6.699027398068415,
          -2.5743605906061218,
          0.16937016916390593,
          2.571583367891489,
          0.9048255812837972,
          -4.342583524793827,
          -12.99154901451026,
          -20.2492001304346,
          -21.655530640557167,
          -18.958091530872675,
          -12.858687918717573,
          -4.946978798841747,
          4.604025891735013,
          12.792927401779812,
          11.632097336857546,
          1.2235052118503258,
          -10.445795374639593,
          -18.050675527447112,
          -20.34276840375762,
          -20.42747644008521,
          -20.395202151427164,
          -20.38275461286122,
          -20.373212795866298,
          -20.403565510081442,
          -20.447807510826735,
          -20.46752908791227,
          -20.492081383987983,
          -20.72991828187395,
          -21.254727688817972,
          -21.255927683548542,
          -19.541838397306417,
          -15.481926726624561,
          -13.61509118386945,
          -18.008898706084228,
          -19.424769361527407,
          -14.474756712409214,
          -9.944121185975769,
          -4.370831595984119,
          8.708147620952218,
          22.175891807932793,
          15.177330083726968,
          -4.56605791337403,
          -7.727663751537094,
          -7.903483941835896,
          -9.46550650867032,
          -11.839199758355837,
          -13.227395772901788,
          -12.071650589101493,
          -9.09167794811352,
          0.6275500963854068,
          24.848635556719653,
          37.528461149445675,
          29.93685538297344,
          10.810851908968754,
          -1.0280036257213159,
          -12.344791652601568,
          -19.81257254086812,
          -20.66796357198746,
          -20.76273581010428,
          -20.77751673455944,
          -20.75404155277154,
          -20.576369969826597,
          -19.381636878766294,
          -17.79665705885066,
          -18.39787336230895,
          -19.726267353283138,
          -20.82213603786804,
          -20.637532951388376,
          -17.7722993253716,
          -14.283169694149501,
          -10.458173203469627,
          -10.020249945153427,
          -10.111810163784494,
          -10.14911417786863,
          -9.982555916646955,
          -9.012670802824434,
          -4.623725756523314,
          4.728312789054053,
          7.895200699649413,
          2.057735281038312,
          1.5411478847386415,
          -1.789894570155681,
          -6.749140965841512,
          -8.838470290090806,
          -9.115256654445613,
          -9.06884987013307,
          -8.783460389005018,
          -7.392943584441541,
          -2.6992161863357387,
          3.7931433394207774,
          10.077003149009407,
          5.409484207990598,
          4.655795180693046,
          10.613656210266473,
          -0.827097402654,
          -13.270267748135273,
          -17.52007929790018,
          -20.05323442540188,
          -20.013845071054057,
          -19.945939797620458,
          -17.01146177955041,
          -10.125014044377771,
          -7.264661370861375,
          -7.846454945749262,
          -9.392936855802823,
          -11.957664387937307,
          -12.133709219605452,
          -12.0898877115321,
          -11.041180583711675,
          -9.294735019355839,
          -4.014491755525119,
          -2.3276969255521514,
          -8.331524374268621,
          -9.745767484433257,
          -8.701092345944788,
          -8.434034775317693,
          -6.9738502869992915,
          3.1444784461993494,
          15.892245212637441,
          17.699940835082074,
          11.050808413196478,
          2.889819584328641,
          -1.7234938912844273,
          -3.900084835087272,
          -5.459351196618406,
          -6.6101532144939,
          -8.024706988919071,
          -8.96636316087676,
          -8.74879852729438,
          -6.692826742758818,
          -6.477194849027207,
          -3.008217554475933,
          12.471088797498954,
          5.36237622054715,
          -6.214098806280959,
          -11.414090475471339,
          -16.595465080616506,
          -11.555733006364889,
          -8.661500122532196,
          -8.643027566680583,
          -7.6774388185743785,
          -6.97297824323219,
          -7.403615754134304,
          -8.1433059510508,
          -8.159188048231634,
          -10.65261324639577,
          -8.18510226969588,
          -6.495435921370508,
          -8.005057738878968,
          -1.9499709487125976,
          0.8650241595512369,
          -7.3714671551981645,
          -8.680519986600945,
          -0.6617768468318874,
          6.458507123084612,
          4.302779706848321,
          -1.8900255461837943,
          3.4476291164690798,
          8.744709995875652,
          13.625403602681299,
          20.65574968356713,
          18.989233266150734,
          12.238344883773962,
          6.634675029961574,
          3.4944898050699535,
          -3.1429991252223988,
          -8.275436936451417,
          -8.975684445319958,
          -8.857819570987042,
          -8.935712822785485,
          -8.652285392470876,
          -6.887960180838342,
          -6.535029705775674,
          -7.290437299569924,
          -8.710169307173626,
          -11.291863366471263,
          -9.156506702159026,
          -7.1144153594898825,
          -6.072536321534542,
          -5.997001603489937,
          -6.587376150777798,
          -7.582394874017752,
          -8.484286767000809,
          -8.552042889448936,
          -9.437094611853656,
          -3.7415464217421124,
          1.529946565745057,
          -6.5237883465792175,
          -9.848209638902414,
          -9.677149913142209,
          -10.243288016789302,
          -9.937973069703895,
          -5.226156778714124,
          1.0449403957719334,
          1.2290510504340084,
          -5.937454036714023,
          -8.639310772320844,
          -6.524697420618627,
          2.176680994844122,
          20.37728715957089,
          21.84421925289115,
          12.018556007701179,
          4.407206008589114,
          2.377908861404336,
          -4.048211122844867,
          -7.474388621717898,
          -7.970040033990325,
          -9.080306841450648,
          -9.877689806442477,
          -9.80024497761266,
          -9.784350091170971,
          -10.000413403277404,
          -8.040925898373008,
          -7.370546628218238,
          -7.381820850673497,
          -7.325021752207311,
          -5.95007069068618,
          1.9783910170947445,
          9.008249995076877,
          8.884271222974661,
          5.828024459666022,
          1.7229930706809498,
          -12.699465305067122,
          -12.457924620044977,
          -10.477088955551954,
          -8.043592743508766,
          -9.563846493028189,
          -10.685990689740716,
          -10.756820739708155,
          -10.723750039357864,
          -10.71661355801466,
          -10.657769051888925,
          -10.517555320383066,
          -10.41160171518457,
          -10.514473720683029,
          -10.54506734932631,
          -10.098324542699727,
          -8.303859291347976,
          -3.9580796449876225,
          -2.7026388081593327,
          -5.003561365695684,
          -7.663612760369309,
          -8.218746490739687,
          -8.506179481087106,
          -5.156986955331748,
          -3.0824490606401587,
          -7.882686301962464,
          -10.125674031037557,
          -9.844124226395374,
          -13.172113895757759,
          -16.79099137651115,
          -11.01374299903841,
          -8.111353161752817,
          -7.59902797575667,
          -4.310887213371806,
          4.094993605564966,
          14.56970834696011,
          21.080906232244473,
          19.087391951385012,
          14.46266095180875,
          12.340822588947471,
          -12.951496252143706,
          -12.6782013206608,
          -11.723391791989545,
          -11.09525782988747,
          -11.042252636182262,
          -10.99579164617096,
          -10.91763916685899,
          -10.99215769661799,
          -11.023555298605629,
          -11.003802348222916,
          -10.975871165601959,
          -10.911564191737725,
          -10.711112397736528,
          -9.85397527554864,
          -9.256255684889762,
          -9.046149635695725,
          -9.257527564256616,
          -9.382939567592029,
          -9.52515343332822,
          -9.664447962901157,
          -9.714203378674588,
          -10.087141388482019,
          -11.029008719433204,
          -11.04929961748782,
          -13.344722038990426,
          -15.61683383128473,
          -11.409062077909237,
          -2.8976785450703586,
          -3.5411049008274293,
          -7.903218437568629,
          -8.156083877650794,
          -7.64764096873081,
          -2.725181587696615,
          11.09673475023835,
          29.98643892406882,
          50.94972970227684,
          64.59177073080357,
          63.56673766621954,
          58.967170190383825,
          -13.115332802236065,
          -12.907142042825521,
          -11.908813130674233,
          -11.39694551269189,
          -11.214697893925308,
          -8.875149834719698,
          -3.7128685848986676,
          -6.564519837255916,
          -10.713033540230189,
          -11.493891822851563,
          -11.950696536170534,
          -11.4278117845002,
          -11.005284004800473,
          -10.33362815112076,
          -9.635032648344488,
          -9.053343022796842,
          -8.719725904509614,
          -8.446431437591306,
          -8.28615858069305,
          -8.311772517667555,
          -9.147055211829077,
          -12.179695212087804,
          -17.979711401062087,
          -21.059666170924434,
          -20.051884476349116,
          -16.893533650676712,
          -11.914980035709117,
          0.06121724292672989,
          1.5029776584097627,
          -6.208257816092683,
          -8.376939544603925,
          -8.48690366522171,
          -7.9018915014583495,
          -2.3343779072205173,
          15.936548319437769,
          47.69351482317083,
          67.16090810184231,
          67.43873035801536,
          66.76344782674374,
          -13.188362413587141,
          -13.079041386737412,
          -12.062855072695038,
          -11.268526935402168,
          -9.634017744508064,
          -5.9165542411443015,
          0.9619303859626702,
          -3.3960927345509027,
          -10.562216606743558,
          -14.096902796413032,
          -19.93397172042571,
          -16.724675415268774,
          -11.790116638494846,
          -10.080331909077993,
          -9.135548598457955,
          -8.68074688213593,
          -8.755795604425696,
          -8.958179371229976,
          -9.168866108543881,
          -9.618475303224603,
          -12.523322991780981,
          -17.073608499922628,
          -17.527575067540173,
          -20.18544006907524,
          -22.30101929003678,
          -21.338464956554436,
          -17.838767272737527,
          -9.786106008000209,
          -5.870178936782409,
          -6.307033770694615,
          -6.902049529322001,
          -7.326188907893724,
          -7.180643022405135,
          -1.788385543451812,
          16.00555208176504,
          48.59699943049341,
          66.78588525050746,
          66.63306341943267,
          66.3005268695894,
          -13.019019761465483,
          -13.014095705855325,
          -12.070939588580298,
          -10.579693154980205,
          -2.975684368560393,
          4.942636148296198,
          4.193169313128191,
          -5.03290702266054,
          -11.110242946692809,
          -13.191398926915909,
          -17.214892341385436,
          -15.479594387463514,
          -12.373023293684632,
          -10.798851231544884,
          -9.944257847842854,
          -9.641106068888108,
          -9.541644205313345,
          -9.354068349116822,
          -9.134493823609592,
          -9.267079123610474,
          -11.842908609387896,
          -17.136250252485542,
          -19.532910261839053,
          -21.163114035845958,
          -23.257760611381432,
          -23.833589624808383,
          -21.057788941302142,
          -13.738403587233647,
          -7.952514616773418,
          -6.32213263892007,
          -6.219891713174921,
          -6.16238592051492,
          -4.936034371494978,
          3.064584593914778,
          18.899286885900686,
          35.683334269624616,
          44.11431175575374,
          53.5409832659347,
          -11.324951916000703,
          -11.026898463145791,
          -10.02344668140772,
          -7.549928195650319,
          1.0166794344882086,
          7.244939996128643,
          4.085040141220147,
          -6.278335031976072,
          -11.21010248683514,
          -11.720708370006887,
          -11.930227259859304,
          -13.153293577138303,
          -17.951235834248987,
          -15.814744291594064,
          -10.833404663716053,
          -9.351458620292375,
          -9.025416325183457,
          -8.929485398855718,
          -9.131761694380284,
          -10.949197626908177,
          -17.062518531245512,
          -22.22487281384161,
          -23.67794114142268,
          -23.875995708172976,
          -23.952861976009356,
          -23.678983254059958,
          -21.69350686250294,
          -18.3575319043157,
          -11.139124012426487,
          -7.045455153344331,
          -6.620211412729902,
          -6.582035736581134,
          -6.122656670546047,
          -1.823025231209416,
          12.029296392750442,
          29.593657186448382,
          37.81274977778917,
          40.638045292219495,
          -11.197804438101755,
          -10.88656910480163,
          -9.60879477222483,
          -6.152426487851681,
          3.54125588570571,
          8.976751325309039,
          4.382810760464251,
          -5.862897807287187,
          -9.169916700846084,
          -10.000172448994565,
          -13.28225313943525,
          -16.890541073525398,
          -19.42628278848298,
          -20.46941024780429,
          -17.352406128523803,
          -15.422846992274595,
          -13.848080868260578,
          -11.325804670478014,
          -10.277434591421072,
          -11.354776723125632,
          -15.279098434122123,
          -19.87879151885718,
          -22.83534366678402,
          -23.26489728574741,
          -23.468407210429767,
          -23.392284181654688,
          -21.99914902726673,
          -20.756901260253322,
          -16.521932269978837,
          -9.816774187031932,
          -6.973326494390266,
          -6.722659259393364,
          -6.647194033746086,
          -5.5727372769499075,
          2.208816703053943,
          17.0616504970308,
          32.04792740825371,
          37.96301633088792,
          -11.625614716700603,
          -11.156768286399457,
          -10.058091556381918,
          -9.332370106275254,
          -8.142809133418728,
          -6.235071431846078,
          -5.688007199333821,
          -8.167877203330264,
          -9.244103439816588,
          -9.8596799312272,
          -14.2526487424509,
          -18.67316894154737,
          -17.213900417667634,
          -19.510035041558712,
          -19.28217406851024,
          -17.940760717508407,
          -19.22712024545894,
          -15.696188120149257,
          -12.557330991834817,
          -13.983375042477267,
          -17.672775024043805,
          -20.56832563318231,
          -23.286421290743302,
          -24.06175829257522,
          -24.50807342017121,
          -24.036556592285066,
          -21.916137768898597,
          -20.89232831586148,
          -18.28106367673901,
          -11.541179861879042,
          -7.456001616591461,
          -7.0426530294529295,
          -6.9591093035735625,
          -5.333525414317952,
          3.8703845684923515,
          19.34438543314452,
          34.350592154634136,
          39.27918874831093,
          -11.43959055993098,
          -11.008003159541296,
          -9.988778648041803,
          -9.64161620428455,
          -9.57707972056739,
          -9.498345329429664,
          -9.496696973675853,
          -9.510022161167946,
          -9.520400412687822,
          -9.540475164449166,
          -10.202705657623378,
          -15.133055420398758,
          -20.996167130932463,
          -21.92320752559754,
          -21.275262981700955,
          -20.443425586800494,
          -21.569370825070745,
          -21.251398245464422,
          -18.64440335815234,
          -19.36058068107203,
          -22.166809500719076,
          -22.81553557414043,
          -22.906326005960246,
          -23.05844393595345,
          -23.149003591727272,
          -22.615548312733004,
          -21.336184531631442,
          -16.157069366236733,
          -9.902935456042684,
          -8.059775292250336,
          -7.453462886840402,
          -7.3215597670306005,
          -7.116575270480114,
          -4.733891207887955,
          6.085598893095393,
          22.593237607021592,
          36.98052051835678,
          39.90123606851513,
          -7.825081015581755,
          -10.443058518850922,
          -9.914480225178476,
          -9.839596230058016,
          -9.882116939590825,
          -9.814798999784841,
          -9.790690904891088,
          -9.787561738747629,
          -9.757105892891664,
          -9.725346929087879,
          -10.259950090043352,
          -13.951387181021943,
          -15.884299572467334,
          -16.90261068902495,
          -18.86415936658754,
          -21.483490774951406,
          -22.89409606417984,
          -22.17346806261266,
          -18.999692898335326,
          -19.091184916557953,
          -22.13466840217533,
          -22.73789807980612,
          -22.82352431132132,
          -23.094045487883886,
          -23.206908745826343,
          -22.5402933229379,
          -21.115289908468938,
          -14.988377315565682,
          -8.800901512900806,
          -7.6400472577661915,
          -7.5553889522151545,
          -7.553461771427242,
          -7.231377223545506,
          -3.8845840731409194,
          10.11977419457798,
          38.41052751957376,
          57.63200339535169,
          0.3587304762105211,
          -1.3870967329226018,
          -7.40110753297154,
          -9.7465515851209,
          -9.957698739656475,
          -9.990100308119642,
          -9.956676075399743,
          -9.907036296156281,
          -9.888344483887309,
          -9.86393180655814,
          -9.891989887379536,
          -10.781840907826123,
          -16.08631398155292,
          -16.371708386079035,
          -12.804079348620363,
          -14.315283395520526,
          -17.254809758136584,
          -19.55016276997708,
          -20.691988409035254,
          -21.399165770313502,
          -22.280934766014884,
          -23.004115985711,
          -23.138731039453287,
          -23.19106865741941,
          -23.4545522657056,
          -23.392152482189463,
          -22.511817945755773,
          -20.812850146786623,
          -14.259790465833643,
          -8.766572154066449,
          -7.989394352352722,
          -7.963869486788598,
          -7.1731221391080515,
          -1.3407888524947384,
          8.432130549406342,
          21.11239994545101,
          42.25770592189171,
          58.17573632435371,
          26.309541353577178,
          18.527749032004294,
          8.386834343323308,
          -0.14840506548170673,
          -6.263194945137701,
          -8.819007805725471,
          -9.661315869118633,
          -10.058304558442067,
          -10.136386541198016,
          -10.14454531402427,
          -10.219994214447752,
          -11.746014129001358,
          -19.250913213866173,
          -21.01025719744672,
          -19.07485197804528,
          -20.339257594154752,
          -18.905125747885762,
          -16.209154590421996,
          -15.566831219098436,
          -16.30103387810631,
          -19.80380333968531,
          -22.708748032338406,
          -23.08459478310505,
          -23.116843893500786,
          -23.307821085555524,
          -23.308202366737117,
          -22.89386605012318,
          -22.536958139334985,
          -20.180754897825647,
          -13.487826614426162,
          -8.834440189668104,
          -8.07805750945943,
          -6.019680845842783,
          4.685126157877842,
          19.500616370501128,
          32.65431183437168,
          35.9426362764039,
          36.668208991981686,
          36.599088113564726,
          34.344605666052274,
          35.01581514873962,
          31.228019703366087,
          17.899484868075163,
          8.318985059618711,
          1.836456393642898,
          -7.315278929990147,
          -10.141073126464786,
          -10.253520570918006,
          -10.328079517702017,
          -11.8435061425601,
          -15.997448358780542,
          -15.887969974902127,
          -15.17501451420431,
          -18.84789103970893,
          -17.81138743775344,
          -18.73060050152285,
          -19.832243864589238,
          -19.063590807292236,
          -21.15113278843974,
          -22.9709053327711,
          -23.2249443900054,
          -23.316221535581704,
          -23.675831247155394,
          -23.715698456970582,
          -23.08237111348695,
          -22.822890843676646,
          -21.335553248215444,
          -14.698697693989608,
          -9.283302030572242,
          -8.042558980720703,
          -0.4422313364022206,
          34.33433284076773,
          50.55199035064094,
          40.00268730079027,
          37.262229027380435,
          38.38637222972352,
          62.50124001710985,
          62.33484810762574,
          52.73248511700536,
          36.80670812706299,
          25.089613607369362,
          16.200823234117426,
          7.398893737988603,
          -4.185347676528512,
          -8.600469871040923,
          -9.707912906924495,
          -10.241787757571583,
          -10.472487274993913,
          -10.601374980683733,
          -10.110138038149097,
          -9.865583066068702,
          -10.902199771951155,
          -10.628137000910895,
          -12.096083022707365,
          -13.962266295033032,
          -14.994617579044922,
          -20.483416371975853,
          -23.198857227646897,
          -23.411583323915792,
          -23.46284316910237,
          -23.708112577214845,
          -23.471237406924985,
          -23.169777506960976,
          -23.01996998439527,
          -21.104663536669026,
          -13.72703047134912,
          -8.996259248661294,
          -4.514836260339483,
          5.006911465305109,
          30.09263070726539,
          43.59339724726434,
          38.62750874213878,
          39.141772538369636,
          41.927971552240315,
          64.81627587094019,
          65.30675207228836,
          66.02247283581832,
          56.44703165983358,
          40.42667713160708,
          35.73246915425375,
          34.81578128060377,
          33.85653532055764,
          32.05845434538584,
          29.218659788121013,
          22.413713453859188,
          5.324019820580678,
          -8.61355869679636,
          -10.360512962848548,
          -9.924237702072748,
          -9.626914497152,
          -9.67002311249548,
          -9.710370837281344,
          -10.346680146703259,
          -13.885926023046366,
          -18.447671345529866,
          -22.259699132608684,
          -23.468401387471676,
          -23.558361974777895,
          -23.657745938267933,
          -23.913436493215098,
          -23.733701877679632,
          -23.040738726393034,
          -19.93431977986244,
          -16.18602929167391,
          -10.545452671593834,
          -4.933802942939171,
          0.8544418163073644,
          8.844978693384567,
          11.279300702473607,
          13.484790400344947,
          29.452546117844463,
          51.0207774224873,
          53.733458467846496,
          64.70182433827962,
          65.22610649872406,
          67.47560185620263,
          68.38126997649158,
          66.3526714497337,
          63.1884598743769,
          56.65550565287403,
          43.306405064421185,
          35.548040254962,
          35.67009905847249,
          33.535586121301364,
          14.127678767375539,
          -6.097365835504398,
          -10.194202486660473,
          -10.204603275964397,
          -9.906153224183203,
          -9.696795957431636,
          -9.577160745154114,
          -10.694256385344126,
          -16.553010579789433,
          -21.79437771158036,
          -23.33960572223385,
          -23.42254954551909,
          -23.52110475734061,
          -23.798698094837214,
          -24.120829312289963,
          -23.54179371448567,
          -21.905602229656715,
          -16.624465941503722,
          -10.01286622997353,
          -2.584686608339773,
          19.167385363664735,
          33.023292014651595,
          39.551989461012575,
          44.29959835107721,
          33.68005396628646,
          40.47287252161035,
          56.442933327121466,
          58.82133395020898,
          64.14619752890508,
          64.687058319437,
          67.28425319716489,
          68.57086183411823,
          68.83512858731119,
          68.80890304172807,
          65.18790585660443,
          49.022213278325175,
          36.86717740623346,
          42.03227927548254,
          59.297784472655344,
          61.171684365562875,
          42.87318166982741,
          22.009684700468576,
          10.900352677604637,
          2.307648662262343,
          -5.146101245688322,
          -9.26956943421494,
          -10.752000263416825,
          -13.107794013482424,
          -18.12659385846358,
          -21.101398625747485,
          -18.364646696639074,
          -18.438838560344347,
          -19.87593762677774,
          -21.483929227600857,
          -21.13281609158707,
          -14.200039193148443,
          -9.381344573287382,
          3.3391855440504545,
          19.530359906055473,
          29.170008178537127,
          36.14537574940471,
          46.601742892677656,
          57.691799159552964,
          48.48964935190795,
          53.17552638263938,
          62.403259459261534,
          63.28069295998232,
          57.88630603039573,
          61.60375209618575,
          65.42320488286302,
          67.0174631229732,
          67.90977902551472,
          68.16849861364365,
          67.71847696220534,
          62.99280977914909,
          47.234406205333414,
          39.637767795161515,
          51.29760961663142,
          58.774629343840374,
          49.52962815326881,
          36.879283863502685,
          34.131284263572674,
          31.873406931815722,
          20.159106323270997,
          3.240647586567238,
          -8.24433582214648,
          -11.146900259609533,
          -13.371527198049083,
          -15.25263555161082,
          -10.967746957856937,
          -8.819215958376738,
          -10.436639609558721,
          -13.241925352886069,
          -17.68816735531349,
          -12.808413278207677,
          -7.804014937124764,
          9.830645772158089,
          30.591526174558922,
          34.93048867735253,
          36.678791152629074,
          49.20166208597698,
          64.8464993787896,
          65.9730355866361,
          63.76813362439536,
          64.40621406833864,
          32.34576166358977,
          32.087160218905815,
          35.53620105241065,
          42.07729264206773,
          57.519080700030784,
          66.86200361320607,
          67.70810397947965,
          65.04018698622447,
          49.58732407879231,
          36.59176817865833,
          34.47160717930919,
          34.37413921657807,
          34.18567254710075,
          33.81198925009006,
          33.85408041034065,
          35.599480874777825,
          36.90894478331485,
          23.963813750773795,
          4.872935008952944,
          -5.512034358891264,
          -8.733792549780249,
          -9.020884733293583,
          -4.852160700927919,
          4.780533040816222,
          7.282393030617644,
          4.9831734102901635,
          0.9032695726802309,
          -10.935818259181328,
          -7.613553293897522,
          13.6361725568893,
          32.27898137641933,
          35.06364425799233,
          37.45077347804879,
          52.15317784776185,
          66.35749826561181,
          67.93882818602505,
          65.73989998737576,
          65.11508323621423,
          29.443119338354936,
          30.406053542222715,
          32.5554481849275,
          37.797392594343854,
          55.265215870001626,
          66.11171391188498,
          67.16210289909547,
          67.08011268097295,
          66.01439487817228,
          63.62427122845589,
          59.88451112212883,
          51.46428486774337,
          37.51226440254168,
          30.31962650260249,
          30.22580579082847,
          36.15011306001972,
          53.916720445325296,
          64.3039092778206,
          55.79617263690363,
          37.52536357957014,
          32.145551257303,
          37.09965174847834,
          32.66809878573585,
          20.500393236691863,
          11.567615199169037,
          9.133437469603447,
          68.11201110647025,
          67.71601657123145,
          65.4222362715137,
          30.410118190518553,
          32.736728470756816,
          39.16170103354854,
          58.02357403599842,
          66.60990900424471,
          67.16069786374158,
          67.1690799451176,
          67.18432393882858,
          67.13777056748471,
          66.59720435226937,
          59.622962927002305,
          38.96875157041935,
          19.191431641499015,
          9.013449328611427,
          5.568404586855943,
          2.396187194083253,
          14.698467760806798,
          25.40491399089545,
          25.34829143109865,
          29.78090717412993,
          44.37870018408736,
          49.15016589703023,
          32.40542380568367,
          17.04247273580181,
          13.706529572495427,
          67.21053971033481,
          67.14148110253045,
          66.52902980933533,
          57.34221430108391,
          35.749626907147096,
          16.60881322647172,
          7.638453521672532,
          2.0835702569533954,
          -5.55365163215788,
          0.9193337595150968,
          6.557836309149951,
          7.33039886348371,
          7.732017919399919,
          10.889381354019395,
          23.098877825805637,
          31.460365016268184,
          27.16990258314058,
          19.964641234850184,
          0.917963412557845,
          -6.048889300725202,
          2.288196496165181,
          6.8407510356050505,
          7.178961726332298,
          7.355123271858609,
          10.649627552587965,
          23.542334424037207,
          32.712717174991326,
          9.821624956304843,
          32.71481685079082
         ],
         "y": [
          1.9216969672362594,
          1.9519140338793626,
          1.9507485659106032,
          1.927240181004798,
          1.9150039096083433,
          1.528569711492307,
          1.3315914944480567,
          1.128438772203607,
          1.0389604189304356,
          1.7172959729976376,
          1.9256377424300088,
          1.9516986627779407,
          1.9486899280651895,
          1.926393023654699,
          1.9186913422924263,
          2.079794224632172,
          1.9201330885357504,
          1.8834299535230135,
          1.9176230403702101,
          1.8924064058553334,
          1.8508884329351358,
          1.4951805450832885,
          1.3046906012426354,
          1.1511547529512944,
          1.1459750396647563,
          1.53029999127688,
          1.903940395293195,
          1.9340236335912178,
          1.9243668531759661,
          1.9058501503030165,
          1.9045626687747266,
          1.9567057944815776,
          1.9925493940532326,
          1.906171228811921,
          1.8881722991715164,
          1.919004553492043,
          1.8856522187840563,
          1.8507994007060216,
          1.8859867833146016,
          1.6936720435874995,
          1.7037074593246637,
          1.7532069652798274,
          1.904894419252124,
          0.3458362067583618,
          1.5745388964244784,
          1.5292607670250629,
          1.295806933520533,
          1.1606714576806332,
          1.1680359257769914,
          1.558072329860739,
          1.9015110959012156,
          1.9218096680503853,
          1.8914657532933723,
          1.8623760351312884,
          1.8604583088709519,
          1.8866530975045697,
          1.8789442932200064,
          1.8682274027657781,
          1.8701175550744504,
          1.876265955645747,
          1.8615062702427645,
          1.8405453721590184,
          1.8650553510906507,
          1.8337435680909282,
          1.6922604674443782,
          1.695941934436849,
          1.7045404844221272,
          1.7699196174582368,
          1.9316772437743794,
          2.103758060529147,
          0.6463950076645237,
          0.3837453101681727,
          0.33845122297318797,
          0.28109640620971055,
          0.18326837055224265,
          0.2875460346637855,
          -0.6470848792341508,
          -1.3334271801153466,
          1.1642420654249892,
          1.3807395823046493,
          1.230980692142463,
          1.1735580148855438,
          1.1812934544400857,
          1.4123480834291662,
          1.8408243236166753,
          1.8728962188754867,
          1.8632240273916765,
          1.8679484895115266,
          1.876220914002372,
          1.881742464500651,
          1.866198130512991,
          1.855782764647397,
          1.854877910354218,
          1.8332605292342161,
          1.8210678690389885,
          1.802486057830814,
          1.8033915453123683,
          1.8117945476703061,
          1.7895076219487274,
          1.741106429945055,
          1.7327146502327113,
          1.7910350475951184,
          1.9644794315572547,
          2.1014103889824227,
          0.025696469933122135,
          0.016769361201955046,
          0.1309462569187807,
          0.3050919986009082,
          0.30804932337491975,
          0.23832041803848103,
          0.18071801547116317,
          0.2410200332222283,
          -0.816627887221556,
          -1.3880748039761404,
          -0.7502858681155316,
          -0.4884781884174844,
          -0.038279309744212675,
          0.3603475870084798,
          1.0277632150708254,
          1.1664486801933922,
          1.3605247568760863,
          1.5526462084552395,
          1.559013925574067,
          1.660329301026888,
          1.7442864509070422,
          1.8213184924962775,
          1.8465259606902658,
          1.83598000283331,
          1.8045207570549984,
          1.7956807541447792,
          1.787339276597311,
          1.7765249870125883,
          1.7774927735524915,
          1.7882008774152025,
          1.8057882937988952,
          1.790471274250884,
          1.7653789959967854,
          1.758197103747113,
          1.820666054851251,
          2.0193926805132567,
          2.060032543904922,
          0.10501171692640732,
          -0.32263121563891994,
          -0.5571283568917762,
          0.08809662414030761,
          0.09816488753259689,
          -0.5173841783189586,
          -0.6087274763944908,
          -0.5060209352763809,
          -1.2115594760775055,
          -1.0729811664701878,
          -0.7943722130646214,
          -1.060027373896654,
          -0.9650041087114836,
          -0.7414624228022819,
          -0.24266016863264328,
          0.4658069315936406,
          0.6555326029418578,
          0.5179189025495607,
          0.20006674791350054,
          -0.12805372187513242,
          0.07031541320563273,
          -0.16717883783499743,
          -0.1707776140872015,
          0.1862175909771567,
          0.9052613817017475,
          1.5641064303109709,
          1.7588701671700644,
          1.7646211584539655,
          1.7583020447940234,
          1.76201216930441,
          1.7670062991727866,
          1.7901482233707398,
          1.7919771537122786,
          1.792704236955929,
          1.788584975283661,
          1.8680812121442423,
          2.0321521194320944,
          2.0163252755795247,
          0.09991981020192053,
          -0.46833989992029945,
          -0.8075749017806413,
          -0.3432227819424907,
          -0.23057266307709368,
          -0.8296339553090051,
          -1.1865933760982845,
          -1.5234530217258824,
          -1.7954569967527774,
          -1.6490808488590705,
          -1.0913605733483502,
          -1.006970953384955,
          -0.5114956507898576,
          -0.5599197971763165,
          -0.4611820212670321,
          -0.23573538500474456,
          -0.1515176158931948,
          -0.37224609810710807,
          -0.6781188703017134,
          -0.9658054301088883,
          -0.08130062314622633,
          -0.164408626501225,
          -0.44339041379405586,
          -1.1323458352249025,
          -0.49850982811320704,
          0.8192617510208569,
          1.6675959166919991,
          1.7213268932250436,
          1.7373571649266608,
          1.7481784439763606,
          1.7443326171243645,
          1.743566364653299,
          1.6278066834459972,
          1.4726856168825015,
          1.5489753422512191,
          1.7714332167335165,
          1.9714240433881598,
          1.9484124936848135,
          -0.25575087845875455,
          -0.6143926104766773,
          -1.129894273056424,
          -1.1910140083356509,
          -1.1708964468072176,
          -1.1669490705273906,
          -1.1815940629077335,
          -1.2391506893555813,
          -1.3388066105368104,
          -1.3773739762888517,
          -1.4113477224807092,
          -1.0299573234796107,
          -0.8376811526252177,
          -0.9388544191175993,
          -0.7996150271679008,
          -0.7666367875190905,
          -0.7663770958790752,
          -0.7080146906488352,
          -0.6632482934091997,
          -0.5817804892460795,
          -0.3191346341201819,
          -0.3193869784693492,
          -0.595100610956498,
          -0.917706493657155,
          -0.8573553993989951,
          -0.5924659708655218,
          0.7448602156538635,
          1.0543790300942903,
          1.402686596438155,
          1.657105642654087,
          1.6456569397194654,
          1.639336005915398,
          1.3181974759351183,
          0.5374253023182366,
          0.24674337841239602,
          0.46399476741373613,
          0.7559847873757639,
          1.0054603902383734,
          -0.5746237642422416,
          -0.6319546864216623,
          -0.9142295380712484,
          -1.158552830099431,
          -1.415217638232089,
          -1.4235448151999295,
          -1.2075484454842726,
          -1.1857030008601055,
          -1.2371530543152613,
          -1.2423808932658065,
          -1.319150925603068,
          -1.7413570730571195,
          -1.4824473803009393,
          -1.0118762224634934,
          -1.188450727386472,
          -0.9536009494136746,
          -0.7986146825256114,
          -0.693750684610047,
          -0.5910305591859143,
          -0.5471479720546115,
          -0.6056665857187177,
          -0.6912220360850865,
          -0.8272718113418174,
          -0.9599457493578151,
          -0.8794227725295275,
          -0.9237812410968098,
          -1.0679779128969842,
          0.29376622597537405,
          0.3556135052258006,
          0.7991435748646815,
          1.2230733876232232,
          0.7263408191301515,
          0.435064834988781,
          0.41211654945214626,
          0.3018858057683791,
          0.2431009357473033,
          0.4395115743047442,
          0.6143851135328428,
          0.7061312542873601,
          -0.6798416837862227,
          -0.9345695013802464,
          -1.1603720918147653,
          -1.205495850541908,
          -1.4951759395853064,
          -1.4998211264409722,
          -1.219666490638588,
          -1.2223204293816665,
          -1.5654477619773355,
          -1.8385456483859917,
          -1.7060930917894674,
          -1.4457740099809762,
          -1.0021857764651934,
          -0.7574742729852412,
          -1.0683535599607983,
          -1.0249979964069862,
          -1.2164830454407323,
          -1.2382195470588953,
          -1.289137095392232,
          -1.2196880298740398,
          -0.9306357869083681,
          -0.639100262295361,
          -0.5416137065326889,
          -0.4578357566100666,
          -0.33298647969681094,
          -0.2595817515427479,
          0.0055315978916138375,
          0.3068895582286406,
          0.3243069581946484,
          0.5008912399533304,
          0.7012671924387405,
          0.4737168989959568,
          0.2610427427533122,
          0.1881903268710594,
          0.21548066364351037,
          0.26100156898461124,
          0.4911039653160393,
          0.6792462180371327,
          0.8379128066689785,
          -0.7526604600039308,
          -1.179572679653596,
          -1.4702162271472803,
          -1.240571601744278,
          -1.1140741112536663,
          -1.1256372706823454,
          -1.1071847573860798,
          -1.1345066925850622,
          -1.3301732291088024,
          -1.5801471276506684,
          -1.5741568770861338,
          -1.2560572024693473,
          -0.7886210642439724,
          -0.6528324814071764,
          -0.932762538431066,
          -0.9096887265756539,
          -1.061266075755292,
          -0.95958802010156,
          -0.8896721422581271,
          -0.7769410365639295,
          -0.5009355666555855,
          -0.41830362091740125,
          -0.48781640921032354,
          -0.5410968360733008,
          -0.5073341364472121,
          -0.3705869622362399,
          0.3234681756226936,
          0.557684283673433,
          0.3799477275153642,
          0.35510224103352594,
          0.31585388595656494,
          0.28636455533960703,
          0.18095920363445006,
          -0.20352704157725482,
          -0.410453717711901,
          -0.40315634197175343,
          -0.10852501614102217,
          0.032077770876763056,
          -0.4329447651536149,
          -0.5876861156125843,
          -0.8497409646249434,
          -1.0834825123083205,
          -1.051040915402471,
          -1.0378884458574757,
          -1.0597229837925324,
          -1.0694521740643677,
          -1.0734126717438142,
          -1.0692702890075292,
          -1.0712221209489596,
          -1.0816882154677163,
          -1.0310714615769623,
          -0.5444135703029551,
          -0.3115740405199603,
          -0.4020684850311278,
          -0.38579291336967786,
          -0.4707814011102966,
          -0.4765232063716083,
          -0.4676788098970932,
          -0.5889305522996138,
          -0.6976579333094246,
          -0.9047907588043109,
          -0.9405621730174909,
          -0.5746048601776158,
          -0.2762022267727777,
          -0.07651432637660593,
          0.9063283173793859,
          1.1993935135475502,
          0.6574057493427049,
          0.3485738689696867,
          0.27297185859373263,
          0.11191063291874298,
          -0.1834802533397586,
          -0.1820578311870995,
          -0.09849750407134161,
          -0.07370176929868189,
          -0.010835666219475737,
          0.1123217113330488,
          -0.4201638290229659,
          -0.5502192554575178,
          -0.7870261886068559,
          -0.9407324605083247,
          -0.9476990776630292,
          -0.968350039250061,
          -0.9714108323744772,
          -0.9581563926018084,
          -0.9630177012328367,
          -0.9816911473200534,
          -1.0049569729418386,
          -1.0276259490846538,
          -0.9817137689761362,
          -0.6528486099776984,
          -0.6454567624499679,
          -0.760575940172018,
          -0.7737588314771073,
          -0.74056378980579,
          -0.6413826610781701,
          -0.5407672029036135,
          -0.4608364950765058,
          -0.3105505029510862,
          -0.10609702474728633,
          -0.021483134403598836,
          0.23590999815031966,
          0.41794769092013073,
          0.22685902944933023,
          0.20691004461477103,
          0.3065861892573172,
          0.42180746468680785,
          0.32051056125806665,
          0.2696410778315136,
          0.02879201770289369,
          -0.3598194064217701,
          -0.10017898818710425,
          0.9373828349084201,
          2.021220298879804,
          2.7851639967969177,
          3.2147345768386124,
          -0.3408011123366985,
          -0.49073916729152467,
          -0.7552462168820135,
          -0.8546005527923537,
          -0.8677081948814449,
          -0.9658196483234938,
          -1.2318126589446519,
          -1.0429090399938217,
          -0.9370350275409147,
          -0.910516182118416,
          -0.89992833505782,
          -0.9625207624306333,
          -0.9424969955920579,
          -0.7127746321997093,
          -0.7015325869675129,
          -0.7747522078211395,
          -0.7749737776411243,
          -0.7550712069377197,
          -0.7474374237698538,
          -0.7164309109723523,
          -0.6580405059305121,
          -0.3298042306859479,
          0.15299423196999618,
          0.4275201852596031,
          0.35964905890744303,
          0.17183424544206627,
          0.16599465507766697,
          -0.02839437439514758,
          -0.08866685168961133,
          0.2531502742934203,
          0.2965965681088345,
          0.34520191432315117,
          0.33131851118129396,
          0.13065613752850044,
          0.0409553900185462,
          1.0547977468672514,
          2.2225588643976995,
          2.761387147732947,
          2.995808293812445,
          -0.30685079029454987,
          -0.4158008993357283,
          -0.7042472410387306,
          -0.8524377525171523,
          -0.9059119540112621,
          -1.0614030562016525,
          -1.4256769748239724,
          -1.0770843991426953,
          -0.8869591701645396,
          -0.568284353801042,
          -0.08709833738780759,
          -0.38971089321811814,
          -0.7511034250430872,
          -0.42225480216141587,
          -0.4713547934137312,
          -0.628200449419138,
          -0.6934368757763649,
          -0.7220626531866978,
          -0.7622022338243157,
          -0.7666802159644082,
          -0.47810089748011264,
          -0.016802662803194313,
          0.0804296147092729,
          0.42943855282377985,
          0.7144911754772081,
          0.728858623386722,
          0.5790123431257599,
          0.021951458435357507,
          -0.3229759517219024,
          -0.2572075741412315,
          -0.16434264974952106,
          -0.026724742123736545,
          0.08415120856417901,
          -0.0008858162227151911,
          -0.01116195130776454,
          1.001957971231648,
          2.261001914069583,
          2.6531912561477498,
          2.630819372901364,
          -0.4052471022823434,
          -0.4302582011670728,
          -0.7034128443602099,
          -0.8816855535955783,
          -1.1367640988314167,
          -1.4699810688312678,
          -1.3137951462399111,
          -0.9475737288616123,
          -0.8273939903906782,
          -0.674566834270548,
          -0.35613607014524806,
          -0.5042876528667115,
          -0.723074785148011,
          -0.521235080689076,
          -0.5870816093255098,
          -0.5554404977433447,
          -0.6405832494162469,
          -0.674013621602449,
          -0.6705518700234023,
          -0.613039940526215,
          -0.2635606539980213,
          0.2354519163907911,
          0.43720879824041514,
          0.5551829794559922,
          0.7425298847652511,
          0.825366793130724,
          0.7354605967437444,
          0.3671703532386592,
          -0.25212291778976903,
          -0.3744479409765217,
          -0.38396755736691823,
          -0.40009815997916587,
          -0.46111459609057015,
          -0.7094692021909859,
          -0.9344495498023417,
          -0.7529560202551151,
          0.29640546191996364,
          1.5952117733566302,
          -0.9463827250062973,
          -1.0299611780448767,
          -1.2037777589405532,
          -1.3469428985633616,
          -1.7496159606853474,
          -1.7646430281258367,
          -1.4034293393260397,
          -1.014348809262816,
          -0.8519122251138671,
          -0.8580489978384471,
          -0.8589737226439171,
          -0.7070614180471784,
          -0.07923701844146391,
          0.0400673609249127,
          -0.36204660129010535,
          -0.5390757788095444,
          -0.5887098621921263,
          -0.6019701898199443,
          -0.6095872590931444,
          -0.48620274633793925,
          0.15230450875060297,
          0.5360213137611036,
          0.6733746625604087,
          0.7187822785132223,
          0.8352778263656075,
          0.957150183433439,
          0.9942289048101411,
          0.89140654358836,
          -0.09022432774038225,
          -0.37277683637514314,
          -0.3958628986832313,
          -0.408411064272339,
          -0.4165790694281235,
          -0.5626180116045264,
          -0.9405722817377263,
          -0.8925083453611915,
          -0.012664550512831774,
          0.7334759077464756,
          -0.9035924455770536,
          -1.0559615462890501,
          -1.2788711542317759,
          -1.532608251134484,
          -2.1222416779145563,
          -2.1713017049070906,
          -1.8119451700157962,
          -1.5912176427342164,
          -1.4063022747188194,
          -1.3079830719695607,
          -0.8705013116087064,
          -0.5696519344812567,
          0.27912691619835517,
          0.6664970434015403,
          0.3026791085140177,
          -0.0006345695706100329,
          -0.2832872981951675,
          -0.5586960179321709,
          -0.6540578631201328,
          -0.4566184453659974,
          0.03669264215529511,
          0.5140874825258623,
          0.8402332017662357,
          0.8834323218015476,
          0.9346009529126849,
          0.964138786374737,
          1.0014410642751512,
          1.0193952658441874,
          0.5104425427809989,
          -0.17499353106407556,
          -0.41286453047133065,
          -0.42097050494369626,
          -0.407178583737546,
          -0.42300638871427354,
          -0.9372287711216096,
          -0.889194853186456,
          0.4416235564267623,
          0.6401229178700616,
          -0.726181941381165,
          -0.8869376410642094,
          -1.1641360686886473,
          -1.3959914561662208,
          -1.4741716639889426,
          -1.5042246288739882,
          -1.469689802926386,
          -1.4788955429536437,
          -1.427581144251211,
          -1.359416314760751,
          -0.8522227931302389,
          -0.5424163246960396,
          -0.14836559079316958,
          0.18978723195002623,
          0.18598482454506637,
          0.1050241648420025,
          0.27648904516011097,
          0.044774900626886716,
          -0.2578382656644993,
          -0.11362896358987529,
          0.34484168149525907,
          0.5676594923525822,
          0.8107257511484449,
          0.8379925833508381,
          0.9264425499152105,
          0.9530283494561695,
          1.0126065067159296,
          0.989818408918306,
          0.7438102767821209,
          -0.12508451464772175,
          -0.4504997691266409,
          -0.46775399127750517,
          -0.47998082754619353,
          -0.5276808669588806,
          -1.0792874834484083,
          -1.0235883713883922,
          0.16565813718913613,
          -0.34385741805122727,
          -0.5241228193710743,
          -0.8797326907263201,
          -1.1921501886332972,
          -1.335680276794661,
          -1.3833127730780483,
          -1.3698397907141726,
          -1.3660709892434253,
          -1.3868246446678014,
          -1.396305315958546,
          -1.3958838719852544,
          -1.315386347795391,
          -0.7186915263488087,
          0.5175710453475681,
          0.7337821036344678,
          0.6084507792904086,
          0.5158383602813168,
          0.6203439931944614,
          0.5142366810605212,
          0.12006318497716162,
          0.2307969425463492,
          0.5216979087469835,
          0.590022244444282,
          0.6669596052226736,
          0.8145406496121899,
          0.9444271684184731,
          1.0158589239070754,
          0.9494046744316758,
          0.43223458577015106,
          -0.17649276548604886,
          -0.40129057021265757,
          -0.46055634649696087,
          -0.46006327771145017,
          -0.46641281666377554,
          -0.5586864175243014,
          -1.110116105944269,
          -0.9993584030157119,
          0.3020179993940122,
          0.26762335066099396,
          -0.542588440800087,
          -0.9108315875879023,
          -1.1809560483064387,
          -1.2286486698602463,
          -1.3003569129738104,
          -1.3486326387783523,
          -1.3503272024996056,
          -1.3476822421594328,
          -1.3458598788275071,
          -1.3611229869804682,
          -1.274360084196967,
          -0.5474292644245429,
          0.04832178451918745,
          0.05452306307911581,
          0.11865592711922535,
          0.39358861529671474,
          0.5495186698783612,
          0.5396792058299926,
          0.21738462386986646,
          0.42587224261541623,
          0.7418791512909704,
          0.7987034430679141,
          0.7828556122843144,
          0.8299239063299475,
          0.8884319881971452,
          0.9839353086313181,
          0.9299021717448479,
          0.2727900800480114,
          -0.3373226263120255,
          -0.4458770474508492,
          -0.46662925940604016,
          -0.46625078734067427,
          -0.4448513092930402,
          -0.5683324950799485,
          -0.9232392784159407,
          0.23830393169150188,
          2.7543933957739215,
          -0.6571982801353639,
          -0.7539260005479154,
          -0.9930536438335187,
          -1.1179148817225972,
          -1.2042509917883253,
          -1.2968226120831086,
          -1.331635039682224,
          -1.3361586233592113,
          -1.330240653885598,
          -1.3222914634668257,
          -1.3315586854864006,
          -1.1881595317512605,
          -0.315434210939991,
          -0.0799093245778133,
          -0.3206778264169705,
          -0.23567441131128786,
          0.27743260365609057,
          0.4663918873191859,
          0.6033615282351339,
          0.6348780857773746,
          0.6490044632163752,
          0.6593767766759973,
          0.6515323894414844,
          0.6700947821066414,
          0.7983063395029348,
          0.8388233272309611,
          0.9950076300490251,
          0.9176329943798103,
          0.09334592987681911,
          -0.38748985389466784,
          -0.4663740480942907,
          -0.45525917027733376,
          -0.508176970504478,
          -0.7001841410240909,
          -0.8775811739997753,
          -0.8051558675215063,
          0.4828349433900474,
          2.6060179057384207,
          -0.17212869560419586,
          -0.7286366147856729,
          -1.0541605760604638,
          -1.137841136729107,
          -1.2829030909200847,
          -1.3351750112542782,
          -1.3333389092868357,
          -1.303376903188111,
          -1.284095764267377,
          -1.257210674523831,
          -1.264072455247322,
          -1.0280274546977775,
          0.43369133357721035,
          0.7260989374528775,
          0.49707479612377803,
          0.4845193334554123,
          0.3245751020578145,
          -0.09693250706633272,
          -0.16511803911196798,
          -0.12363059348223082,
          0.3563990711812344,
          0.66169563219509,
          0.747858431903401,
          0.8108207838201014,
          0.9178326888341286,
          0.9464611048045102,
          1.0225180448618443,
          1.010646921726086,
          0.731976510150353,
          0.07129332991066262,
          -0.4311411789775914,
          -0.45760419598174074,
          -0.5175657112137805,
          -0.712084155637157,
          -0.9557174187989146,
          -0.9360629822098443,
          -0.3938175294170989,
          -0.0719080551139788,
          -0.7781588712534342,
          -0.8250194361440037,
          -1.3394024140106513,
          -1.4683730603476581,
          -1.8555588642070546,
          -1.9344750513115332,
          -1.7808434649197966,
          -1.3055774069157637,
          -1.2651682965153475,
          -1.2547647955631804,
          -1.250538497128394,
          -1.013296527227638,
          0.04017636370127553,
          -0.08127613263567257,
          -0.07051114133101644,
          0.11631462564371864,
          0.22596601229402147,
          0.3218282109479369,
          0.5670147874123814,
          0.446613934190518,
          0.6928401384905696,
          0.7696580513041735,
          0.7456545649123503,
          0.7384209942812983,
          0.8444639855335137,
          0.8774463722686137,
          0.9879350695087856,
          1.010838146457147,
          0.8459683752859375,
          0.15280492832377157,
          -0.42331447663218413,
          -0.45354400554940066,
          -0.3031119042944535,
          0.6907848500698464,
          1.0137057498555695,
          -0.47892415539300615,
          -0.36645581346432277,
          0.22742112070453402,
          1.2300501614312367,
          1.107291164056564,
          -0.1328307226140506,
          -1.166810988458872,
          -1.687784386009213,
          -1.8644140799620283,
          -1.7311137394116454,
          -1.2984027908803817,
          -1.2568016120525405,
          -1.2406819224621417,
          -1.21788381311907,
          -1.087973221131445,
          -0.47437002301061937,
          -0.36886549415638137,
          -0.40475643180616716,
          -0.35294544061708844,
          -0.33282871298726446,
          -0.2744565110323376,
          -0.05671320202578167,
          -0.1123961523514514,
          0.494447263148003,
          0.7430369944860464,
          0.7584983620385777,
          0.8316317597766121,
          0.9506165362809678,
          0.9169524918629071,
          0.9636868058711592,
          0.9676341488308742,
          0.7027178832812306,
          0.06618354327956588,
          -0.4189877797306478,
          -0.5730888965676111,
          -0.7802258354551104,
          0.30849645362784095,
          0.6054453202193786,
          -0.5124903699711778,
          -0.19148665377016982,
          0.4465385674505491,
          2.068401041632498,
          1.739002310420739,
          1.329133460148208,
          0.11270276403697377,
          -0.9634452356481908,
          -1.4042303894751704,
          -1.48057830491227,
          -1.4844809399540484,
          -1.4618184798020728,
          -1.4660539316810164,
          -1.418547916875804,
          -1.2007495288476278,
          -0.9515693314459261,
          -0.34604832396780827,
          -0.3027258710081744,
          -0.4995120922718985,
          -0.5965800606228555,
          -0.6565952030180529,
          -0.5814386255447959,
          -0.1440933218385143,
          0.3582475867715451,
          0.778559526134166,
          0.8913713968929886,
          0.8965541722793886,
          0.929642785076128,
          0.9806942756800754,
          0.9295547898802918,
          0.8968432483012876,
          0.6354329091252868,
          0.13212364901445683,
          -0.16848653593246743,
          -0.5632177328623413,
          -0.6759070787715075,
          -1.193623536062045,
          -1.160733975180674,
          -1.1154611403196102,
          -0.7489500756532808,
          1.0115559292341105,
          1.286298078739872,
          2.008125233502769,
          1.7397328095311693,
          1.1937378195424824,
          1.0265817407621611,
          0.855154679147299,
          0.5640633227330838,
          0.08162647743615548,
          -0.8159118407115891,
          -1.3375502392222853,
          -1.4343376671892671,
          -1.3463517110731744,
          -1.0228256977529526,
          -0.9789952753011267,
          -0.8075019607864864,
          -0.6237967663646007,
          -0.5536658832532784,
          -0.45107051200735837,
          -0.38512657969139763,
          -0.20971885186643857,
          0.36686914499272016,
          0.8409262908152404,
          0.8680133713249738,
          0.8333455537374959,
          0.8298150619509892,
          0.9160151678508877,
          1.034341791203881,
          0.9486862607857929,
          0.7613777202618137,
          0.29278799595058436,
          -0.46608443143158973,
          -0.5843314924526996,
          -1.0877150482415476,
          -0.856929678292178,
          -0.4873128735186869,
          0.5921744507893916,
          -0.24872928389671767,
          -0.14510405126929982,
          1.3952806264010977,
          1.7962482992019888,
          1.9191737053609597,
          1.6760142299607992,
          1.3907263368014426,
          1.2153626491180578,
          1.117995827995225,
          1.0258167697091505,
          0.7169058585998318,
          -0.25154047423781556,
          -1.1209985988545466,
          -1.063385084431105,
          0.21981461600291752,
          0.7561851200609695,
          -0.19771634968187968,
          -1.098577121602605,
          -1.2883746203488589,
          -1.211090539003704,
          -1.0670927572801814,
          -1.0368483386331144,
          -0.9277268580224949,
          -0.6070135640069128,
          0.07816897462858163,
          0.46304541899554374,
          0.41449442391196323,
          0.4317995299021291,
          0.5972359228506816,
          0.8258182874574111,
          0.7448597568892281,
          0.026024711692750557,
          -0.31940868646665743,
          -0.4676531570830911,
          -0.81151534646611,
          -0.9047841996625783,
          -0.8479908909450575,
          -0.11071755560811258,
          1.0339451629794576,
          0.5507118812035943,
          0.7937876981093268,
          2.147394783653276,
          2.504407858687964,
          1.2474516171252708,
          1.5006445015804948,
          1.441623207030018,
          1.3973266549870171,
          1.2868815753017824,
          1.234725138519,
          1.2146847190344285,
          0.9627785358602345,
          -0.2535732212538342,
          -1.0386585235275234,
          -0.1966374449530086,
          0.46079421320308533,
          -0.35921693105347696,
          -1.139837787307937,
          -1.395806954522652,
          -1.421551731944136,
          -1.3249248106449991,
          -1.4302307310700255,
          -1.2364769521829495,
          -1.0677524156684743,
          -0.7874375016355066,
          -0.35972832011827016,
          -0.3228149213925964,
          -0.4511955245779793,
          -0.2302677961275683,
          0.16886839425768052,
          0.558988852302178,
          -0.08117291213662292,
          -0.39319349193228426,
          -0.503436888985922,
          -0.8724549232406984,
          -0.813612020390643,
          -0.7481493745773022,
          0.6008596832048783,
          1.657291258809046,
          1.8050845649934768,
          2.0379125826758084,
          2.31122550669566,
          -0.16452533707480477,
          -0.48020041735419783,
          -0.6081883985840184,
          -0.2697537016806173,
          0.5858368938106224,
          1.2868942184579417,
          1.3131077942171885,
          1.1836342713417487,
          -0.11333768897631558,
          -1.0329644954436272,
          -1.2103391446417238,
          -1.2120569072472804,
          -1.2282877170342683,
          -1.2581848021014093,
          -1.297257107845113,
          -1.2285933236560247,
          -0.7718922611640986,
          -0.7027899333968466,
          -0.8238436565649968,
          -1.0298732918971547,
          -1.049868669163435,
          -0.7566996840872291,
          -0.6305754570254737,
          -0.9560939850399022,
          -0.876329311742224,
          -0.7005718348096519,
          -0.6102176564277316,
          -0.19109397311775012,
          -0.43987925767999403,
          -0.6390556237619982,
          -0.8821467097207143,
          -0.8204666426455196,
          -0.668757924157779,
          0.9148791464612547,
          1.746667527894246,
          1.9115459917646422,
          2.3364928019107776,
          2.4633498304919765,
          -0.5726625530413898,
          -0.6477831923060249,
          -0.892632979726681,
          -0.618277110028866,
          0.4503997631093988,
          1.3742770961019097,
          1.419360995161,
          1.3564380940396177,
          1.2219775358423899,
          1.0037062068575864,
          0.6743633997792688,
          0.04108713469376468,
          -0.8864092963924506,
          -1.2491739645441986,
          -1.314173629983559,
          -1.0995253174851065,
          0.011718518679072254,
          0.8392210259025923,
          0.5892424689344873,
          -0.8835836772933234,
          -1.2605390765152453,
          -0.7040373389567751,
          -0.5890100083282137,
          -0.787513016070156,
          -0.6360892890019729,
          -0.6039347227323184,
          1.8650805179300765,
          2.0109872577472103,
          2.403457481474918,
          -0.5580810322624035,
          -0.9561015113447726,
          -0.6079363167782716,
          0.6767260314495935,
          1.4192759846811303,
          1.4147338982009732,
          1.3522354176822358,
          1.3115118267589683,
          1.2569970629288285,
          1.145364165124974,
          0.6242519850495221,
          -0.5863381684976341,
          -1.2329488854666888,
          -1.5121396238937415,
          -1.3617386530599025,
          -1.142049931555673,
          -0.8610823940959293,
          -0.7836153782884927,
          -1.2628725253254056,
          -1.3793968032902457,
          -0.45052294303429896,
          0.1553307875876344,
          -0.39582505515939514,
          -0.11913724772258893,
          -0.12147810079559052,
          1.3008468309730503,
          1.256685200615408,
          1.1296443642767287,
          0.45766778335678104,
          -0.7299813159506217,
          -1.272709443699001,
          -1.5212363564507387,
          -1.3321093961242672,
          -1.1419738006692648,
          -1.417178793800197,
          -1.6249663617121146,
          -1.6402732454890312,
          -1.66645299696342,
          -1.346671014258928,
          -0.7008217645672743,
          -0.2781543470323422,
          0.12735671689201622,
          -0.19113935747653343,
          -1.3189392887051925,
          -1.1266933493696678,
          -1.4917440270540432,
          -1.6316273041394522,
          -1.6478634371157377,
          -1.6575600397314514,
          -1.2778856784383954,
          -0.6728807528274725,
          0.20283714529756391,
          -1.4276694423590295,
          0.23294225218761344
         ],
         "z": [
          0.27967508920296136,
          0.22974586568936473,
          0.22487951646200632,
          0.2253638494521888,
          0.22161969427551687,
          -0.3122941130378174,
          -0.34955322644191256,
          -0.22683036347759455,
          -0.13695995695342078,
          0.29511329705674894,
          0.2727085288405253,
          0.22659168365105842,
          0.22588971763063537,
          0.23008595746502158,
          0.21830639969666943,
          0.1687607314887385,
          0.2135548029305765,
          0.22274691876093078,
          0.19779762098505915,
          0.20167342785499032,
          0.2038892777795891,
          -0.3182308753009728,
          -0.34924511655697765,
          -0.25340094624049136,
          -0.19228369739193862,
          0.13271265795004794,
          0.28250243236737393,
          0.23171227525554272,
          0.22830295263345568,
          0.22803495238531468,
          0.21513791023022266,
          0.16735078164655404,
          0.2378202815117878,
          0.2196483664722808,
          0.22042064763072933,
          0.19740125846294654,
          0.20633517100569865,
          0.2005037646695491,
          0.1526335770271674,
          0.15182472073451203,
          0.22548924043340923,
          0.20953076697290185,
          0.11284996274097048,
          -0.6015687550193762,
          -0.27621209096859545,
          -0.40064107112440883,
          -0.33923406775666365,
          -0.2579900605557264,
          -0.20211613601880662,
          0.10430069100057149,
          0.2715545802170636,
          0.2308523801458957,
          0.23437359598043894,
          0.23051254781078256,
          0.23562958724941852,
          0.278208173625915,
          0.28039853474631893,
          0.27851438744089285,
          0.2497147515709761,
          0.20852623442727225,
          0.20744264046218963,
          0.20000564647999863,
          0.19452970207377307,
          0.3179499557824461,
          0.0950950611722734,
          0.17133829233865527,
          0.2274508968132789,
          0.20127308329238658,
          0.09498659137610144,
          0.07207632489487059,
          -0.5570326743718099,
          -0.5524385699164247,
          -0.5922696236049121,
          -0.5728062368847411,
          -0.5316224541732151,
          -0.3602799359370914,
          -0.10552995693626954,
          -0.10303042370569837,
          -0.38059155482088003,
          -0.39447244034719287,
          -0.3072041434541821,
          -0.266963037219174,
          -0.2690961632594884,
          -0.15054689548620748,
          0.11737423950949522,
          0.1403951898291238,
          0.15168751054260898,
          0.17431410762539112,
          0.19814771783464624,
          0.23233268890711956,
          0.2640634868720073,
          0.2818073506092633,
          0.2722212627290288,
          0.21926605234706242,
          0.20909645666128363,
          0.22574167021642277,
          0.29112340540795323,
          0.2936526829377526,
          0.22898215138471034,
          0.20923285259026425,
          0.2204723178706316,
          0.19368907160626447,
          0.08196288525515971,
          0.06228868016787814,
          -0.5740449807996246,
          -0.4570439752226132,
          -0.4239147363145854,
          -0.5501752797128217,
          -0.5826442130528875,
          -0.5492213740794418,
          -0.5127458584890232,
          -0.30466052965116663,
          -0.12418373169352415,
          -0.05952010229259885,
          0.7029586792133566,
          0.497206039584311,
          -0.04930790643167515,
          -0.08706618855934112,
          -0.24321952953391146,
          -0.27755487210995655,
          -0.12374697701495929,
          0.17156402171744967,
          0.2414192790482741,
          0.2014718657305241,
          0.20360282874545677,
          0.18335997116747493,
          0.1680582247063398,
          0.19979985647330722,
          0.21595867642879507,
          0.20517230605336456,
          0.15413679201840114,
          0.12231976156091995,
          0.15134175600009625,
          0.20818839961066637,
          0.24506609639865706,
          0.21084969129165776,
          0.20926015086261063,
          0.20893402658409266,
          0.18821314741770023,
          0.07753958223122948,
          0.09066426538918537,
          0.030816915635014208,
          0.02498743930553804,
          -0.3776783833525308,
          -0.497122537348907,
          -0.45734178547777016,
          -0.18263415208620848,
          -0.114701364586278,
          0.0899501121553894,
          -0.022925691480815025,
          0.13960635124130583,
          0.6183656541847516,
          0.21527080364452672,
          0.026162004593079546,
          0.046838181858755434,
          -0.12083395925336982,
          -0.3524452513994367,
          -0.3339728504976933,
          -0.1913972347128685,
          0.18781093239450652,
          0.3690943566968071,
          0.7847193655456253,
          0.8262702100278916,
          0.6614044733717703,
          0.5178657380588616,
          0.3518184778130836,
          0.16447787702714423,
          0.13315594534918018,
          0.12126360947367432,
          0.08284978728326409,
          0.08633937123809177,
          0.09362942208339176,
          0.12344666377946645,
          0.10705204344539654,
          0.10351307853122527,
          0.09806806665972734,
          0.039895123570280244,
          0.033502945448864674,
          0.09090502070871365,
          -0.09450006225810248,
          -0.3046815066069999,
          -0.29404082869538417,
          -0.3560997548062268,
          -0.33640128792103474,
          -0.14734732466064826,
          -0.015554195160329076,
          0.2617981948711827,
          0.3136667523163398,
          -0.09097450884603075,
          0.40730484620914265,
          -0.28661662036212116,
          -0.00688123922361028,
          0.1479615958735987,
          0.1042329447241821,
          0.0020967221297987226,
          -0.030070353140911665,
          0.010183426773890614,
          0.092061543211016,
          -0.004907842317920491,
          0.9677552614992471,
          0.5290393135150753,
          -0.01169456900961352,
          0.15658380735378197,
          0.21605489806442585,
          -0.1393690618058372,
          -0.00391551676449442,
          0.061582734239766346,
          0.045797161355585425,
          0.04361161705846461,
          0.050064504219862416,
          0.08057160164744848,
          0.18677683594218308,
          0.13887251489747765,
          0.15510288382956983,
          0.04010072624143701,
          0.02684380945217324,
          0.1036131248377008,
          -0.06820378069970334,
          -0.419080503601559,
          -0.1288763123367379,
          -0.09433461176803959,
          -0.08811476933696005,
          -0.07610683720553435,
          -0.06604213251068447,
          -0.020981106779431324,
          0.01693174651900986,
          -0.12607860035726415,
          0.32903421798796084,
          -0.12791100002009406,
          -0.0006551975271399391,
          0.12146047793204487,
          0.11075214047964344,
          0.08435579811335059,
          0.09757733333708718,
          0.1340592233950315,
          0.1500982873762282,
          0.19014117747337045,
          0.4229085922482537,
          0.3790353975741914,
          0.3100517324174117,
          0.15534498452913725,
          0.593052058693598,
          0.578971083119137,
          0.6280813390348934,
          0.243361151015548,
          0.17762759061685718,
          0.014946298254060908,
          0.08447409154556218,
          0.08899182366457081,
          0.3343109802036852,
          0.36284940930557386,
          0.5690369340250518,
          0.4638425705265402,
          0.3888825256402373,
          0.3138720846050418,
          -0.29795008480189544,
          -0.21431411982554294,
          -0.23560397838199376,
          -0.021897771209355654,
          -0.10972217788258765,
          0.15535384823756715,
          -0.1590946706577373,
          -0.09893961109764304,
          -0.023757199157593,
          -0.06068958837135385,
          -0.022349205462024235,
          0.30515052623451194,
          0.37460159088199085,
          -0.07233172373930752,
          0.29234914256583155,
          0.16447896234937093,
          0.16688788094052864,
          0.19057395333971627,
          0.19287473160722446,
          0.19626101209736724,
          0.137803713023524,
          0.12373578824421161,
          0.10818029771353799,
          0.14405687669982953,
          0.0808386626568593,
          0.397853260096925,
          0.37076749803563724,
          0.7429758267083422,
          0.44530355438071223,
          0.39276168702704384,
          -0.03508486003707323,
          0.513232175390063,
          0.48661528520632813,
          0.47576825563300285,
          0.47011832170222556,
          0.5284385479147509,
          0.45578803023387626,
          0.4216947286917152,
          0.4824460860946995,
          -0.3189691207451374,
          -0.25972495627438075,
          -0.0583671641244734,
          -0.015712233883970694,
          -0.12141004909993502,
          0.2659318362120562,
          -0.2715080898260458,
          -0.16343481109048785,
          0.28334305323296993,
          0.10409281445684393,
          -0.07991990554633388,
          0.18185125084098974,
          0.2831442339427921,
          0.12775758407924143,
          0.34064062052005384,
          0.24289121517257217,
          0.13868321094086733,
          0.2621640933721032,
          0.25000038092062515,
          0.27068408887962214,
          -0.042440071306058896,
          0.07000002099544711,
          0.12082601806342919,
          0.1486406653123139,
          0.1389052107694907,
          0.2252574724626204,
          0.3735824130993347,
          0.47187090182530533,
          0.4492769543766352,
          0.39689289655983906,
          0.26637445491209333,
          0.4956712342276134,
          0.5124978297856517,
          0.538072769111577,
          0.4911625806529854,
          0.49758171626317194,
          0.4498114524360759,
          0.46786430118378164,
          0.560428496903317,
          -0.5685046225769781,
          -0.21563129744160364,
          0.05892001575729372,
          -0.1525979436994639,
          -0.11282153140961082,
          -0.09719763739782128,
          -0.15728770263793745,
          -0.13907031024728345,
          0.08655583749694523,
          0.03308980816598589,
          -0.15270613845546682,
          0.08943353355860778,
          0.010572066115281942,
          0.01707807269638062,
          -0.06927875459977675,
          0.48261556510524395,
          0.01799817653669744,
          0.14227866366791297,
          0.22183091105683306,
          0.3339320916815946,
          0.04977775106101956,
          0.1603327683494672,
          0.1167844467578919,
          0.0581937244654146,
          -0.03257050397577588,
          0.14705564581012875,
          0.26879316821096677,
          0.35148986084514944,
          0.41417119723514995,
          0.4199610221690343,
          0.43904804603581726,
          0.4480410473551356,
          0.46621497032553433,
          0.8346186028194345,
          0.6393941460470386,
          0.692115666532024,
          0.5978542443953007,
          0.8801833456785284,
          -0.6797069026628566,
          -0.4516892406833446,
          -0.29558698657344873,
          -0.19083063006163592,
          -0.17414417909717284,
          -0.15001009528001974,
          -0.1488069073323115,
          -0.14532511353379673,
          -0.1437988135204964,
          -0.13477485098850972,
          -0.12966170037632607,
          -0.13305757015946873,
          -0.112294862093137,
          -0.04842214449630933,
          -0.01028235420654633,
          0.011865994297352023,
          0.2129568630460555,
          0.04403381689873148,
          0.0021861897251966855,
          0.06137917048261354,
          0.04115219364071887,
          0.03398368862417789,
          0.03381849010033461,
          0.04700306567611276,
          -0.026746180016117616,
          -0.03982067286713509,
          0.16794326682267757,
          0.07254162734839897,
          0.14726702246262513,
          0.22911851815425932,
          0.3597890428810635,
          0.3797880496331786,
          0.3589525382098569,
          0.6374762323587643,
          0.8516062039891157,
          0.6825673112175636,
          0.7768799660757446,
          0.7606212854898551,
          0.27398964842313256,
          -0.4887168004286575,
          -0.4276505672965776,
          -0.31620837003921554,
          -0.21929114200927846,
          -0.2064188904397949,
          -0.19648287084371208,
          -0.19940021719379486,
          -0.19022300905315692,
          -0.19409683228234442,
          -0.18897535503292584,
          -0.1881502829862297,
          -0.17290891476004056,
          -0.11479395850884666,
          0.10061938518961866,
          0.11877640164086423,
          0.09733450482382944,
          0.05988086387421332,
          0.038515733752242154,
          0.02655184377030806,
          0.022139189190843567,
          0.028996584059016506,
          0.001569256138479469,
          -0.03838934082178236,
          -0.11046108766605045,
          -0.26266135148611314,
          -0.32487893298896053,
          0.1043759628191534,
          0.5624712408835952,
          0.3682134407018695,
          0.28352778832666004,
          0.33565659930275016,
          0.35540189399678435,
          0.3443215700483737,
          0.7183131001208471,
          0.8857455951796074,
          0.8041498255912414,
          0.5928335975802952,
          1.1174667965739937,
          1.6395512748568892,
          -0.33457910361032184,
          -0.3872162929582177,
          -0.24286655434122584,
          -0.2192608288516369,
          -0.21506453302882833,
          -0.11102125877716984,
          -0.15446412004378496,
          -0.1283109785257598,
          -0.23173116932749838,
          -0.2272513914100347,
          -0.24146148722561278,
          -0.2081273708733654,
          -0.1616582172684211,
          0.013771744059272617,
          0.06697779901693801,
          0.0906578291023008,
          0.12763385833418128,
          0.17564240576579226,
          0.19635624707267063,
          0.20406023352920732,
          0.15001730834548954,
          -0.013995914582348945,
          -0.29747829942739745,
          -0.4264133561345895,
          -0.4558203678984021,
          -0.3809865499356482,
          0.05464546883704813,
          0.697888073617491,
          0.4103107610055621,
          0.3217691230841243,
          0.28814658843844776,
          0.2918701328460005,
          0.30410453037753393,
          0.499489131196311,
          0.6547199824194558,
          0.3040218358012847,
          0.04652369189996719,
          0.12836967528329524,
          0.3121929421552112,
          -0.27978239532345395,
          -0.38611519249489135,
          -0.2912073959634014,
          -0.2368711233032419,
          -0.18208916366628403,
          -0.07109764391787765,
          -0.06532975538966476,
          -0.1487184084945551,
          -0.2948801882604588,
          -0.400569128157924,
          -0.459057334627327,
          -0.3971995642714763,
          -0.1497943459976563,
          0.07114203591674606,
          0.14292147391280008,
          0.15099972514841686,
          0.13180079452310278,
          0.11499461389319643,
          0.09461081122658044,
          0.06537259638452464,
          -0.08094181617908935,
          -0.2600776743220967,
          -0.27385141518639533,
          -0.33148987023099385,
          -0.34827459955682016,
          -0.3364209709984498,
          -0.10769421262286616,
          0.43270795587343613,
          0.4760971586594011,
          0.47311453040249274,
          0.4319546725307598,
          0.39700467034698417,
          0.3933370337323756,
          0.5812220953134186,
          0.6868640958585701,
          0.10502479655980412,
          -0.15860988667555365,
          -0.22641468185230718,
          -0.06714721070193796,
          -0.2128366873913321,
          -0.36496780801530404,
          -0.31884786219369143,
          -0.24050776833961585,
          -0.06905286552496731,
          -0.0003082219984660295,
          -0.055418588324380236,
          -0.2302843803116425,
          -0.2734027718318398,
          -0.35391161033281326,
          -0.36454709630907023,
          -0.3979351136982465,
          -0.23559066933459816,
          -0.08493633389294974,
          5.9119126419759915e-05,
          0.04858645312035337,
          0.036126974045097904,
          0.04296827107528589,
          0.09291083246368592,
          0.13032948630068153,
          0.05065305721539515,
          -0.22211087544674135,
          -0.2749200525088189,
          -0.3262897920163217,
          -0.4328578599994697,
          -0.5212461835224174,
          -0.23301406594396523,
          0.27891297527949166,
          0.4258220040130024,
          0.4985925826775235,
          0.49704949313076174,
          0.5023993386635286,
          0.585506335046307,
          0.798437833813321,
          0.9903859843515603,
          0.2940970580677198,
          0.4011133085996952,
          0.8377241393926811,
          -0.01378462520057755,
          -0.11908177380664464,
          -0.013430231983241114,
          0.04269555306596595,
          0.004832709399606061,
          0.12234190216386598,
          0.021373202826960036,
          -0.25088620431764264,
          -0.25294509987924485,
          -0.26353120512540273,
          -0.27424221858666087,
          -0.34975485044526766,
          -0.4763495826070874,
          -0.2860788585646281,
          0.008600624319346495,
          0.09623706710098567,
          0.12096610879792224,
          0.11744525930767669,
          0.1052471836521055,
          0.004166441172295254,
          -0.25419586685614837,
          -0.4953535610320552,
          -0.49645511400336195,
          -0.4986735172267789,
          -0.5066783976974869,
          -0.4726464808657318,
          -0.14936953013307708,
          0.14750008513070423,
          0.2310920577950606,
          0.4386012002765661,
          0.45103430493971675,
          0.4538436338193908,
          0.49418600441500926,
          0.5779634071109918,
          0.7379250418854657,
          0.3701339843593745,
          0.369559376741305,
          -0.1415544015825616,
          -0.19862166336070664,
          -0.11237877152842157,
          0.039964079160038524,
          0.11385303567386601,
          0.13549218847471317,
          0.26376673919598326,
          0.3165522163384574,
          -0.2428844085757304,
          -0.06129625911384229,
          -0.062190906624586706,
          -0.20577536021915122,
          -0.45678672697777234,
          -0.3178864859510211,
          -0.38312468004377154,
          -0.19318179409006686,
          -0.18112015599437603,
          -0.13834247287601964,
          -0.043859063760425476,
          -0.019282111188465567,
          -0.0690718475573967,
          -0.18069244934316964,
          -0.3483753383444528,
          -0.38357190087111004,
          -0.38882730182275127,
          -0.42066079569468506,
          -0.39592227236582067,
          -0.16167434001370795,
          -0.06072836033967932,
          0.0717612072543461,
          0.3591222431516633,
          0.43154789801948246,
          0.443045039454834,
          0.4466397274517515,
          0.4584927610889335,
          0.49003747995333735,
          0.47635947270864154,
          -0.14223726695928907,
          -1.4208536396168414,
          -0.28165342068557575,
          -0.11515879547869878,
          0.03647600639962156,
          0.018721382308389822,
          -0.02053069600721813,
          0.005852236651867959,
          0.06682613117122643,
          -0.12213860193534576,
          -0.04218210078950202,
          -0.030549595979321054,
          -0.2780084813747883,
          -0.4342932350823765,
          -0.1450346115888359,
          -0.4326095272095327,
          -0.12659173651263744,
          -0.2899496318860102,
          -0.2146240439491327,
          -0.01681998934855633,
          0.08562185085648188,
          -0.052296838055917894,
          -0.19970578318116283,
          -0.35590156738613965,
          -0.4583886096743828,
          -0.5246219171215567,
          -0.5949739141950259,
          -0.444430094468387,
          -0.13348263956334483,
          -0.10091995246274199,
          0.04745754093268717,
          0.29103587419255283,
          0.4066801778856015,
          0.42249738307609785,
          0.42198601872944996,
          0.5030389905300551,
          0.5984841481424447,
          0.56255898090553,
          -0.02562782846260081,
          -1.0355303085676661,
          -0.4476453113977412,
          -0.30380046572159625,
          -0.1183485762476939,
          -0.05213368380149197,
          -0.07064732121824036,
          -0.04995519004691973,
          -0.04117035881886655,
          -0.04588365036264541,
          -0.05169004838539193,
          -0.055967230086285014,
          -0.088570964932139,
          -0.3255174287576954,
          -0.31421743325342866,
          -0.33000024454448473,
          -0.21340311023380942,
          -0.297191749427272,
          -0.25838534916742817,
          -0.2480680303951719,
          -0.193662821450572,
          -0.24047820480402504,
          -0.34415455565858255,
          -0.3621041445871245,
          -0.36361998057062106,
          -0.39845316331221703,
          -0.3706811978803173,
          -0.26957891455565086,
          -0.16468215395517416,
          0.0489224815207554,
          0.3049874001951912,
          0.3288240245064773,
          0.35610812289190275,
          0.3713848216065794,
          0.3877757957365229,
          0.519745266938624,
          0.641220402684027,
          0.5392702850147271,
          -0.0179761254835884,
          -1.1606243015470943,
          -0.39482298115274694,
          -0.3408506792660133,
          -0.23363361062593835,
          -0.13796342852273713,
          -0.1494772451222589,
          -0.10438133114804093,
          -0.08622977054911651,
          -0.07730645254873125,
          -0.06813842963895156,
          -0.06796973935209294,
          -0.0885013429426239,
          -0.22357131340558656,
          -0.13273647659535381,
          -0.16782314389851272,
          -0.2659433736450574,
          -0.3575741861100312,
          -0.3904269202156736,
          -0.32118500238084047,
          -0.22382278848669634,
          -0.2169656961850479,
          -0.3133866196649735,
          -0.32369172645546174,
          -0.3419452394813023,
          -0.4048655767783469,
          -0.37387489986043,
          -0.27988517028745985,
          -0.16251758426441665,
          0.09445548275291094,
          0.30132076268850905,
          0.3231585848108165,
          0.3261206556632976,
          0.3226735673765948,
          0.3367971271655624,
          0.5023255267253499,
          0.5755344466660106,
          0.09177205825032742,
          -0.15451371714539874,
          -1.235561259261241,
          -0.6658900781224775,
          -0.3133491261597584,
          -0.1518738489346294,
          -0.08342508173038543,
          -0.10149274974685629,
          -0.09835492816779479,
          -0.09433854028182254,
          -0.08571722367172663,
          -0.07677539380012799,
          -0.07654637496411398,
          -0.11768071281325287,
          -0.23551251487891078,
          -0.21343768980547373,
          0.007446570921893159,
          -0.11026408185952175,
          -0.1136283976648782,
          -0.20276017043400585,
          -0.2565764974275728,
          -0.29733886850318214,
          -0.35326473613925713,
          -0.3849202798013591,
          -0.39092602799555953,
          -0.40209937712865074,
          -0.46430005590030454,
          -0.42104682622727907,
          -0.2648348582887139,
          -0.13887472303588044,
          0.06063374079363015,
          0.2464930682182226,
          0.2679016276998184,
          0.26400198053874036,
          0.26632658808401033,
          0.419783898218519,
          0.5910486671413626,
          0.5691467040940814,
          0.026911773864938926,
          0.1857891869079138,
          -0.006461057826539385,
          -0.17594220590594123,
          -0.15747646353438327,
          -0.07832076218810857,
          -0.0867780339113493,
          -0.07688580508529341,
          -0.09428929049839285,
          -0.106759829806095,
          -0.12186400070706938,
          -0.14520950186503745,
          -0.1487412872737388,
          -0.22014466299012525,
          -0.3325068195837151,
          -0.3572765963565123,
          -0.21303360868391352,
          -0.3162232608256559,
          -0.19576569480117922,
          -0.13537867533320158,
          -0.14185223179649165,
          -0.1834394595432296,
          -0.26483260637660644,
          -0.36848871372314695,
          -0.37320616173476173,
          -0.37756720342247707,
          -0.41671576585960723,
          -0.3993180375497203,
          -0.33422221176308753,
          -0.3167705682977946,
          -0.22884011061906917,
          0.10112341601030894,
          0.21733548040065676,
          0.24348240078072192,
          0.27179171715838557,
          0.44713459473142997,
          0.5945597097956463,
          0.37853650939883865,
          0.20098398042774956,
          0.5726056973023907,
          0.06410984526329333,
          -0.11937336952101507,
          0.05908463633681649,
          0.08148770030295038,
          -0.08797631559903962,
          0.06904866672461707,
          -0.08977355801457323,
          -0.0843572344590563,
          -0.13636098589804702,
          -0.14543796661845187,
          -0.15673048319196947,
          -0.26781097685462296,
          -0.21340644102607764,
          -0.22787800592147778,
          -0.1379728603299588,
          -0.32703962036355794,
          -0.15339070091039497,
          -0.24098624046425243,
          -0.25096670386644115,
          -0.23187755552988465,
          -0.3137530365664991,
          -0.39082946078755754,
          -0.3976573785029971,
          -0.4096004306828154,
          -0.47329587237995163,
          -0.4566483811194706,
          -0.36607745206531384,
          -0.34951517511395025,
          -0.284018197862542,
          0.05962725011586967,
          0.17675904373553142,
          0.21767844955058702,
          0.342886654530029,
          0.08118060409295857,
          0.3986059955790804,
          0.15362075960644006,
          0.028245730155263438,
          -0.05871989500783181,
          -0.8341220617133738,
          -0.6264370482234973,
          -0.5337686545086786,
          -0.10458008918497042,
          -0.05791909286355956,
          0.0696684432174921,
          -0.06108338686884551,
          -0.07906995269707368,
          -0.15194809498515038,
          -0.15702450260468714,
          -0.14970074961309565,
          -0.1355160185226374,
          -0.08046817327776512,
          0.02641319414380927,
          0.1155979652062955,
          0.08116899901372165,
          0.14997132709058647,
          0.029214984101243013,
          -0.021064280422308235,
          -0.12374581229165327,
          -0.37038016571340027,
          -0.4160464587964663,
          -0.4204213731728039,
          -0.4361773945858505,
          -0.46436950557748835,
          -0.42354830058145465,
          -0.3983663689428756,
          -0.3886899843020104,
          -0.31125160377117367,
          0.014649045507074687,
          0.13116961131785387,
          0.2599778001298051,
          0.34923342509646405,
          0.2239625778400547,
          0.3059967803619279,
          0.1296678805636069,
          -0.10274032692961521,
          -0.43240245316225145,
          -1.004004149846618,
          -0.870948664151884,
          -0.6983877315630904,
          -0.6736329970641419,
          -0.1739369022666799,
          -0.0674817800047105,
          0.03176648054352871,
          0.11534553662684432,
          0.0023870150672906654,
          -0.0903486470923971,
          -0.18476699244923633,
          -0.36823110300949174,
          -0.12287826793313616,
          -0.04654799314340308,
          -0.004035614979337465,
          0.06332430318770943,
          0.06436114233914281,
          0.06562856382585369,
          0.035446061625843295,
          -0.0925877097262997,
          -0.2697315297339169,
          -0.4287873547706642,
          -0.44510173235594275,
          -0.45511193058838906,
          -0.47473779984845343,
          -0.49139693713105714,
          -0.4647753332273168,
          -0.43852321351568646,
          -0.23976176109038616,
          -0.15828320946224683,
          0.12662843906028887,
          0.1142150157757924,
          0.3322378141507838,
          0.3470037805973758,
          0.39154494516031213,
          0.4169119184266885,
          0.05141542487852613,
          0.37010652446009473,
          0.6553001243328609,
          -1.1358092471760788,
          -1.0204742336768913,
          -0.8631265103291366,
          -0.6721634400577399,
          -0.5585210873466488,
          -0.5250213397421026,
          -0.4300452628785205,
          -0.3352181721236449,
          -0.030593384374574928,
          -0.06631382149390541,
          -0.21093819953947923,
          -0.4647683064612178,
          -0.1764924813500064,
          -0.15166537553983928,
          -0.0801244174539395,
          -0.010925627542879401,
          0.02606875886819071,
          0.053876069567187046,
          0.0159934862945339,
          -0.21517422368571815,
          -0.38534145871938996,
          -0.4584572503865525,
          -0.46291209950176215,
          -0.47115242437719074,
          -0.5090691623566985,
          -0.5133089745832136,
          -0.438986640020806,
          -0.41033034902661525,
          -0.0834993001048705,
          0.05329905338735563,
          0.3634619808662892,
          0.05443896811318605,
          0.24966746292504594,
          0.2349166724418903,
          0.6151576951984135,
          0.24758781723800327,
          0.17400160027432143,
          0.35089487142531084,
          1.4324508168397827,
          -1.7984139691344527,
          -1.169505051107973,
          -0.8335382065744099,
          -0.7308161370670154,
          -0.6662091431910468,
          -0.6438013718790394,
          -0.6420435160931746,
          -0.5749161589364915,
          -0.06694245424014067,
          -0.10391877160021235,
          -0.4325850533745612,
          -0.5442515836951287,
          -0.48638197502523095,
          -0.2225069678949223,
          -0.11843390999156544,
          -0.14173343932093824,
          -0.13959556131546436,
          -0.14911292892462835,
          -0.15999745657097086,
          -0.232357315086426,
          -0.37979434614365015,
          -0.39698321971592243,
          -0.2469378639679085,
          -0.29722142235208837,
          -0.37595714887730813,
          -0.4799331985640354,
          -0.4543920354968063,
          -0.07572870386266106,
          0.030123763041814744,
          0.4149663779678956,
          0.11707908356858931,
          0.12062727721320687,
          0.17973877124125837,
          0.33553492015566544,
          0.5729304576218244,
          0.5218423823578746,
          0.44199252161926594,
          0.06671982277398136,
          0.3334223592307053,
          -0.8462870647645255,
          -0.9375396096642818,
          -0.803135895297272,
          -0.8304836691925646,
          -0.7819222007221853,
          -0.7458025640153298,
          -0.7628461315649373,
          -0.6681488406653813,
          -0.4051032155954388,
          -0.2734546074326185,
          -0.36113162146093636,
          -0.45767877466382156,
          -0.5217095238065266,
          -0.16913395254737562,
          -0.07046020680252418,
          -0.14611493998984315,
          -0.013029253779846206,
          -0.10235735200133439,
          -0.30870114320638875,
          -0.25608712786970644,
          -0.30981586509838355,
          -0.25292705030832274,
          0.09274698496681222,
          0.08933510899545183,
          -0.029173435015856564,
          -0.2514024187640007,
          -0.5488205574065319,
          -0.015679370067076093,
          0.0662311729775601,
          0.46986635421553535,
          0.014300147367903193,
          0.12319458857739951,
          0.09554734775819673,
          0.37382035425656124,
          -0.044946994327972334,
          -0.09868537940622968,
          0.08280757088886226,
          0.0849739472440616,
          -0.1888474162650473,
          -0.3842807382193727,
          -0.3419582989702503,
          -0.31584949107072546,
          -0.6675495312881603,
          -0.7097496919168265,
          -0.770877203939599,
          -0.685222313045232,
          -0.6028806154046391,
          -0.29505788110171904,
          -0.16447850490149785,
          -0.1490884301483506,
          -0.13177246655411867,
          -0.11348873432432915,
          -0.10103247754463096,
          -0.13326367954905827,
          -0.009654645569034948,
          -0.24155270570080134,
          -0.32299302412825553,
          -0.2580553157905353,
          -0.2478336487707099,
          -0.0806423224050451,
          0.232279202361038,
          0.2855162431950674,
          0.19393565565294102,
          0.11920645973841593,
          -0.15385759918417563,
          0.007766164417445709,
          -0.013665567824329705,
          0.33331794430389494,
          0.0008779063694337452,
          0.1278098400901757,
          0.09553428699404876,
          0.4209398956095871,
          -0.11380020739662644,
          -0.22621780448507067,
          0.10614947790569396,
          0.3278425565016887,
          -0.47792972879532325,
          -0.3929573731509657,
          -0.2563786669847943,
          -0.18849507620811545,
          -0.5747625343607954,
          -0.6972105469399441,
          -0.7814376024785528,
          -0.7974532102904828,
          -0.7847839718664913,
          -0.7519302158847978,
          -0.6664683355935264,
          -0.5768346230480041,
          -0.30649444530980086,
          -0.10433622462683001,
          -0.10674735461367524,
          -0.1066999536975839,
          -0.24492740897506327,
          -0.5881858020715169,
          -0.4406236705812292,
          -0.23672035129460456,
          -0.2197871006210277,
          -0.03535368509523895,
          -0.33620969404875956,
          0.16332814867384915,
          0.3133883713578629,
          0.4749948641456899,
          -0.03321481453679631,
          -0.23639358054608106,
          0.1909989675336483,
          -0.3324729420138257,
          -0.2550136786114807,
          -0.3676956620364593,
          -0.5570521676455638,
          -0.7105431389042529,
          -0.7862706054527493,
          -0.8040776186935084,
          -0.7959690148534184,
          -0.8212840598486482,
          -0.8142981276113677,
          -0.8998356635734899,
          -0.4421811008358687,
          -0.04408680609684357,
          -0.07607016674205136,
          -0.054876358241494394,
          -0.2451194869279284,
          -0.13051792075951263,
          -0.16294265885443737,
          -0.18827129926504416,
          -0.19823150516947674,
          0.11450690622076642,
          -0.20564114230842545,
          0.11448083086171579,
          0.5880545203176484,
          0.49429809220026955,
          -0.8387903003838613,
          -0.8260506856130423,
          -0.7959473452845041,
          -0.9177891070937907,
          -0.3639228584820824,
          -0.004223821685728435,
          -0.05841276422836805,
          -0.10961089134356611,
          -0.22854039741135346,
          -0.12901404689306362,
          -0.10646135059706996,
          -0.0931869069884973,
          -0.08311920210279788,
          0.12485725518584534,
          0.4408046942307582,
          0.15410913495459067,
          0.268501835999984,
          0.638991739566745,
          -0.20825133801630652,
          -0.16532338287529952,
          -0.133042201363406,
          -0.10310155767910367,
          -0.09015939836021214,
          -0.06785290167390923,
          0.20273142880951722,
          0.4339121718760133,
          0.22574474934712274,
          0.008320609609338003,
          0.2273153543056745
         ]
        },
        {
         "customdata": [
          [
           35,
           23
          ],
          [
           36,
           22
          ],
          [
           36,
           23
          ]
         ],
         "hovertemplate": "color=red<br>PC1=%{x}<br>PC2=%{y}<br>PC3=%{z}<br>x=%{customdata[0]}<br>y=%{customdata[1]}<extra></extra>",
         "legendgroup": "red",
         "marker": {
          "color": "#EF553B",
          "opacity": 0.5,
          "symbol": "circle"
         },
         "mode": "markers",
         "name": "red",
         "scene": "scene",
         "showlegend": true,
         "type": "scatter3d",
         "x": [
          28.869727688098507,
          23.40306422472335,
          29.396909826129384
         ],
         "y": [
          0.6583866644545289,
          0.38343837441080497,
          0.7588789007285488
         ],
         "z": [
          12.380851968565896,
          11.256064395085176,
          12.510209485669563
         ]
        }
       ],
       "layout": {
        "legend": {
         "title": {
          "text": "color"
         },
         "tracegroupgap": 0
        },
        "margin": {
         "b": 0,
         "l": 0,
         "r": 0,
         "t": 0
        },
        "scene": {
         "domain": {
          "x": [
           0,
           1
          ],
          "y": [
           0,
           1
          ]
         },
         "xaxis": {
          "range": [
           -40,
           70
          ],
          "title": {
           "text": "PC1"
          }
         },
         "yaxis": {
          "range": [
           -3,
           3
          ],
          "title": {
           "text": "PC2"
          }
         },
         "zaxis": {
          "range": [
           -3,
           15
          ],
          "title": {
           "text": "PC3"
          }
         }
        },
        "template": {
         "data": {
          "bar": [
           {
            "error_x": {
             "color": "#2a3f5f"
            },
            "error_y": {
             "color": "#2a3f5f"
            },
            "marker": {
             "line": {
              "color": "#E5ECF6",
              "width": 0.5
             },
             "pattern": {
              "fillmode": "overlay",
              "size": 10,
              "solidity": 0.2
             }
            },
            "type": "bar"
           }
          ],
          "barpolar": [
           {
            "marker": {
             "line": {
              "color": "#E5ECF6",
              "width": 0.5
             },
             "pattern": {
              "fillmode": "overlay",
              "size": 10,
              "solidity": 0.2
             }
            },
            "type": "barpolar"
           }
          ],
          "carpet": [
           {
            "aaxis": {
             "endlinecolor": "#2a3f5f",
             "gridcolor": "white",
             "linecolor": "white",
             "minorgridcolor": "white",
             "startlinecolor": "#2a3f5f"
            },
            "baxis": {
             "endlinecolor": "#2a3f5f",
             "gridcolor": "white",
             "linecolor": "white",
             "minorgridcolor": "white",
             "startlinecolor": "#2a3f5f"
            },
            "type": "carpet"
           }
          ],
          "choropleth": [
           {
            "colorbar": {
             "outlinewidth": 0,
             "ticks": ""
            },
            "type": "choropleth"
           }
          ],
          "contour": [
           {
            "colorbar": {
             "outlinewidth": 0,
             "ticks": ""
            },
            "colorscale": [
             [
              0,
              "#0d0887"
             ],
             [
              0.1111111111111111,
              "#46039f"
             ],
             [
              0.2222222222222222,
              "#7201a8"
             ],
             [
              0.3333333333333333,
              "#9c179e"
             ],
             [
              0.4444444444444444,
              "#bd3786"
             ],
             [
              0.5555555555555556,
              "#d8576b"
             ],
             [
              0.6666666666666666,
              "#ed7953"
             ],
             [
              0.7777777777777778,
              "#fb9f3a"
             ],
             [
              0.8888888888888888,
              "#fdca26"
             ],
             [
              1,
              "#f0f921"
             ]
            ],
            "type": "contour"
           }
          ],
          "contourcarpet": [
           {
            "colorbar": {
             "outlinewidth": 0,
             "ticks": ""
            },
            "type": "contourcarpet"
           }
          ],
          "heatmap": [
           {
            "colorbar": {
             "outlinewidth": 0,
             "ticks": ""
            },
            "colorscale": [
             [
              0,
              "#0d0887"
             ],
             [
              0.1111111111111111,
              "#46039f"
             ],
             [
              0.2222222222222222,
              "#7201a8"
             ],
             [
              0.3333333333333333,
              "#9c179e"
             ],
             [
              0.4444444444444444,
              "#bd3786"
             ],
             [
              0.5555555555555556,
              "#d8576b"
             ],
             [
              0.6666666666666666,
              "#ed7953"
             ],
             [
              0.7777777777777778,
              "#fb9f3a"
             ],
             [
              0.8888888888888888,
              "#fdca26"
             ],
             [
              1,
              "#f0f921"
             ]
            ],
            "type": "heatmap"
           }
          ],
          "heatmapgl": [
           {
            "colorbar": {
             "outlinewidth": 0,
             "ticks": ""
            },
            "colorscale": [
             [
              0,
              "#0d0887"
             ],
             [
              0.1111111111111111,
              "#46039f"
             ],
             [
              0.2222222222222222,
              "#7201a8"
             ],
             [
              0.3333333333333333,
              "#9c179e"
             ],
             [
              0.4444444444444444,
              "#bd3786"
             ],
             [
              0.5555555555555556,
              "#d8576b"
             ],
             [
              0.6666666666666666,
              "#ed7953"
             ],
             [
              0.7777777777777778,
              "#fb9f3a"
             ],
             [
              0.8888888888888888,
              "#fdca26"
             ],
             [
              1,
              "#f0f921"
             ]
            ],
            "type": "heatmapgl"
           }
          ],
          "histogram": [
           {
            "marker": {
             "pattern": {
              "fillmode": "overlay",
              "size": 10,
              "solidity": 0.2
             }
            },
            "type": "histogram"
           }
          ],
          "histogram2d": [
           {
            "colorbar": {
             "outlinewidth": 0,
             "ticks": ""
            },
            "colorscale": [
             [
              0,
              "#0d0887"
             ],
             [
              0.1111111111111111,
              "#46039f"
             ],
             [
              0.2222222222222222,
              "#7201a8"
             ],
             [
              0.3333333333333333,
              "#9c179e"
             ],
             [
              0.4444444444444444,
              "#bd3786"
             ],
             [
              0.5555555555555556,
              "#d8576b"
             ],
             [
              0.6666666666666666,
              "#ed7953"
             ],
             [
              0.7777777777777778,
              "#fb9f3a"
             ],
             [
              0.8888888888888888,
              "#fdca26"
             ],
             [
              1,
              "#f0f921"
             ]
            ],
            "type": "histogram2d"
           }
          ],
          "histogram2dcontour": [
           {
            "colorbar": {
             "outlinewidth": 0,
             "ticks": ""
            },
            "colorscale": [
             [
              0,
              "#0d0887"
             ],
             [
              0.1111111111111111,
              "#46039f"
             ],
             [
              0.2222222222222222,
              "#7201a8"
             ],
             [
              0.3333333333333333,
              "#9c179e"
             ],
             [
              0.4444444444444444,
              "#bd3786"
             ],
             [
              0.5555555555555556,
              "#d8576b"
             ],
             [
              0.6666666666666666,
              "#ed7953"
             ],
             [
              0.7777777777777778,
              "#fb9f3a"
             ],
             [
              0.8888888888888888,
              "#fdca26"
             ],
             [
              1,
              "#f0f921"
             ]
            ],
            "type": "histogram2dcontour"
           }
          ],
          "mesh3d": [
           {
            "colorbar": {
             "outlinewidth": 0,
             "ticks": ""
            },
            "type": "mesh3d"
           }
          ],
          "parcoords": [
           {
            "line": {
             "colorbar": {
              "outlinewidth": 0,
              "ticks": ""
             }
            },
            "type": "parcoords"
           }
          ],
          "pie": [
           {
            "automargin": true,
            "type": "pie"
           }
          ],
          "scatter": [
           {
            "fillpattern": {
             "fillmode": "overlay",
             "size": 10,
             "solidity": 0.2
            },
            "type": "scatter"
           }
          ],
          "scatter3d": [
           {
            "line": {
             "colorbar": {
              "outlinewidth": 0,
              "ticks": ""
             }
            },
            "marker": {
             "colorbar": {
              "outlinewidth": 0,
              "ticks": ""
             }
            },
            "type": "scatter3d"
           }
          ],
          "scattercarpet": [
           {
            "marker": {
             "colorbar": {
              "outlinewidth": 0,
              "ticks": ""
             }
            },
            "type": "scattercarpet"
           }
          ],
          "scattergeo": [
           {
            "marker": {
             "colorbar": {
              "outlinewidth": 0,
              "ticks": ""
             }
            },
            "type": "scattergeo"
           }
          ],
          "scattergl": [
           {
            "marker": {
             "colorbar": {
              "outlinewidth": 0,
              "ticks": ""
             }
            },
            "type": "scattergl"
           }
          ],
          "scattermapbox": [
           {
            "marker": {
             "colorbar": {
              "outlinewidth": 0,
              "ticks": ""
             }
            },
            "type": "scattermapbox"
           }
          ],
          "scatterpolar": [
           {
            "marker": {
             "colorbar": {
              "outlinewidth": 0,
              "ticks": ""
             }
            },
            "type": "scatterpolar"
           }
          ],
          "scatterpolargl": [
           {
            "marker": {
             "colorbar": {
              "outlinewidth": 0,
              "ticks": ""
             }
            },
            "type": "scatterpolargl"
           }
          ],
          "scatterternary": [
           {
            "marker": {
             "colorbar": {
              "outlinewidth": 0,
              "ticks": ""
             }
            },
            "type": "scatterternary"
           }
          ],
          "surface": [
           {
            "colorbar": {
             "outlinewidth": 0,
             "ticks": ""
            },
            "colorscale": [
             [
              0,
              "#0d0887"
             ],
             [
              0.1111111111111111,
              "#46039f"
             ],
             [
              0.2222222222222222,
              "#7201a8"
             ],
             [
              0.3333333333333333,
              "#9c179e"
             ],
             [
              0.4444444444444444,
              "#bd3786"
             ],
             [
              0.5555555555555556,
              "#d8576b"
             ],
             [
              0.6666666666666666,
              "#ed7953"
             ],
             [
              0.7777777777777778,
              "#fb9f3a"
             ],
             [
              0.8888888888888888,
              "#fdca26"
             ],
             [
              1,
              "#f0f921"
             ]
            ],
            "type": "surface"
           }
          ],
          "table": [
           {
            "cells": {
             "fill": {
              "color": "#EBF0F8"
             },
             "line": {
              "color": "white"
             }
            },
            "header": {
             "fill": {
              "color": "#C8D4E3"
             },
             "line": {
              "color": "white"
             }
            },
            "type": "table"
           }
          ]
         },
         "layout": {
          "annotationdefaults": {
           "arrowcolor": "#2a3f5f",
           "arrowhead": 0,
           "arrowwidth": 1
          },
          "autotypenumbers": "strict",
          "coloraxis": {
           "colorbar": {
            "outlinewidth": 0,
            "ticks": ""
           }
          },
          "colorscale": {
           "diverging": [
            [
             0,
             "#8e0152"
            ],
            [
             0.1,
             "#c51b7d"
            ],
            [
             0.2,
             "#de77ae"
            ],
            [
             0.3,
             "#f1b6da"
            ],
            [
             0.4,
             "#fde0ef"
            ],
            [
             0.5,
             "#f7f7f7"
            ],
            [
             0.6,
             "#e6f5d0"
            ],
            [
             0.7,
             "#b8e186"
            ],
            [
             0.8,
             "#7fbc41"
            ],
            [
             0.9,
             "#4d9221"
            ],
            [
             1,
             "#276419"
            ]
           ],
           "sequential": [
            [
             0,
             "#0d0887"
            ],
            [
             0.1111111111111111,
             "#46039f"
            ],
            [
             0.2222222222222222,
             "#7201a8"
            ],
            [
             0.3333333333333333,
             "#9c179e"
            ],
            [
             0.4444444444444444,
             "#bd3786"
            ],
            [
             0.5555555555555556,
             "#d8576b"
            ],
            [
             0.6666666666666666,
             "#ed7953"
            ],
            [
             0.7777777777777778,
             "#fb9f3a"
            ],
            [
             0.8888888888888888,
             "#fdca26"
            ],
            [
             1,
             "#f0f921"
            ]
           ],
           "sequentialminus": [
            [
             0,
             "#0d0887"
            ],
            [
             0.1111111111111111,
             "#46039f"
            ],
            [
             0.2222222222222222,
             "#7201a8"
            ],
            [
             0.3333333333333333,
             "#9c179e"
            ],
            [
             0.4444444444444444,
             "#bd3786"
            ],
            [
             0.5555555555555556,
             "#d8576b"
            ],
            [
             0.6666666666666666,
             "#ed7953"
            ],
            [
             0.7777777777777778,
             "#fb9f3a"
            ],
            [
             0.8888888888888888,
             "#fdca26"
            ],
            [
             1,
             "#f0f921"
            ]
           ]
          },
          "colorway": [
           "#636efa",
           "#EF553B",
           "#00cc96",
           "#ab63fa",
           "#FFA15A",
           "#19d3f3",
           "#FF6692",
           "#B6E880",
           "#FF97FF",
           "#FECB52"
          ],
          "font": {
           "color": "#2a3f5f"
          },
          "geo": {
           "bgcolor": "white",
           "lakecolor": "white",
           "landcolor": "#E5ECF6",
           "showlakes": true,
           "showland": true,
           "subunitcolor": "white"
          },
          "hoverlabel": {
           "align": "left"
          },
          "hovermode": "closest",
          "mapbox": {
           "style": "light"
          },
          "paper_bgcolor": "white",
          "plot_bgcolor": "#E5ECF6",
          "polar": {
           "angularaxis": {
            "gridcolor": "white",
            "linecolor": "white",
            "ticks": ""
           },
           "bgcolor": "#E5ECF6",
           "radialaxis": {
            "gridcolor": "white",
            "linecolor": "white",
            "ticks": ""
           }
          },
          "scene": {
           "xaxis": {
            "backgroundcolor": "#E5ECF6",
            "gridcolor": "white",
            "gridwidth": 2,
            "linecolor": "white",
            "showbackground": true,
            "ticks": "",
            "zerolinecolor": "white"
           },
           "yaxis": {
            "backgroundcolor": "#E5ECF6",
            "gridcolor": "white",
            "gridwidth": 2,
            "linecolor": "white",
            "showbackground": true,
            "ticks": "",
            "zerolinecolor": "white"
           },
           "zaxis": {
            "backgroundcolor": "#E5ECF6",
            "gridcolor": "white",
            "gridwidth": 2,
            "linecolor": "white",
            "showbackground": true,
            "ticks": "",
            "zerolinecolor": "white"
           }
          },
          "shapedefaults": {
           "line": {
            "color": "#2a3f5f"
           }
          },
          "ternary": {
           "aaxis": {
            "gridcolor": "white",
            "linecolor": "white",
            "ticks": ""
           },
           "baxis": {
            "gridcolor": "white",
            "linecolor": "white",
            "ticks": ""
           },
           "bgcolor": "#E5ECF6",
           "caxis": {
            "gridcolor": "white",
            "linecolor": "white",
            "ticks": ""
           }
          },
          "title": {
           "x": 0.05
          },
          "xaxis": {
           "automargin": true,
           "gridcolor": "white",
           "linecolor": "white",
           "ticks": "",
           "title": {
            "standoff": 15
           },
           "zerolinecolor": "white",
           "zerolinewidth": 2
          },
          "yaxis": {
           "automargin": true,
           "gridcolor": "white",
           "linecolor": "white",
           "ticks": "",
           "title": {
            "standoff": 15
           },
           "zerolinecolor": "white",
           "zerolinewidth": 2
          }
         }
        }
       }
      },
      "text/html": [
       "<div>                            <div id=\"0f5670fd-9a68-4fa0-9fb1-d40b97f8606a\" class=\"plotly-graph-div\" style=\"height:525px; width:100%;\"></div>            <script type=\"text/javascript\">                require([\"plotly\"], function(Plotly) {                    window.PLOTLYENV=window.PLOTLYENV || {};                                    if (document.getElementById(\"0f5670fd-9a68-4fa0-9fb1-d40b97f8606a\")) {                    Plotly.newPlot(                        \"0f5670fd-9a68-4fa0-9fb1-d40b97f8606a\",                        [{\"customdata\":[[0,1],[1,23],[1,24],[1,25],[1,26],[1,27],[2,18],[2,19],[2,20],[2,21],[2,22],[2,23],[2,24],[2,25],[2,26],[2,27],[2,28],[2,30],[2,31],[2,32],[2,33],[2,34],[3,18],[3,19],[3,20],[3,21],[3,22],[3,23],[3,24],[3,25],[3,26],[3,27],[3,28],[3,29],[3,30],[3,31],[3,32],[3,33],[3,34],[3,35],[3,38],[3,39],[3,40],[3,41],[4,9],[4,17],[4,18],[4,19],[4,20],[4,21],[4,22],[4,23],[4,24],[4,25],[4,26],[4,27],[4,28],[4,29],[4,30],[4,31],[4,32],[4,33],[4,34],[4,35],[4,36],[4,37],[4,38],[4,39],[4,40],[4,41],[4,42],[5,7],[5,8],[5,9],[5,10],[5,11],[5,12],[5,13],[5,14],[5,17],[5,18],[5,19],[5,20],[5,21],[5,22],[5,23],[5,24],[5,25],[5,26],[5,27],[5,28],[5,29],[5,30],[5,31],[5,32],[5,33],[5,34],[5,35],[5,36],[5,37],[5,38],[5,39],[5,40],[5,41],[5,42],[6,5],[6,6],[6,7],[6,8],[6,9],[6,10],[6,11],[6,12],[6,13],[6,14],[6,16],[6,17],[6,18],[6,19],[6,20],[6,21],[6,22],[6,23],[6,24],[6,25],[6,26],[6,27],[6,28],[6,29],[6,30],[6,31],[6,32],[6,33],[6,34],[6,35],[6,36],[6,37],[6,38],[6,39],[6,40],[6,41],[6,42],[7,5],[7,6],[7,7],[7,8],[7,9],[7,10],[7,11],[7,12],[7,13],[7,14],[7,15],[7,16],[7,17],[7,18],[7,19],[7,20],[7,21],[7,22],[7,23],[7,24],[7,25],[7,26],[7,27],[7,28],[7,29],[7,30],[7,31],[7,32],[7,33],[7,34],[7,35],[7,36],[7,37],[7,38],[7,39],[7,40],[7,41],[7,42],[8,5],[8,6],[8,7],[8,8],[8,9],[8,10],[8,11],[8,12],[8,13],[8,14],[8,15],[8,16],[8,17],[8,18],[8,19],[8,20],[8,21],[8,22],[8,23],[8,24],[8,25],[8,26],[8,27],[8,28],[8,29],[8,30],[8,31],[8,32],[8,33],[8,34],[8,35],[8,36],[8,37],[8,38],[8,39],[8,40],[8,41],[8,42],[9,5],[9,6],[9,7],[9,8],[9,9],[9,10],[9,11],[9,12],[9,13],[9,14],[9,15],[9,16],[9,17],[9,18],[9,19],[9,20],[9,21],[9,22],[9,23],[9,24],[9,25],[9,26],[9,27],[9,28],[9,29],[9,30],[9,31],[9,32],[9,33],[9,34],[9,35],[9,36],[9,37],[9,38],[9,39],[9,40],[9,41],[9,42],[10,4],[10,5],[10,6],[10,7],[10,8],[10,9],[10,10],[10,11],[10,12],[10,13],[10,14],[10,15],[10,16],[10,17],[10,18],[10,19],[10,20],[10,21],[10,22],[10,23],[10,24],[10,25],[10,26],[10,27],[10,28],[10,29],[10,30],[10,31],[10,32],[10,33],[10,34],[10,35],[10,36],[10,37],[10,38],[10,39],[10,40],[10,41],[10,42],[11,4],[11,5],[11,6],[11,7],[11,8],[11,9],[11,10],[11,11],[11,12],[11,13],[11,14],[11,15],[11,16],[11,17],[11,18],[11,19],[11,20],[11,21],[11,22],[11,23],[11,24],[11,25],[11,26],[11,27],[11,28],[11,29],[11,30],[11,31],[11,32],[11,33],[11,34],[11,35],[11,36],[11,37],[11,38],[11,39],[11,40],[11,41],[11,42],[12,4],[12,5],[12,6],[12,7],[12,8],[12,9],[12,10],[12,11],[12,12],[12,13],[12,14],[12,15],[12,16],[12,17],[12,18],[12,19],[12,20],[12,21],[12,22],[12,23],[12,24],[12,25],[12,26],[12,27],[12,28],[12,29],[12,30],[12,31],[12,32],[12,33],[12,34],[12,35],[12,36],[12,37],[12,38],[12,39],[12,40],[12,41],[13,3],[13,4],[13,5],[13,6],[13,7],[13,8],[13,9],[13,10],[13,11],[13,12],[13,13],[13,14],[13,15],[13,16],[13,17],[13,18],[13,19],[13,20],[13,21],[13,22],[13,23],[13,24],[13,25],[13,26],[13,27],[13,28],[13,29],[13,30],[13,31],[13,32],[13,33],[13,34],[13,35],[13,36],[13,37],[13,38],[13,39],[13,40],[13,41],[14,3],[14,4],[14,5],[14,6],[14,7],[14,8],[14,9],[14,10],[14,11],[14,12],[14,13],[14,14],[14,15],[14,16],[14,17],[14,18],[14,19],[14,20],[14,21],[14,22],[14,23],[14,24],[14,25],[14,26],[14,27],[14,28],[14,29],[14,30],[14,31],[14,32],[14,33],[14,34],[14,35],[14,36],[14,37],[14,38],[14,39],[14,40],[14,41],[15,3],[15,4],[15,5],[15,6],[15,7],[15,8],[15,9],[15,10],[15,11],[15,12],[15,13],[15,14],[15,15],[15,16],[15,17],[15,18],[15,19],[15,20],[15,21],[15,22],[15,23],[15,24],[15,25],[15,26],[15,27],[15,28],[15,29],[15,30],[15,31],[15,32],[15,33],[15,34],[15,35],[15,36],[15,37],[15,38],[15,39],[15,40],[15,41],[16,3],[16,4],[16,5],[16,6],[16,7],[16,8],[16,9],[16,10],[16,11],[16,12],[16,13],[16,14],[16,15],[16,16],[16,17],[16,18],[16,19],[16,20],[16,21],[16,22],[16,23],[16,24],[16,25],[16,26],[16,27],[16,28],[16,29],[16,30],[16,31],[16,32],[16,33],[16,34],[16,35],[16,36],[16,37],[16,38],[16,39],[16,40],[16,41],[17,3],[17,4],[17,5],[17,6],[17,7],[17,8],[17,9],[17,10],[17,11],[17,12],[17,13],[17,14],[17,15],[17,16],[17,17],[17,18],[17,19],[17,20],[17,21],[17,22],[17,23],[17,24],[17,25],[17,26],[17,27],[17,28],[17,29],[17,30],[17,31],[17,32],[17,33],[17,34],[17,35],[17,36],[17,37],[17,38],[17,39],[17,40],[18,3],[18,4],[18,5],[18,6],[18,7],[18,8],[18,9],[18,10],[18,11],[18,12],[18,13],[18,14],[18,15],[18,16],[18,17],[18,18],[18,19],[18,20],[18,21],[18,22],[18,23],[18,24],[18,25],[18,26],[18,27],[18,28],[18,29],[18,30],[18,31],[18,32],[18,33],[18,34],[18,35],[18,36],[18,37],[18,38],[18,39],[18,40],[19,3],[19,4],[19,5],[19,6],[19,7],[19,8],[19,9],[19,10],[19,11],[19,12],[19,13],[19,14],[19,15],[19,16],[19,17],[19,18],[19,19],[19,20],[19,21],[19,22],[19,23],[19,24],[19,25],[19,26],[19,27],[19,28],[19,29],[19,30],[19,31],[19,32],[19,33],[19,34],[19,35],[19,36],[19,37],[19,38],[19,39],[19,40],[20,3],[20,4],[20,5],[20,6],[20,7],[20,8],[20,9],[20,10],[20,11],[20,12],[20,13],[20,14],[20,15],[20,16],[20,17],[20,18],[20,19],[20,20],[20,21],[20,22],[20,23],[20,24],[20,25],[20,26],[20,27],[20,28],[20,29],[20,30],[20,31],[20,32],[20,33],[20,34],[20,35],[20,36],[20,37],[20,38],[20,39],[20,40],[21,3],[21,4],[21,5],[21,6],[21,7],[21,8],[21,9],[21,10],[21,11],[21,12],[21,13],[21,14],[21,15],[21,16],[21,17],[21,18],[21,19],[21,20],[21,21],[21,22],[21,23],[21,24],[21,25],[21,26],[21,27],[21,28],[21,29],[21,30],[21,31],[21,32],[21,33],[21,34],[21,35],[21,36],[21,37],[21,38],[21,39],[21,40],[22,3],[22,4],[22,5],[22,6],[22,7],[22,8],[22,9],[22,10],[22,11],[22,12],[22,13],[22,14],[22,15],[22,16],[22,17],[22,18],[22,19],[22,20],[22,21],[22,22],[22,23],[22,24],[22,25],[22,26],[22,27],[22,28],[22,29],[22,30],[22,31],[22,32],[22,33],[22,34],[22,35],[22,36],[22,37],[22,38],[22,39],[23,2],[23,3],[23,4],[23,5],[23,6],[23,7],[23,8],[23,9],[23,10],[23,11],[23,12],[23,13],[23,14],[23,15],[23,16],[23,17],[23,18],[23,19],[23,20],[23,21],[23,22],[23,23],[23,24],[23,25],[23,26],[23,27],[23,28],[23,29],[23,30],[23,31],[23,32],[23,33],[23,34],[23,35],[23,36],[23,37],[23,38],[23,39],[24,2],[24,3],[24,4],[24,5],[24,6],[24,7],[24,8],[24,9],[24,10],[24,11],[24,12],[24,13],[24,14],[24,15],[24,16],[24,17],[24,18],[24,19],[24,20],[24,21],[24,22],[24,23],[24,24],[24,25],[24,26],[24,27],[24,28],[24,29],[24,30],[24,31],[24,32],[24,33],[24,34],[24,35],[24,36],[24,37],[24,38],[24,39],[25,2],[25,3],[25,4],[25,5],[25,6],[25,7],[25,8],[25,9],[25,10],[25,11],[25,12],[25,13],[25,14],[25,15],[25,16],[25,17],[25,18],[25,19],[25,20],[25,21],[25,22],[25,23],[25,24],[25,25],[25,26],[25,27],[25,28],[25,29],[25,30],[25,31],[25,32],[25,33],[25,34],[25,35],[25,36],[25,37],[25,38],[25,39],[26,2],[26,3],[26,4],[26,5],[26,6],[26,7],[26,8],[26,9],[26,10],[26,11],[26,12],[26,13],[26,14],[26,15],[26,16],[26,17],[26,18],[26,19],[26,20],[26,21],[26,22],[26,23],[26,24],[26,25],[26,26],[26,27],[26,28],[26,29],[26,30],[26,31],[26,32],[26,33],[26,34],[26,35],[26,36],[26,37],[26,38],[26,39],[27,1],[27,2],[27,3],[27,4],[27,5],[27,6],[27,7],[27,8],[27,9],[27,10],[27,11],[27,12],[27,13],[27,14],[27,15],[27,16],[27,17],[27,18],[27,19],[27,20],[27,21],[27,22],[27,23],[27,24],[27,25],[27,26],[27,27],[27,28],[27,29],[27,30],[27,31],[27,32],[27,33],[27,34],[27,35],[27,36],[27,37],[27,38],[27,39],[28,1],[28,2],[28,3],[28,4],[28,5],[28,6],[28,7],[28,8],[28,9],[28,10],[28,11],[28,12],[28,13],[28,14],[28,15],[28,16],[28,17],[28,18],[28,19],[28,20],[28,21],[28,22],[28,23],[28,24],[28,25],[28,26],[28,27],[28,28],[28,29],[28,30],[28,31],[28,32],[28,33],[28,34],[28,35],[28,36],[28,37],[28,38],[28,39],[29,1],[29,2],[29,3],[29,4],[29,5],[29,6],[29,7],[29,8],[29,9],[29,10],[29,11],[29,12],[29,13],[29,14],[29,15],[29,16],[29,17],[29,18],[29,19],[29,20],[29,21],[29,22],[29,23],[29,24],[29,25],[29,26],[29,27],[29,28],[29,29],[29,30],[29,31],[29,32],[29,33],[29,34],[29,35],[29,36],[29,37],[29,38],[29,39],[30,1],[30,2],[30,3],[30,4],[30,5],[30,6],[30,7],[30,8],[30,9],[30,10],[30,11],[30,12],[30,13],[30,14],[30,15],[30,16],[30,17],[30,18],[30,19],[30,20],[30,21],[30,22],[30,23],[30,24],[30,25],[30,26],[30,27],[30,28],[30,29],[30,30],[30,31],[30,32],[30,33],[30,34],[30,35],[30,36],[30,37],[30,38],[31,1],[31,2],[31,3],[31,4],[31,5],[31,6],[31,7],[31,8],[31,9],[31,10],[31,11],[31,12],[31,13],[31,14],[31,15],[31,16],[31,17],[31,18],[31,19],[31,20],[31,21],[31,22],[31,23],[31,24],[31,25],[31,26],[31,27],[31,28],[31,29],[31,30],[31,31],[31,32],[31,33],[31,34],[31,35],[31,36],[31,37],[31,38],[32,1],[32,2],[32,3],[32,4],[32,5],[32,6],[32,7],[32,8],[32,9],[32,10],[32,11],[32,12],[32,13],[32,14],[32,15],[32,16],[32,17],[32,18],[32,19],[32,20],[32,21],[32,22],[32,23],[32,24],[32,25],[32,26],[32,35],[32,36],[32,37],[33,2],[33,3],[33,4],[33,5],[33,6],[33,7],[33,8],[33,9],[33,10],[33,11],[33,12],[33,13],[33,14],[33,15],[33,16],[33,17],[33,18],[33,19],[33,20],[33,21],[33,22],[33,23],[33,24],[33,25],[33,26],[34,9],[34,10],[34,11],[34,12],[34,13],[34,14],[34,15],[34,16],[34,17],[34,18],[34,19],[34,20],[34,21],[34,22],[34,23],[34,24],[34,25],[34,26],[35,16],[35,17],[35,18],[35,19],[35,20],[35,21],[35,22],[35,24],[35,25],[36,24]],\"hovertemplate\":\"color=blue<br>PC1=%{x}<br>PC2=%{y}<br>PC3=%{z}<br>x=%{customdata[0]}<br>y=%{customdata[1]}<extra></extra>\",\"legendgroup\":\"blue\",\"marker\":{\"color\":\"#636efa\",\"opacity\":0.5,\"symbol\":\"circle\"},\"mode\":\"markers\",\"name\":\"blue\",\"scene\":\"scene\",\"showlegend\":true,\"x\":[-19.51034521815636,-19.589953054324514,-19.601049926687793,-19.581246368365143,-19.56640810940777,-23.029982425963514,-22.558080330918475,-21.861486976771282,-21.728617922167953,-20.063701291472004,-19.53782736251697,-19.59554503159532,-19.597591856540827,-19.58532594843309,-19.567087074828244,-19.543661417604472,-19.613955249977593,-19.619979748845708,-19.631243391223236,-19.674854820368196,-19.699490507985892,-22.98307243267788,-22.462306141560358,-21.895697435041583,-21.852693879412243,-21.04756892076263,-19.991339069197814,-19.820126837171546,-19.738487159488564,-19.66719923367461,-19.62683116355513,-19.78549178100415,-19.864756739202786,-19.620935686248473,-19.626094052655382,-19.64085684751459,-19.677562682321117,-19.71193181969919,-19.872752023794327,-19.49305492456757,-19.55517117594466,-19.678381378087067,-20.116729297747398,-24.120787637123268,-23.288350868979684,-23.045606831656613,-22.321284097280788,-21.91964936747106,-21.859332051595793,-20.994419637159858,-20.102330466384107,-19.995518597414808,-19.951610432957846,-19.901502996515337,-19.896767312277646,-19.99968270024529,-20.054391787600668,-19.99282967138157,-19.918904881282327,-19.849143042630892,-19.79989971332932,-19.79331284701007,-19.905838385607787,-19.96627382809403,-19.65489495172552,-19.51778659451567,-19.566767685884088,-19.71712039937978,-20.22223825422078,-20.763515846052762,-24.693172007439784,-24.165736844811786,-24.120169017733527,-24.066245021454,-23.907269320666014,-22.222252588360803,-15.527375226264592,-10.051929655643523,-18.882204858414624,-21.519048475460963,-21.718859145760476,-21.9172973659033,-21.92445354617948,-21.259784787109268,-20.30691261369098,-20.22902076136214,-20.231906760357354,-20.18981278295047,-20.111059625167538,-20.09815637208962,-20.102568914571876,-20.10933657005326,-20.10044279157072,-20.07330415228678,-20.07479860167377,-20.11639804054148,-20.150717188556385,-20.155904787159464,-20.11005022091755,-20.007259411196,-19.906452139888973,-19.952081127787135,-20.445111935940034,-20.87322376835435,-20.829922986197722,-21.947695880003693,-22.904008626657617,-23.91176783529223,-24.062527521571837,-23.893885928837026,-23.700285432616734,-21.518708453867358,-14.518174899777087,-9.710360537043902,2.675671712869459,-3.4117432679099475,-8.203225460094705,-14.143822504115333,-20.680962265415822,-22.024680014887316,-20.92559886373251,-18.268371859718613,-17.456288339248992,-18.372625729727808,-18.78695344306524,-19.374220256489814,-19.86579614835206,-20.154675590492296,-20.314386490593037,-20.35427892583283,-20.33042673916119,-20.287252878390692,-20.257525015548865,-20.236572800823854,-20.213306677966514,-20.183031915580923,-20.19055511018124,-20.209237205406477,-20.358969655262165,-20.92451151389171,-21.110360708877888,-17.519795477492107,-15.953142418650263,-16.527399399356003,-22.297541063623363,-22.74739667394207,-17.572374355630316,-14.55230680270338,-12.847000110485428,-6.699027398068415,-2.5743605906061218,0.16937016916390593,2.571583367891489,0.9048255812837972,-4.342583524793827,-12.99154901451026,-20.2492001304346,-21.655530640557167,-18.958091530872675,-12.858687918717573,-4.946978798841747,4.604025891735013,12.792927401779812,11.632097336857546,1.2235052118503258,-10.445795374639593,-18.050675527447112,-20.34276840375762,-20.42747644008521,-20.395202151427164,-20.38275461286122,-20.373212795866298,-20.403565510081442,-20.447807510826735,-20.46752908791227,-20.492081383987983,-20.72991828187395,-21.254727688817972,-21.255927683548542,-19.541838397306417,-15.481926726624561,-13.61509118386945,-18.008898706084228,-19.424769361527407,-14.474756712409214,-9.944121185975769,-4.370831595984119,8.708147620952218,22.175891807932793,15.177330083726968,-4.56605791337403,-7.727663751537094,-7.903483941835896,-9.46550650867032,-11.839199758355837,-13.227395772901788,-12.071650589101493,-9.09167794811352,0.6275500963854068,24.848635556719653,37.528461149445675,29.93685538297344,10.810851908968754,-1.0280036257213159,-12.344791652601568,-19.81257254086812,-20.66796357198746,-20.76273581010428,-20.77751673455944,-20.75404155277154,-20.576369969826597,-19.381636878766294,-17.79665705885066,-18.39787336230895,-19.726267353283138,-20.82213603786804,-20.637532951388376,-17.7722993253716,-14.283169694149501,-10.458173203469627,-10.020249945153427,-10.111810163784494,-10.14911417786863,-9.982555916646955,-9.012670802824434,-4.623725756523314,4.728312789054053,7.895200699649413,2.057735281038312,1.5411478847386415,-1.789894570155681,-6.749140965841512,-8.838470290090806,-9.115256654445613,-9.06884987013307,-8.783460389005018,-7.392943584441541,-2.6992161863357387,3.7931433394207774,10.077003149009407,5.409484207990598,4.655795180693046,10.613656210266473,-0.827097402654,-13.270267748135273,-17.52007929790018,-20.05323442540188,-20.013845071054057,-19.945939797620458,-17.01146177955041,-10.125014044377771,-7.264661370861375,-7.846454945749262,-9.392936855802823,-11.957664387937307,-12.133709219605452,-12.0898877115321,-11.041180583711675,-9.294735019355839,-4.014491755525119,-2.3276969255521514,-8.331524374268621,-9.745767484433257,-8.701092345944788,-8.434034775317693,-6.9738502869992915,3.1444784461993494,15.892245212637441,17.699940835082074,11.050808413196478,2.889819584328641,-1.7234938912844273,-3.900084835087272,-5.459351196618406,-6.6101532144939,-8.024706988919071,-8.96636316087676,-8.74879852729438,-6.692826742758818,-6.477194849027207,-3.008217554475933,12.471088797498954,5.36237622054715,-6.214098806280959,-11.414090475471339,-16.595465080616506,-11.555733006364889,-8.661500122532196,-8.643027566680583,-7.6774388185743785,-6.97297824323219,-7.403615754134304,-8.1433059510508,-8.159188048231634,-10.65261324639577,-8.18510226969588,-6.495435921370508,-8.005057738878968,-1.9499709487125976,0.8650241595512369,-7.3714671551981645,-8.680519986600945,-0.6617768468318874,6.458507123084612,4.302779706848321,-1.8900255461837943,3.4476291164690798,8.744709995875652,13.625403602681299,20.65574968356713,18.989233266150734,12.238344883773962,6.634675029961574,3.4944898050699535,-3.1429991252223988,-8.275436936451417,-8.975684445319958,-8.857819570987042,-8.935712822785485,-8.652285392470876,-6.887960180838342,-6.535029705775674,-7.290437299569924,-8.710169307173626,-11.291863366471263,-9.156506702159026,-7.1144153594898825,-6.072536321534542,-5.997001603489937,-6.587376150777798,-7.582394874017752,-8.484286767000809,-8.552042889448936,-9.437094611853656,-3.7415464217421124,1.529946565745057,-6.5237883465792175,-9.848209638902414,-9.677149913142209,-10.243288016789302,-9.937973069703895,-5.226156778714124,1.0449403957719334,1.2290510504340084,-5.937454036714023,-8.639310772320844,-6.524697420618627,2.176680994844122,20.37728715957089,21.84421925289115,12.018556007701179,4.407206008589114,2.377908861404336,-4.048211122844867,-7.474388621717898,-7.970040033990325,-9.080306841450648,-9.877689806442477,-9.80024497761266,-9.784350091170971,-10.000413403277404,-8.040925898373008,-7.370546628218238,-7.381820850673497,-7.325021752207311,-5.95007069068618,1.9783910170947445,9.008249995076877,8.884271222974661,5.828024459666022,1.7229930706809498,-12.699465305067122,-12.457924620044977,-10.477088955551954,-8.043592743508766,-9.563846493028189,-10.685990689740716,-10.756820739708155,-10.723750039357864,-10.71661355801466,-10.657769051888925,-10.517555320383066,-10.41160171518457,-10.514473720683029,-10.54506734932631,-10.098324542699727,-8.303859291347976,-3.9580796449876225,-2.7026388081593327,-5.003561365695684,-7.663612760369309,-8.218746490739687,-8.506179481087106,-5.156986955331748,-3.0824490606401587,-7.882686301962464,-10.125674031037557,-9.844124226395374,-13.172113895757759,-16.79099137651115,-11.01374299903841,-8.111353161752817,-7.59902797575667,-4.310887213371806,4.094993605564966,14.56970834696011,21.080906232244473,19.087391951385012,14.46266095180875,12.340822588947471,-12.951496252143706,-12.6782013206608,-11.723391791989545,-11.09525782988747,-11.042252636182262,-10.99579164617096,-10.91763916685899,-10.99215769661799,-11.023555298605629,-11.003802348222916,-10.975871165601959,-10.911564191737725,-10.711112397736528,-9.85397527554864,-9.256255684889762,-9.046149635695725,-9.257527564256616,-9.382939567592029,-9.52515343332822,-9.664447962901157,-9.714203378674588,-10.087141388482019,-11.029008719433204,-11.04929961748782,-13.344722038990426,-15.61683383128473,-11.409062077909237,-2.8976785450703586,-3.5411049008274293,-7.903218437568629,-8.156083877650794,-7.64764096873081,-2.725181587696615,11.09673475023835,29.98643892406882,50.94972970227684,64.59177073080357,63.56673766621954,58.967170190383825,-13.115332802236065,-12.907142042825521,-11.908813130674233,-11.39694551269189,-11.214697893925308,-8.875149834719698,-3.7128685848986676,-6.564519837255916,-10.713033540230189,-11.493891822851563,-11.950696536170534,-11.4278117845002,-11.005284004800473,-10.33362815112076,-9.635032648344488,-9.053343022796842,-8.719725904509614,-8.446431437591306,-8.28615858069305,-8.311772517667555,-9.147055211829077,-12.179695212087804,-17.979711401062087,-21.059666170924434,-20.051884476349116,-16.893533650676712,-11.914980035709117,0.06121724292672989,1.5029776584097627,-6.208257816092683,-8.376939544603925,-8.48690366522171,-7.9018915014583495,-2.3343779072205173,15.936548319437769,47.69351482317083,67.16090810184231,67.43873035801536,66.76344782674374,-13.188362413587141,-13.079041386737412,-12.062855072695038,-11.268526935402168,-9.634017744508064,-5.9165542411443015,0.9619303859626702,-3.3960927345509027,-10.562216606743558,-14.096902796413032,-19.93397172042571,-16.724675415268774,-11.790116638494846,-10.080331909077993,-9.135548598457955,-8.68074688213593,-8.755795604425696,-8.958179371229976,-9.168866108543881,-9.618475303224603,-12.523322991780981,-17.073608499922628,-17.527575067540173,-20.18544006907524,-22.30101929003678,-21.338464956554436,-17.838767272737527,-9.786106008000209,-5.870178936782409,-6.307033770694615,-6.902049529322001,-7.326188907893724,-7.180643022405135,-1.788385543451812,16.00555208176504,48.59699943049341,66.78588525050746,66.63306341943267,66.3005268695894,-13.019019761465483,-13.014095705855325,-12.070939588580298,-10.579693154980205,-2.975684368560393,4.942636148296198,4.193169313128191,-5.03290702266054,-11.110242946692809,-13.191398926915909,-17.214892341385436,-15.479594387463514,-12.373023293684632,-10.798851231544884,-9.944257847842854,-9.641106068888108,-9.541644205313345,-9.354068349116822,-9.134493823609592,-9.267079123610474,-11.842908609387896,-17.136250252485542,-19.532910261839053,-21.163114035845958,-23.257760611381432,-23.833589624808383,-21.057788941302142,-13.738403587233647,-7.952514616773418,-6.32213263892007,-6.219891713174921,-6.16238592051492,-4.936034371494978,3.064584593914778,18.899286885900686,35.683334269624616,44.11431175575374,53.5409832659347,-11.324951916000703,-11.026898463145791,-10.02344668140772,-7.549928195650319,1.0166794344882086,7.244939996128643,4.085040141220147,-6.278335031976072,-11.21010248683514,-11.720708370006887,-11.930227259859304,-13.153293577138303,-17.951235834248987,-15.814744291594064,-10.833404663716053,-9.351458620292375,-9.025416325183457,-8.929485398855718,-9.131761694380284,-10.949197626908177,-17.062518531245512,-22.22487281384161,-23.67794114142268,-23.875995708172976,-23.952861976009356,-23.678983254059958,-21.69350686250294,-18.3575319043157,-11.139124012426487,-7.045455153344331,-6.620211412729902,-6.582035736581134,-6.122656670546047,-1.823025231209416,12.029296392750442,29.593657186448382,37.81274977778917,40.638045292219495,-11.197804438101755,-10.88656910480163,-9.60879477222483,-6.152426487851681,3.54125588570571,8.976751325309039,4.382810760464251,-5.862897807287187,-9.169916700846084,-10.000172448994565,-13.28225313943525,-16.890541073525398,-19.42628278848298,-20.46941024780429,-17.352406128523803,-15.422846992274595,-13.848080868260578,-11.325804670478014,-10.277434591421072,-11.354776723125632,-15.279098434122123,-19.87879151885718,-22.83534366678402,-23.26489728574741,-23.468407210429767,-23.392284181654688,-21.99914902726673,-20.756901260253322,-16.521932269978837,-9.816774187031932,-6.973326494390266,-6.722659259393364,-6.647194033746086,-5.5727372769499075,2.208816703053943,17.0616504970308,32.04792740825371,37.96301633088792,-11.625614716700603,-11.156768286399457,-10.058091556381918,-9.332370106275254,-8.142809133418728,-6.235071431846078,-5.688007199333821,-8.167877203330264,-9.244103439816588,-9.8596799312272,-14.2526487424509,-18.67316894154737,-17.213900417667634,-19.510035041558712,-19.28217406851024,-17.940760717508407,-19.22712024545894,-15.696188120149257,-12.557330991834817,-13.983375042477267,-17.672775024043805,-20.56832563318231,-23.286421290743302,-24.06175829257522,-24.50807342017121,-24.036556592285066,-21.916137768898597,-20.89232831586148,-18.28106367673901,-11.541179861879042,-7.456001616591461,-7.0426530294529295,-6.9591093035735625,-5.333525414317952,3.8703845684923515,19.34438543314452,34.350592154634136,39.27918874831093,-11.43959055993098,-11.008003159541296,-9.988778648041803,-9.64161620428455,-9.57707972056739,-9.498345329429664,-9.496696973675853,-9.510022161167946,-9.520400412687822,-9.540475164449166,-10.202705657623378,-15.133055420398758,-20.996167130932463,-21.92320752559754,-21.275262981700955,-20.443425586800494,-21.569370825070745,-21.251398245464422,-18.64440335815234,-19.36058068107203,-22.166809500719076,-22.81553557414043,-22.906326005960246,-23.05844393595345,-23.149003591727272,-22.615548312733004,-21.336184531631442,-16.157069366236733,-9.902935456042684,-8.059775292250336,-7.453462886840402,-7.3215597670306005,-7.116575270480114,-4.733891207887955,6.085598893095393,22.593237607021592,36.98052051835678,39.90123606851513,-7.825081015581755,-10.443058518850922,-9.914480225178476,-9.839596230058016,-9.882116939590825,-9.814798999784841,-9.790690904891088,-9.787561738747629,-9.757105892891664,-9.725346929087879,-10.259950090043352,-13.951387181021943,-15.884299572467334,-16.90261068902495,-18.86415936658754,-21.483490774951406,-22.89409606417984,-22.17346806261266,-18.999692898335326,-19.091184916557953,-22.13466840217533,-22.73789807980612,-22.82352431132132,-23.094045487883886,-23.206908745826343,-22.5402933229379,-21.115289908468938,-14.988377315565682,-8.800901512900806,-7.6400472577661915,-7.5553889522151545,-7.553461771427242,-7.231377223545506,-3.8845840731409194,10.11977419457798,38.41052751957376,57.63200339535169,0.3587304762105211,-1.3870967329226018,-7.40110753297154,-9.7465515851209,-9.957698739656475,-9.990100308119642,-9.956676075399743,-9.907036296156281,-9.888344483887309,-9.86393180655814,-9.891989887379536,-10.781840907826123,-16.08631398155292,-16.371708386079035,-12.804079348620363,-14.315283395520526,-17.254809758136584,-19.55016276997708,-20.691988409035254,-21.399165770313502,-22.280934766014884,-23.004115985711,-23.138731039453287,-23.19106865741941,-23.4545522657056,-23.392152482189463,-22.511817945755773,-20.812850146786623,-14.259790465833643,-8.766572154066449,-7.989394352352722,-7.963869486788598,-7.1731221391080515,-1.3407888524947384,8.432130549406342,21.11239994545101,42.25770592189171,58.17573632435371,26.309541353577178,18.527749032004294,8.386834343323308,-0.14840506548170673,-6.263194945137701,-8.819007805725471,-9.661315869118633,-10.058304558442067,-10.136386541198016,-10.14454531402427,-10.219994214447752,-11.746014129001358,-19.250913213866173,-21.01025719744672,-19.07485197804528,-20.339257594154752,-18.905125747885762,-16.209154590421996,-15.566831219098436,-16.30103387810631,-19.80380333968531,-22.708748032338406,-23.08459478310505,-23.116843893500786,-23.307821085555524,-23.308202366737117,-22.89386605012318,-22.536958139334985,-20.180754897825647,-13.487826614426162,-8.834440189668104,-8.07805750945943,-6.019680845842783,4.685126157877842,19.500616370501128,32.65431183437168,35.9426362764039,36.668208991981686,36.599088113564726,34.344605666052274,35.01581514873962,31.228019703366087,17.899484868075163,8.318985059618711,1.836456393642898,-7.315278929990147,-10.141073126464786,-10.253520570918006,-10.328079517702017,-11.8435061425601,-15.997448358780542,-15.887969974902127,-15.17501451420431,-18.84789103970893,-17.81138743775344,-18.73060050152285,-19.832243864589238,-19.063590807292236,-21.15113278843974,-22.9709053327711,-23.2249443900054,-23.316221535581704,-23.675831247155394,-23.715698456970582,-23.08237111348695,-22.822890843676646,-21.335553248215444,-14.698697693989608,-9.283302030572242,-8.042558980720703,-0.4422313364022206,34.33433284076773,50.55199035064094,40.00268730079027,37.262229027380435,38.38637222972352,62.50124001710985,62.33484810762574,52.73248511700536,36.80670812706299,25.089613607369362,16.200823234117426,7.398893737988603,-4.185347676528512,-8.600469871040923,-9.707912906924495,-10.241787757571583,-10.472487274993913,-10.601374980683733,-10.110138038149097,-9.865583066068702,-10.902199771951155,-10.628137000910895,-12.096083022707365,-13.962266295033032,-14.994617579044922,-20.483416371975853,-23.198857227646897,-23.411583323915792,-23.46284316910237,-23.708112577214845,-23.471237406924985,-23.169777506960976,-23.01996998439527,-21.104663536669026,-13.72703047134912,-8.996259248661294,-4.514836260339483,5.006911465305109,30.09263070726539,43.59339724726434,38.62750874213878,39.141772538369636,41.927971552240315,64.81627587094019,65.30675207228836,66.02247283581832,56.44703165983358,40.42667713160708,35.73246915425375,34.81578128060377,33.85653532055764,32.05845434538584,29.218659788121013,22.413713453859188,5.324019820580678,-8.61355869679636,-10.360512962848548,-9.924237702072748,-9.626914497152,-9.67002311249548,-9.710370837281344,-10.346680146703259,-13.885926023046366,-18.447671345529866,-22.259699132608684,-23.468401387471676,-23.558361974777895,-23.657745938267933,-23.913436493215098,-23.733701877679632,-23.040738726393034,-19.93431977986244,-16.18602929167391,-10.545452671593834,-4.933802942939171,0.8544418163073644,8.844978693384567,11.279300702473607,13.484790400344947,29.452546117844463,51.0207774224873,53.733458467846496,64.70182433827962,65.22610649872406,67.47560185620263,68.38126997649158,66.3526714497337,63.1884598743769,56.65550565287403,43.306405064421185,35.548040254962,35.67009905847249,33.535586121301364,14.127678767375539,-6.097365835504398,-10.194202486660473,-10.204603275964397,-9.906153224183203,-9.696795957431636,-9.577160745154114,-10.694256385344126,-16.553010579789433,-21.79437771158036,-23.33960572223385,-23.42254954551909,-23.52110475734061,-23.798698094837214,-24.120829312289963,-23.54179371448567,-21.905602229656715,-16.624465941503722,-10.01286622997353,-2.584686608339773,19.167385363664735,33.023292014651595,39.551989461012575,44.29959835107721,33.68005396628646,40.47287252161035,56.442933327121466,58.82133395020898,64.14619752890508,64.687058319437,67.28425319716489,68.57086183411823,68.83512858731119,68.80890304172807,65.18790585660443,49.022213278325175,36.86717740623346,42.03227927548254,59.297784472655344,61.171684365562875,42.87318166982741,22.009684700468576,10.900352677604637,2.307648662262343,-5.146101245688322,-9.26956943421494,-10.752000263416825,-13.107794013482424,-18.12659385846358,-21.101398625747485,-18.364646696639074,-18.438838560344347,-19.87593762677774,-21.483929227600857,-21.13281609158707,-14.200039193148443,-9.381344573287382,3.3391855440504545,19.530359906055473,29.170008178537127,36.14537574940471,46.601742892677656,57.691799159552964,48.48964935190795,53.17552638263938,62.403259459261534,63.28069295998232,57.88630603039573,61.60375209618575,65.42320488286302,67.0174631229732,67.90977902551472,68.16849861364365,67.71847696220534,62.99280977914909,47.234406205333414,39.637767795161515,51.29760961663142,58.774629343840374,49.52962815326881,36.879283863502685,34.131284263572674,31.873406931815722,20.159106323270997,3.240647586567238,-8.24433582214648,-11.146900259609533,-13.371527198049083,-15.25263555161082,-10.967746957856937,-8.819215958376738,-10.436639609558721,-13.241925352886069,-17.68816735531349,-12.808413278207677,-7.804014937124764,9.830645772158089,30.591526174558922,34.93048867735253,36.678791152629074,49.20166208597698,64.8464993787896,65.9730355866361,63.76813362439536,64.40621406833864,32.34576166358977,32.087160218905815,35.53620105241065,42.07729264206773,57.519080700030784,66.86200361320607,67.70810397947965,65.04018698622447,49.58732407879231,36.59176817865833,34.47160717930919,34.37413921657807,34.18567254710075,33.81198925009006,33.85408041034065,35.599480874777825,36.90894478331485,23.963813750773795,4.872935008952944,-5.512034358891264,-8.733792549780249,-9.020884733293583,-4.852160700927919,4.780533040816222,7.282393030617644,4.9831734102901635,0.9032695726802309,-10.935818259181328,-7.613553293897522,13.6361725568893,32.27898137641933,35.06364425799233,37.45077347804879,52.15317784776185,66.35749826561181,67.93882818602505,65.73989998737576,65.11508323621423,29.443119338354936,30.406053542222715,32.5554481849275,37.797392594343854,55.265215870001626,66.11171391188498,67.16210289909547,67.08011268097295,66.01439487817228,63.62427122845589,59.88451112212883,51.46428486774337,37.51226440254168,30.31962650260249,30.22580579082847,36.15011306001972,53.916720445325296,64.3039092778206,55.79617263690363,37.52536357957014,32.145551257303,37.09965174847834,32.66809878573585,20.500393236691863,11.567615199169037,9.133437469603447,68.11201110647025,67.71601657123145,65.4222362715137,30.410118190518553,32.736728470756816,39.16170103354854,58.02357403599842,66.60990900424471,67.16069786374158,67.1690799451176,67.18432393882858,67.13777056748471,66.59720435226937,59.622962927002305,38.96875157041935,19.191431641499015,9.013449328611427,5.568404586855943,2.396187194083253,14.698467760806798,25.40491399089545,25.34829143109865,29.78090717412993,44.37870018408736,49.15016589703023,32.40542380568367,17.04247273580181,13.706529572495427,67.21053971033481,67.14148110253045,66.52902980933533,57.34221430108391,35.749626907147096,16.60881322647172,7.638453521672532,2.0835702569533954,-5.55365163215788,0.9193337595150968,6.557836309149951,7.33039886348371,7.732017919399919,10.889381354019395,23.098877825805637,31.460365016268184,27.16990258314058,19.964641234850184,0.917963412557845,-6.048889300725202,2.288196496165181,6.8407510356050505,7.178961726332298,7.355123271858609,10.649627552587965,23.542334424037207,32.712717174991326,9.821624956304843,32.71481685079082],\"y\":[1.9216969672362594,1.9519140338793626,1.9507485659106032,1.927240181004798,1.9150039096083433,1.528569711492307,1.3315914944480567,1.128438772203607,1.0389604189304356,1.7172959729976376,1.9256377424300088,1.9516986627779407,1.9486899280651895,1.926393023654699,1.9186913422924263,2.079794224632172,1.9201330885357504,1.8834299535230135,1.9176230403702101,1.8924064058553334,1.8508884329351358,1.4951805450832885,1.3046906012426354,1.1511547529512944,1.1459750396647563,1.53029999127688,1.903940395293195,1.9340236335912178,1.9243668531759661,1.9058501503030165,1.9045626687747266,1.9567057944815776,1.9925493940532326,1.906171228811921,1.8881722991715164,1.919004553492043,1.8856522187840563,1.8507994007060216,1.8859867833146016,1.6936720435874995,1.7037074593246637,1.7532069652798274,1.904894419252124,0.3458362067583618,1.5745388964244784,1.5292607670250629,1.295806933520533,1.1606714576806332,1.1680359257769914,1.558072329860739,1.9015110959012156,1.9218096680503853,1.8914657532933723,1.8623760351312884,1.8604583088709519,1.8866530975045697,1.8789442932200064,1.8682274027657781,1.8701175550744504,1.876265955645747,1.8615062702427645,1.8405453721590184,1.8650553510906507,1.8337435680909282,1.6922604674443782,1.695941934436849,1.7045404844221272,1.7699196174582368,1.9316772437743794,2.103758060529147,0.6463950076645237,0.3837453101681727,0.33845122297318797,0.28109640620971055,0.18326837055224265,0.2875460346637855,-0.6470848792341508,-1.3334271801153466,1.1642420654249892,1.3807395823046493,1.230980692142463,1.1735580148855438,1.1812934544400857,1.4123480834291662,1.8408243236166753,1.8728962188754867,1.8632240273916765,1.8679484895115266,1.876220914002372,1.881742464500651,1.866198130512991,1.855782764647397,1.854877910354218,1.8332605292342161,1.8210678690389885,1.802486057830814,1.8033915453123683,1.8117945476703061,1.7895076219487274,1.741106429945055,1.7327146502327113,1.7910350475951184,1.9644794315572547,2.1014103889824227,0.025696469933122135,0.016769361201955046,0.1309462569187807,0.3050919986009082,0.30804932337491975,0.23832041803848103,0.18071801547116317,0.2410200332222283,-0.816627887221556,-1.3880748039761404,-0.7502858681155316,-0.4884781884174844,-0.038279309744212675,0.3603475870084798,1.0277632150708254,1.1664486801933922,1.3605247568760863,1.5526462084552395,1.559013925574067,1.660329301026888,1.7442864509070422,1.8213184924962775,1.8465259606902658,1.83598000283331,1.8045207570549984,1.7956807541447792,1.787339276597311,1.7765249870125883,1.7774927735524915,1.7882008774152025,1.8057882937988952,1.790471274250884,1.7653789959967854,1.758197103747113,1.820666054851251,2.0193926805132567,2.060032543904922,0.10501171692640732,-0.32263121563891994,-0.5571283568917762,0.08809662414030761,0.09816488753259689,-0.5173841783189586,-0.6087274763944908,-0.5060209352763809,-1.2115594760775055,-1.0729811664701878,-0.7943722130646214,-1.060027373896654,-0.9650041087114836,-0.7414624228022819,-0.24266016863264328,0.4658069315936406,0.6555326029418578,0.5179189025495607,0.20006674791350054,-0.12805372187513242,0.07031541320563273,-0.16717883783499743,-0.1707776140872015,0.1862175909771567,0.9052613817017475,1.5641064303109709,1.7588701671700644,1.7646211584539655,1.7583020447940234,1.76201216930441,1.7670062991727866,1.7901482233707398,1.7919771537122786,1.792704236955929,1.788584975283661,1.8680812121442423,2.0321521194320944,2.0163252755795247,0.09991981020192053,-0.46833989992029945,-0.8075749017806413,-0.3432227819424907,-0.23057266307709368,-0.8296339553090051,-1.1865933760982845,-1.5234530217258824,-1.7954569967527774,-1.6490808488590705,-1.0913605733483502,-1.006970953384955,-0.5114956507898576,-0.5599197971763165,-0.4611820212670321,-0.23573538500474456,-0.1515176158931948,-0.37224609810710807,-0.6781188703017134,-0.9658054301088883,-0.08130062314622633,-0.164408626501225,-0.44339041379405586,-1.1323458352249025,-0.49850982811320704,0.8192617510208569,1.6675959166919991,1.7213268932250436,1.7373571649266608,1.7481784439763606,1.7443326171243645,1.743566364653299,1.6278066834459972,1.4726856168825015,1.5489753422512191,1.7714332167335165,1.9714240433881598,1.9484124936848135,-0.25575087845875455,-0.6143926104766773,-1.129894273056424,-1.1910140083356509,-1.1708964468072176,-1.1669490705273906,-1.1815940629077335,-1.2391506893555813,-1.3388066105368104,-1.3773739762888517,-1.4113477224807092,-1.0299573234796107,-0.8376811526252177,-0.9388544191175993,-0.7996150271679008,-0.7666367875190905,-0.7663770958790752,-0.7080146906488352,-0.6632482934091997,-0.5817804892460795,-0.3191346341201819,-0.3193869784693492,-0.595100610956498,-0.917706493657155,-0.8573553993989951,-0.5924659708655218,0.7448602156538635,1.0543790300942903,1.402686596438155,1.657105642654087,1.6456569397194654,1.639336005915398,1.3181974759351183,0.5374253023182366,0.24674337841239602,0.46399476741373613,0.7559847873757639,1.0054603902383734,-0.5746237642422416,-0.6319546864216623,-0.9142295380712484,-1.158552830099431,-1.415217638232089,-1.4235448151999295,-1.2075484454842726,-1.1857030008601055,-1.2371530543152613,-1.2423808932658065,-1.319150925603068,-1.7413570730571195,-1.4824473803009393,-1.0118762224634934,-1.188450727386472,-0.9536009494136746,-0.7986146825256114,-0.693750684610047,-0.5910305591859143,-0.5471479720546115,-0.6056665857187177,-0.6912220360850865,-0.8272718113418174,-0.9599457493578151,-0.8794227725295275,-0.9237812410968098,-1.0679779128969842,0.29376622597537405,0.3556135052258006,0.7991435748646815,1.2230733876232232,0.7263408191301515,0.435064834988781,0.41211654945214626,0.3018858057683791,0.2431009357473033,0.4395115743047442,0.6143851135328428,0.7061312542873601,-0.6798416837862227,-0.9345695013802464,-1.1603720918147653,-1.205495850541908,-1.4951759395853064,-1.4998211264409722,-1.219666490638588,-1.2223204293816665,-1.5654477619773355,-1.8385456483859917,-1.7060930917894674,-1.4457740099809762,-1.0021857764651934,-0.7574742729852412,-1.0683535599607983,-1.0249979964069862,-1.2164830454407323,-1.2382195470588953,-1.289137095392232,-1.2196880298740398,-0.9306357869083681,-0.639100262295361,-0.5416137065326889,-0.4578357566100666,-0.33298647969681094,-0.2595817515427479,0.0055315978916138375,0.3068895582286406,0.3243069581946484,0.5008912399533304,0.7012671924387405,0.4737168989959568,0.2610427427533122,0.1881903268710594,0.21548066364351037,0.26100156898461124,0.4911039653160393,0.6792462180371327,0.8379128066689785,-0.7526604600039308,-1.179572679653596,-1.4702162271472803,-1.240571601744278,-1.1140741112536663,-1.1256372706823454,-1.1071847573860798,-1.1345066925850622,-1.3301732291088024,-1.5801471276506684,-1.5741568770861338,-1.2560572024693473,-0.7886210642439724,-0.6528324814071764,-0.932762538431066,-0.9096887265756539,-1.061266075755292,-0.95958802010156,-0.8896721422581271,-0.7769410365639295,-0.5009355666555855,-0.41830362091740125,-0.48781640921032354,-0.5410968360733008,-0.5073341364472121,-0.3705869622362399,0.3234681756226936,0.557684283673433,0.3799477275153642,0.35510224103352594,0.31585388595656494,0.28636455533960703,0.18095920363445006,-0.20352704157725482,-0.410453717711901,-0.40315634197175343,-0.10852501614102217,0.032077770876763056,-0.4329447651536149,-0.5876861156125843,-0.8497409646249434,-1.0834825123083205,-1.051040915402471,-1.0378884458574757,-1.0597229837925324,-1.0694521740643677,-1.0734126717438142,-1.0692702890075292,-1.0712221209489596,-1.0816882154677163,-1.0310714615769623,-0.5444135703029551,-0.3115740405199603,-0.4020684850311278,-0.38579291336967786,-0.4707814011102966,-0.4765232063716083,-0.4676788098970932,-0.5889305522996138,-0.6976579333094246,-0.9047907588043109,-0.9405621730174909,-0.5746048601776158,-0.2762022267727777,-0.07651432637660593,0.9063283173793859,1.1993935135475502,0.6574057493427049,0.3485738689696867,0.27297185859373263,0.11191063291874298,-0.1834802533397586,-0.1820578311870995,-0.09849750407134161,-0.07370176929868189,-0.010835666219475737,0.1123217113330488,-0.4201638290229659,-0.5502192554575178,-0.7870261886068559,-0.9407324605083247,-0.9476990776630292,-0.968350039250061,-0.9714108323744772,-0.9581563926018084,-0.9630177012328367,-0.9816911473200534,-1.0049569729418386,-1.0276259490846538,-0.9817137689761362,-0.6528486099776984,-0.6454567624499679,-0.760575940172018,-0.7737588314771073,-0.74056378980579,-0.6413826610781701,-0.5407672029036135,-0.4608364950765058,-0.3105505029510862,-0.10609702474728633,-0.021483134403598836,0.23590999815031966,0.41794769092013073,0.22685902944933023,0.20691004461477103,0.3065861892573172,0.42180746468680785,0.32051056125806665,0.2696410778315136,0.02879201770289369,-0.3598194064217701,-0.10017898818710425,0.9373828349084201,2.021220298879804,2.7851639967969177,3.2147345768386124,-0.3408011123366985,-0.49073916729152467,-0.7552462168820135,-0.8546005527923537,-0.8677081948814449,-0.9658196483234938,-1.2318126589446519,-1.0429090399938217,-0.9370350275409147,-0.910516182118416,-0.89992833505782,-0.9625207624306333,-0.9424969955920579,-0.7127746321997093,-0.7015325869675129,-0.7747522078211395,-0.7749737776411243,-0.7550712069377197,-0.7474374237698538,-0.7164309109723523,-0.6580405059305121,-0.3298042306859479,0.15299423196999618,0.4275201852596031,0.35964905890744303,0.17183424544206627,0.16599465507766697,-0.02839437439514758,-0.08866685168961133,0.2531502742934203,0.2965965681088345,0.34520191432315117,0.33131851118129396,0.13065613752850044,0.0409553900185462,1.0547977468672514,2.2225588643976995,2.761387147732947,2.995808293812445,-0.30685079029454987,-0.4158008993357283,-0.7042472410387306,-0.8524377525171523,-0.9059119540112621,-1.0614030562016525,-1.4256769748239724,-1.0770843991426953,-0.8869591701645396,-0.568284353801042,-0.08709833738780759,-0.38971089321811814,-0.7511034250430872,-0.42225480216141587,-0.4713547934137312,-0.628200449419138,-0.6934368757763649,-0.7220626531866978,-0.7622022338243157,-0.7666802159644082,-0.47810089748011264,-0.016802662803194313,0.0804296147092729,0.42943855282377985,0.7144911754772081,0.728858623386722,0.5790123431257599,0.021951458435357507,-0.3229759517219024,-0.2572075741412315,-0.16434264974952106,-0.026724742123736545,0.08415120856417901,-0.0008858162227151911,-0.01116195130776454,1.001957971231648,2.261001914069583,2.6531912561477498,2.630819372901364,-0.4052471022823434,-0.4302582011670728,-0.7034128443602099,-0.8816855535955783,-1.1367640988314167,-1.4699810688312678,-1.3137951462399111,-0.9475737288616123,-0.8273939903906782,-0.674566834270548,-0.35613607014524806,-0.5042876528667115,-0.723074785148011,-0.521235080689076,-0.5870816093255098,-0.5554404977433447,-0.6405832494162469,-0.674013621602449,-0.6705518700234023,-0.613039940526215,-0.2635606539980213,0.2354519163907911,0.43720879824041514,0.5551829794559922,0.7425298847652511,0.825366793130724,0.7354605967437444,0.3671703532386592,-0.25212291778976903,-0.3744479409765217,-0.38396755736691823,-0.40009815997916587,-0.46111459609057015,-0.7094692021909859,-0.9344495498023417,-0.7529560202551151,0.29640546191996364,1.5952117733566302,-0.9463827250062973,-1.0299611780448767,-1.2037777589405532,-1.3469428985633616,-1.7496159606853474,-1.7646430281258367,-1.4034293393260397,-1.014348809262816,-0.8519122251138671,-0.8580489978384471,-0.8589737226439171,-0.7070614180471784,-0.07923701844146391,0.0400673609249127,-0.36204660129010535,-0.5390757788095444,-0.5887098621921263,-0.6019701898199443,-0.6095872590931444,-0.48620274633793925,0.15230450875060297,0.5360213137611036,0.6733746625604087,0.7187822785132223,0.8352778263656075,0.957150183433439,0.9942289048101411,0.89140654358836,-0.09022432774038225,-0.37277683637514314,-0.3958628986832313,-0.408411064272339,-0.4165790694281235,-0.5626180116045264,-0.9405722817377263,-0.8925083453611915,-0.012664550512831774,0.7334759077464756,-0.9035924455770536,-1.0559615462890501,-1.2788711542317759,-1.532608251134484,-2.1222416779145563,-2.1713017049070906,-1.8119451700157962,-1.5912176427342164,-1.4063022747188194,-1.3079830719695607,-0.8705013116087064,-0.5696519344812567,0.27912691619835517,0.6664970434015403,0.3026791085140177,-0.0006345695706100329,-0.2832872981951675,-0.5586960179321709,-0.6540578631201328,-0.4566184453659974,0.03669264215529511,0.5140874825258623,0.8402332017662357,0.8834323218015476,0.9346009529126849,0.964138786374737,1.0014410642751512,1.0193952658441874,0.5104425427809989,-0.17499353106407556,-0.41286453047133065,-0.42097050494369626,-0.407178583737546,-0.42300638871427354,-0.9372287711216096,-0.889194853186456,0.4416235564267623,0.6401229178700616,-0.726181941381165,-0.8869376410642094,-1.1641360686886473,-1.3959914561662208,-1.4741716639889426,-1.5042246288739882,-1.469689802926386,-1.4788955429536437,-1.427581144251211,-1.359416314760751,-0.8522227931302389,-0.5424163246960396,-0.14836559079316958,0.18978723195002623,0.18598482454506637,0.1050241648420025,0.27648904516011097,0.044774900626886716,-0.2578382656644993,-0.11362896358987529,0.34484168149525907,0.5676594923525822,0.8107257511484449,0.8379925833508381,0.9264425499152105,0.9530283494561695,1.0126065067159296,0.989818408918306,0.7438102767821209,-0.12508451464772175,-0.4504997691266409,-0.46775399127750517,-0.47998082754619353,-0.5276808669588806,-1.0792874834484083,-1.0235883713883922,0.16565813718913613,-0.34385741805122727,-0.5241228193710743,-0.8797326907263201,-1.1921501886332972,-1.335680276794661,-1.3833127730780483,-1.3698397907141726,-1.3660709892434253,-1.3868246446678014,-1.396305315958546,-1.3958838719852544,-1.315386347795391,-0.7186915263488087,0.5175710453475681,0.7337821036344678,0.6084507792904086,0.5158383602813168,0.6203439931944614,0.5142366810605212,0.12006318497716162,0.2307969425463492,0.5216979087469835,0.590022244444282,0.6669596052226736,0.8145406496121899,0.9444271684184731,1.0158589239070754,0.9494046744316758,0.43223458577015106,-0.17649276548604886,-0.40129057021265757,-0.46055634649696087,-0.46006327771145017,-0.46641281666377554,-0.5586864175243014,-1.110116105944269,-0.9993584030157119,0.3020179993940122,0.26762335066099396,-0.542588440800087,-0.9108315875879023,-1.1809560483064387,-1.2286486698602463,-1.3003569129738104,-1.3486326387783523,-1.3503272024996056,-1.3476822421594328,-1.3458598788275071,-1.3611229869804682,-1.274360084196967,-0.5474292644245429,0.04832178451918745,0.05452306307911581,0.11865592711922535,0.39358861529671474,0.5495186698783612,0.5396792058299926,0.21738462386986646,0.42587224261541623,0.7418791512909704,0.7987034430679141,0.7828556122843144,0.8299239063299475,0.8884319881971452,0.9839353086313181,0.9299021717448479,0.2727900800480114,-0.3373226263120255,-0.4458770474508492,-0.46662925940604016,-0.46625078734067427,-0.4448513092930402,-0.5683324950799485,-0.9232392784159407,0.23830393169150188,2.7543933957739215,-0.6571982801353639,-0.7539260005479154,-0.9930536438335187,-1.1179148817225972,-1.2042509917883253,-1.2968226120831086,-1.331635039682224,-1.3361586233592113,-1.330240653885598,-1.3222914634668257,-1.3315586854864006,-1.1881595317512605,-0.315434210939991,-0.0799093245778133,-0.3206778264169705,-0.23567441131128786,0.27743260365609057,0.4663918873191859,0.6033615282351339,0.6348780857773746,0.6490044632163752,0.6593767766759973,0.6515323894414844,0.6700947821066414,0.7983063395029348,0.8388233272309611,0.9950076300490251,0.9176329943798103,0.09334592987681911,-0.38748985389466784,-0.4663740480942907,-0.45525917027733376,-0.508176970504478,-0.7001841410240909,-0.8775811739997753,-0.8051558675215063,0.4828349433900474,2.6060179057384207,-0.17212869560419586,-0.7286366147856729,-1.0541605760604638,-1.137841136729107,-1.2829030909200847,-1.3351750112542782,-1.3333389092868357,-1.303376903188111,-1.284095764267377,-1.257210674523831,-1.264072455247322,-1.0280274546977775,0.43369133357721035,0.7260989374528775,0.49707479612377803,0.4845193334554123,0.3245751020578145,-0.09693250706633272,-0.16511803911196798,-0.12363059348223082,0.3563990711812344,0.66169563219509,0.747858431903401,0.8108207838201014,0.9178326888341286,0.9464611048045102,1.0225180448618443,1.010646921726086,0.731976510150353,0.07129332991066262,-0.4311411789775914,-0.45760419598174074,-0.5175657112137805,-0.712084155637157,-0.9557174187989146,-0.9360629822098443,-0.3938175294170989,-0.0719080551139788,-0.7781588712534342,-0.8250194361440037,-1.3394024140106513,-1.4683730603476581,-1.8555588642070546,-1.9344750513115332,-1.7808434649197966,-1.3055774069157637,-1.2651682965153475,-1.2547647955631804,-1.250538497128394,-1.013296527227638,0.04017636370127553,-0.08127613263567257,-0.07051114133101644,0.11631462564371864,0.22596601229402147,0.3218282109479369,0.5670147874123814,0.446613934190518,0.6928401384905696,0.7696580513041735,0.7456545649123503,0.7384209942812983,0.8444639855335137,0.8774463722686137,0.9879350695087856,1.010838146457147,0.8459683752859375,0.15280492832377157,-0.42331447663218413,-0.45354400554940066,-0.3031119042944535,0.6907848500698464,1.0137057498555695,-0.47892415539300615,-0.36645581346432277,0.22742112070453402,1.2300501614312367,1.107291164056564,-0.1328307226140506,-1.166810988458872,-1.687784386009213,-1.8644140799620283,-1.7311137394116454,-1.2984027908803817,-1.2568016120525405,-1.2406819224621417,-1.21788381311907,-1.087973221131445,-0.47437002301061937,-0.36886549415638137,-0.40475643180616716,-0.35294544061708844,-0.33282871298726446,-0.2744565110323376,-0.05671320202578167,-0.1123961523514514,0.494447263148003,0.7430369944860464,0.7584983620385777,0.8316317597766121,0.9506165362809678,0.9169524918629071,0.9636868058711592,0.9676341488308742,0.7027178832812306,0.06618354327956588,-0.4189877797306478,-0.5730888965676111,-0.7802258354551104,0.30849645362784095,0.6054453202193786,-0.5124903699711778,-0.19148665377016982,0.4465385674505491,2.068401041632498,1.739002310420739,1.329133460148208,0.11270276403697377,-0.9634452356481908,-1.4042303894751704,-1.48057830491227,-1.4844809399540484,-1.4618184798020728,-1.4660539316810164,-1.418547916875804,-1.2007495288476278,-0.9515693314459261,-0.34604832396780827,-0.3027258710081744,-0.4995120922718985,-0.5965800606228555,-0.6565952030180529,-0.5814386255447959,-0.1440933218385143,0.3582475867715451,0.778559526134166,0.8913713968929886,0.8965541722793886,0.929642785076128,0.9806942756800754,0.9295547898802918,0.8968432483012876,0.6354329091252868,0.13212364901445683,-0.16848653593246743,-0.5632177328623413,-0.6759070787715075,-1.193623536062045,-1.160733975180674,-1.1154611403196102,-0.7489500756532808,1.0115559292341105,1.286298078739872,2.008125233502769,1.7397328095311693,1.1937378195424824,1.0265817407621611,0.855154679147299,0.5640633227330838,0.08162647743615548,-0.8159118407115891,-1.3375502392222853,-1.4343376671892671,-1.3463517110731744,-1.0228256977529526,-0.9789952753011267,-0.8075019607864864,-0.6237967663646007,-0.5536658832532784,-0.45107051200735837,-0.38512657969139763,-0.20971885186643857,0.36686914499272016,0.8409262908152404,0.8680133713249738,0.8333455537374959,0.8298150619509892,0.9160151678508877,1.034341791203881,0.9486862607857929,0.7613777202618137,0.29278799595058436,-0.46608443143158973,-0.5843314924526996,-1.0877150482415476,-0.856929678292178,-0.4873128735186869,0.5921744507893916,-0.24872928389671767,-0.14510405126929982,1.3952806264010977,1.7962482992019888,1.9191737053609597,1.6760142299607992,1.3907263368014426,1.2153626491180578,1.117995827995225,1.0258167697091505,0.7169058585998318,-0.25154047423781556,-1.1209985988545466,-1.063385084431105,0.21981461600291752,0.7561851200609695,-0.19771634968187968,-1.098577121602605,-1.2883746203488589,-1.211090539003704,-1.0670927572801814,-1.0368483386331144,-0.9277268580224949,-0.6070135640069128,0.07816897462858163,0.46304541899554374,0.41449442391196323,0.4317995299021291,0.5972359228506816,0.8258182874574111,0.7448597568892281,0.026024711692750557,-0.31940868646665743,-0.4676531570830911,-0.81151534646611,-0.9047841996625783,-0.8479908909450575,-0.11071755560811258,1.0339451629794576,0.5507118812035943,0.7937876981093268,2.147394783653276,2.504407858687964,1.2474516171252708,1.5006445015804948,1.441623207030018,1.3973266549870171,1.2868815753017824,1.234725138519,1.2146847190344285,0.9627785358602345,-0.2535732212538342,-1.0386585235275234,-0.1966374449530086,0.46079421320308533,-0.35921693105347696,-1.139837787307937,-1.395806954522652,-1.421551731944136,-1.3249248106449991,-1.4302307310700255,-1.2364769521829495,-1.0677524156684743,-0.7874375016355066,-0.35972832011827016,-0.3228149213925964,-0.4511955245779793,-0.2302677961275683,0.16886839425768052,0.558988852302178,-0.08117291213662292,-0.39319349193228426,-0.503436888985922,-0.8724549232406984,-0.813612020390643,-0.7481493745773022,0.6008596832048783,1.657291258809046,1.8050845649934768,2.0379125826758084,2.31122550669566,-0.16452533707480477,-0.48020041735419783,-0.6081883985840184,-0.2697537016806173,0.5858368938106224,1.2868942184579417,1.3131077942171885,1.1836342713417487,-0.11333768897631558,-1.0329644954436272,-1.2103391446417238,-1.2120569072472804,-1.2282877170342683,-1.2581848021014093,-1.297257107845113,-1.2285933236560247,-0.7718922611640986,-0.7027899333968466,-0.8238436565649968,-1.0298732918971547,-1.049868669163435,-0.7566996840872291,-0.6305754570254737,-0.9560939850399022,-0.876329311742224,-0.7005718348096519,-0.6102176564277316,-0.19109397311775012,-0.43987925767999403,-0.6390556237619982,-0.8821467097207143,-0.8204666426455196,-0.668757924157779,0.9148791464612547,1.746667527894246,1.9115459917646422,2.3364928019107776,2.4633498304919765,-0.5726625530413898,-0.6477831923060249,-0.892632979726681,-0.618277110028866,0.4503997631093988,1.3742770961019097,1.419360995161,1.3564380940396177,1.2219775358423899,1.0037062068575864,0.6743633997792688,0.04108713469376468,-0.8864092963924506,-1.2491739645441986,-1.314173629983559,-1.0995253174851065,0.011718518679072254,0.8392210259025923,0.5892424689344873,-0.8835836772933234,-1.2605390765152453,-0.7040373389567751,-0.5890100083282137,-0.787513016070156,-0.6360892890019729,-0.6039347227323184,1.8650805179300765,2.0109872577472103,2.403457481474918,-0.5580810322624035,-0.9561015113447726,-0.6079363167782716,0.6767260314495935,1.4192759846811303,1.4147338982009732,1.3522354176822358,1.3115118267589683,1.2569970629288285,1.145364165124974,0.6242519850495221,-0.5863381684976341,-1.2329488854666888,-1.5121396238937415,-1.3617386530599025,-1.142049931555673,-0.8610823940959293,-0.7836153782884927,-1.2628725253254056,-1.3793968032902457,-0.45052294303429896,0.1553307875876344,-0.39582505515939514,-0.11913724772258893,-0.12147810079559052,1.3008468309730503,1.256685200615408,1.1296443642767287,0.45766778335678104,-0.7299813159506217,-1.272709443699001,-1.5212363564507387,-1.3321093961242672,-1.1419738006692648,-1.417178793800197,-1.6249663617121146,-1.6402732454890312,-1.66645299696342,-1.346671014258928,-0.7008217645672743,-0.2781543470323422,0.12735671689201622,-0.19113935747653343,-1.3189392887051925,-1.1266933493696678,-1.4917440270540432,-1.6316273041394522,-1.6478634371157377,-1.6575600397314514,-1.2778856784383954,-0.6728807528274725,0.20283714529756391,-1.4276694423590295,0.23294225218761344],\"z\":[0.27967508920296136,0.22974586568936473,0.22487951646200632,0.2253638494521888,0.22161969427551687,-0.3122941130378174,-0.34955322644191256,-0.22683036347759455,-0.13695995695342078,0.29511329705674894,0.2727085288405253,0.22659168365105842,0.22588971763063537,0.23008595746502158,0.21830639969666943,0.1687607314887385,0.2135548029305765,0.22274691876093078,0.19779762098505915,0.20167342785499032,0.2038892777795891,-0.3182308753009728,-0.34924511655697765,-0.25340094624049136,-0.19228369739193862,0.13271265795004794,0.28250243236737393,0.23171227525554272,0.22830295263345568,0.22803495238531468,0.21513791023022266,0.16735078164655404,0.2378202815117878,0.2196483664722808,0.22042064763072933,0.19740125846294654,0.20633517100569865,0.2005037646695491,0.1526335770271674,0.15182472073451203,0.22548924043340923,0.20953076697290185,0.11284996274097048,-0.6015687550193762,-0.27621209096859545,-0.40064107112440883,-0.33923406775666365,-0.2579900605557264,-0.20211613601880662,0.10430069100057149,0.2715545802170636,0.2308523801458957,0.23437359598043894,0.23051254781078256,0.23562958724941852,0.278208173625915,0.28039853474631893,0.27851438744089285,0.2497147515709761,0.20852623442727225,0.20744264046218963,0.20000564647999863,0.19452970207377307,0.3179499557824461,0.0950950611722734,0.17133829233865527,0.2274508968132789,0.20127308329238658,0.09498659137610144,0.07207632489487059,-0.5570326743718099,-0.5524385699164247,-0.5922696236049121,-0.5728062368847411,-0.5316224541732151,-0.3602799359370914,-0.10552995693626954,-0.10303042370569837,-0.38059155482088003,-0.39447244034719287,-0.3072041434541821,-0.266963037219174,-0.2690961632594884,-0.15054689548620748,0.11737423950949522,0.1403951898291238,0.15168751054260898,0.17431410762539112,0.19814771783464624,0.23233268890711956,0.2640634868720073,0.2818073506092633,0.2722212627290288,0.21926605234706242,0.20909645666128363,0.22574167021642277,0.29112340540795323,0.2936526829377526,0.22898215138471034,0.20923285259026425,0.2204723178706316,0.19368907160626447,0.08196288525515971,0.06228868016787814,-0.5740449807996246,-0.4570439752226132,-0.4239147363145854,-0.5501752797128217,-0.5826442130528875,-0.5492213740794418,-0.5127458584890232,-0.30466052965116663,-0.12418373169352415,-0.05952010229259885,0.7029586792133566,0.497206039584311,-0.04930790643167515,-0.08706618855934112,-0.24321952953391146,-0.27755487210995655,-0.12374697701495929,0.17156402171744967,0.2414192790482741,0.2014718657305241,0.20360282874545677,0.18335997116747493,0.1680582247063398,0.19979985647330722,0.21595867642879507,0.20517230605336456,0.15413679201840114,0.12231976156091995,0.15134175600009625,0.20818839961066637,0.24506609639865706,0.21084969129165776,0.20926015086261063,0.20893402658409266,0.18821314741770023,0.07753958223122948,0.09066426538918537,0.030816915635014208,0.02498743930553804,-0.3776783833525308,-0.497122537348907,-0.45734178547777016,-0.18263415208620848,-0.114701364586278,0.0899501121553894,-0.022925691480815025,0.13960635124130583,0.6183656541847516,0.21527080364452672,0.026162004593079546,0.046838181858755434,-0.12083395925336982,-0.3524452513994367,-0.3339728504976933,-0.1913972347128685,0.18781093239450652,0.3690943566968071,0.7847193655456253,0.8262702100278916,0.6614044733717703,0.5178657380588616,0.3518184778130836,0.16447787702714423,0.13315594534918018,0.12126360947367432,0.08284978728326409,0.08633937123809177,0.09362942208339176,0.12344666377946645,0.10705204344539654,0.10351307853122527,0.09806806665972734,0.039895123570280244,0.033502945448864674,0.09090502070871365,-0.09450006225810248,-0.3046815066069999,-0.29404082869538417,-0.3560997548062268,-0.33640128792103474,-0.14734732466064826,-0.015554195160329076,0.2617981948711827,0.3136667523163398,-0.09097450884603075,0.40730484620914265,-0.28661662036212116,-0.00688123922361028,0.1479615958735987,0.1042329447241821,0.0020967221297987226,-0.030070353140911665,0.010183426773890614,0.092061543211016,-0.004907842317920491,0.9677552614992471,0.5290393135150753,-0.01169456900961352,0.15658380735378197,0.21605489806442585,-0.1393690618058372,-0.00391551676449442,0.061582734239766346,0.045797161355585425,0.04361161705846461,0.050064504219862416,0.08057160164744848,0.18677683594218308,0.13887251489747765,0.15510288382956983,0.04010072624143701,0.02684380945217324,0.1036131248377008,-0.06820378069970334,-0.419080503601559,-0.1288763123367379,-0.09433461176803959,-0.08811476933696005,-0.07610683720553435,-0.06604213251068447,-0.020981106779431324,0.01693174651900986,-0.12607860035726415,0.32903421798796084,-0.12791100002009406,-0.0006551975271399391,0.12146047793204487,0.11075214047964344,0.08435579811335059,0.09757733333708718,0.1340592233950315,0.1500982873762282,0.19014117747337045,0.4229085922482537,0.3790353975741914,0.3100517324174117,0.15534498452913725,0.593052058693598,0.578971083119137,0.6280813390348934,0.243361151015548,0.17762759061685718,0.014946298254060908,0.08447409154556218,0.08899182366457081,0.3343109802036852,0.36284940930557386,0.5690369340250518,0.4638425705265402,0.3888825256402373,0.3138720846050418,-0.29795008480189544,-0.21431411982554294,-0.23560397838199376,-0.021897771209355654,-0.10972217788258765,0.15535384823756715,-0.1590946706577373,-0.09893961109764304,-0.023757199157593,-0.06068958837135385,-0.022349205462024235,0.30515052623451194,0.37460159088199085,-0.07233172373930752,0.29234914256583155,0.16447896234937093,0.16688788094052864,0.19057395333971627,0.19287473160722446,0.19626101209736724,0.137803713023524,0.12373578824421161,0.10818029771353799,0.14405687669982953,0.0808386626568593,0.397853260096925,0.37076749803563724,0.7429758267083422,0.44530355438071223,0.39276168702704384,-0.03508486003707323,0.513232175390063,0.48661528520632813,0.47576825563300285,0.47011832170222556,0.5284385479147509,0.45578803023387626,0.4216947286917152,0.4824460860946995,-0.3189691207451374,-0.25972495627438075,-0.0583671641244734,-0.015712233883970694,-0.12141004909993502,0.2659318362120562,-0.2715080898260458,-0.16343481109048785,0.28334305323296993,0.10409281445684393,-0.07991990554633388,0.18185125084098974,0.2831442339427921,0.12775758407924143,0.34064062052005384,0.24289121517257217,0.13868321094086733,0.2621640933721032,0.25000038092062515,0.27068408887962214,-0.042440071306058896,0.07000002099544711,0.12082601806342919,0.1486406653123139,0.1389052107694907,0.2252574724626204,0.3735824130993347,0.47187090182530533,0.4492769543766352,0.39689289655983906,0.26637445491209333,0.4956712342276134,0.5124978297856517,0.538072769111577,0.4911625806529854,0.49758171626317194,0.4498114524360759,0.46786430118378164,0.560428496903317,-0.5685046225769781,-0.21563129744160364,0.05892001575729372,-0.1525979436994639,-0.11282153140961082,-0.09719763739782128,-0.15728770263793745,-0.13907031024728345,0.08655583749694523,0.03308980816598589,-0.15270613845546682,0.08943353355860778,0.010572066115281942,0.01707807269638062,-0.06927875459977675,0.48261556510524395,0.01799817653669744,0.14227866366791297,0.22183091105683306,0.3339320916815946,0.04977775106101956,0.1603327683494672,0.1167844467578919,0.0581937244654146,-0.03257050397577588,0.14705564581012875,0.26879316821096677,0.35148986084514944,0.41417119723514995,0.4199610221690343,0.43904804603581726,0.4480410473551356,0.46621497032553433,0.8346186028194345,0.6393941460470386,0.692115666532024,0.5978542443953007,0.8801833456785284,-0.6797069026628566,-0.4516892406833446,-0.29558698657344873,-0.19083063006163592,-0.17414417909717284,-0.15001009528001974,-0.1488069073323115,-0.14532511353379673,-0.1437988135204964,-0.13477485098850972,-0.12966170037632607,-0.13305757015946873,-0.112294862093137,-0.04842214449630933,-0.01028235420654633,0.011865994297352023,0.2129568630460555,0.04403381689873148,0.0021861897251966855,0.06137917048261354,0.04115219364071887,0.03398368862417789,0.03381849010033461,0.04700306567611276,-0.026746180016117616,-0.03982067286713509,0.16794326682267757,0.07254162734839897,0.14726702246262513,0.22911851815425932,0.3597890428810635,0.3797880496331786,0.3589525382098569,0.6374762323587643,0.8516062039891157,0.6825673112175636,0.7768799660757446,0.7606212854898551,0.27398964842313256,-0.4887168004286575,-0.4276505672965776,-0.31620837003921554,-0.21929114200927846,-0.2064188904397949,-0.19648287084371208,-0.19940021719379486,-0.19022300905315692,-0.19409683228234442,-0.18897535503292584,-0.1881502829862297,-0.17290891476004056,-0.11479395850884666,0.10061938518961866,0.11877640164086423,0.09733450482382944,0.05988086387421332,0.038515733752242154,0.02655184377030806,0.022139189190843567,0.028996584059016506,0.001569256138479469,-0.03838934082178236,-0.11046108766605045,-0.26266135148611314,-0.32487893298896053,0.1043759628191534,0.5624712408835952,0.3682134407018695,0.28352778832666004,0.33565659930275016,0.35540189399678435,0.3443215700483737,0.7183131001208471,0.8857455951796074,0.8041498255912414,0.5928335975802952,1.1174667965739937,1.6395512748568892,-0.33457910361032184,-0.3872162929582177,-0.24286655434122584,-0.2192608288516369,-0.21506453302882833,-0.11102125877716984,-0.15446412004378496,-0.1283109785257598,-0.23173116932749838,-0.2272513914100347,-0.24146148722561278,-0.2081273708733654,-0.1616582172684211,0.013771744059272617,0.06697779901693801,0.0906578291023008,0.12763385833418128,0.17564240576579226,0.19635624707267063,0.20406023352920732,0.15001730834548954,-0.013995914582348945,-0.29747829942739745,-0.4264133561345895,-0.4558203678984021,-0.3809865499356482,0.05464546883704813,0.697888073617491,0.4103107610055621,0.3217691230841243,0.28814658843844776,0.2918701328460005,0.30410453037753393,0.499489131196311,0.6547199824194558,0.3040218358012847,0.04652369189996719,0.12836967528329524,0.3121929421552112,-0.27978239532345395,-0.38611519249489135,-0.2912073959634014,-0.2368711233032419,-0.18208916366628403,-0.07109764391787765,-0.06532975538966476,-0.1487184084945551,-0.2948801882604588,-0.400569128157924,-0.459057334627327,-0.3971995642714763,-0.1497943459976563,0.07114203591674606,0.14292147391280008,0.15099972514841686,0.13180079452310278,0.11499461389319643,0.09461081122658044,0.06537259638452464,-0.08094181617908935,-0.2600776743220967,-0.27385141518639533,-0.33148987023099385,-0.34827459955682016,-0.3364209709984498,-0.10769421262286616,0.43270795587343613,0.4760971586594011,0.47311453040249274,0.4319546725307598,0.39700467034698417,0.3933370337323756,0.5812220953134186,0.6868640958585701,0.10502479655980412,-0.15860988667555365,-0.22641468185230718,-0.06714721070193796,-0.2128366873913321,-0.36496780801530404,-0.31884786219369143,-0.24050776833961585,-0.06905286552496731,-0.0003082219984660295,-0.055418588324380236,-0.2302843803116425,-0.2734027718318398,-0.35391161033281326,-0.36454709630907023,-0.3979351136982465,-0.23559066933459816,-0.08493633389294974,5.9119126419759915e-05,0.04858645312035337,0.036126974045097904,0.04296827107528589,0.09291083246368592,0.13032948630068153,0.05065305721539515,-0.22211087544674135,-0.2749200525088189,-0.3262897920163217,-0.4328578599994697,-0.5212461835224174,-0.23301406594396523,0.27891297527949166,0.4258220040130024,0.4985925826775235,0.49704949313076174,0.5023993386635286,0.585506335046307,0.798437833813321,0.9903859843515603,0.2940970580677198,0.4011133085996952,0.8377241393926811,-0.01378462520057755,-0.11908177380664464,-0.013430231983241114,0.04269555306596595,0.004832709399606061,0.12234190216386598,0.021373202826960036,-0.25088620431764264,-0.25294509987924485,-0.26353120512540273,-0.27424221858666087,-0.34975485044526766,-0.4763495826070874,-0.2860788585646281,0.008600624319346495,0.09623706710098567,0.12096610879792224,0.11744525930767669,0.1052471836521055,0.004166441172295254,-0.25419586685614837,-0.4953535610320552,-0.49645511400336195,-0.4986735172267789,-0.5066783976974869,-0.4726464808657318,-0.14936953013307708,0.14750008513070423,0.2310920577950606,0.4386012002765661,0.45103430493971675,0.4538436338193908,0.49418600441500926,0.5779634071109918,0.7379250418854657,0.3701339843593745,0.369559376741305,-0.1415544015825616,-0.19862166336070664,-0.11237877152842157,0.039964079160038524,0.11385303567386601,0.13549218847471317,0.26376673919598326,0.3165522163384574,-0.2428844085757304,-0.06129625911384229,-0.062190906624586706,-0.20577536021915122,-0.45678672697777234,-0.3178864859510211,-0.38312468004377154,-0.19318179409006686,-0.18112015599437603,-0.13834247287601964,-0.043859063760425476,-0.019282111188465567,-0.0690718475573967,-0.18069244934316964,-0.3483753383444528,-0.38357190087111004,-0.38882730182275127,-0.42066079569468506,-0.39592227236582067,-0.16167434001370795,-0.06072836033967932,0.0717612072543461,0.3591222431516633,0.43154789801948246,0.443045039454834,0.4466397274517515,0.4584927610889335,0.49003747995333735,0.47635947270864154,-0.14223726695928907,-1.4208536396168414,-0.28165342068557575,-0.11515879547869878,0.03647600639962156,0.018721382308389822,-0.02053069600721813,0.005852236651867959,0.06682613117122643,-0.12213860193534576,-0.04218210078950202,-0.030549595979321054,-0.2780084813747883,-0.4342932350823765,-0.1450346115888359,-0.4326095272095327,-0.12659173651263744,-0.2899496318860102,-0.2146240439491327,-0.01681998934855633,0.08562185085648188,-0.052296838055917894,-0.19970578318116283,-0.35590156738613965,-0.4583886096743828,-0.5246219171215567,-0.5949739141950259,-0.444430094468387,-0.13348263956334483,-0.10091995246274199,0.04745754093268717,0.29103587419255283,0.4066801778856015,0.42249738307609785,0.42198601872944996,0.5030389905300551,0.5984841481424447,0.56255898090553,-0.02562782846260081,-1.0355303085676661,-0.4476453113977412,-0.30380046572159625,-0.1183485762476939,-0.05213368380149197,-0.07064732121824036,-0.04995519004691973,-0.04117035881886655,-0.04588365036264541,-0.05169004838539193,-0.055967230086285014,-0.088570964932139,-0.3255174287576954,-0.31421743325342866,-0.33000024454448473,-0.21340311023380942,-0.297191749427272,-0.25838534916742817,-0.2480680303951719,-0.193662821450572,-0.24047820480402504,-0.34415455565858255,-0.3621041445871245,-0.36361998057062106,-0.39845316331221703,-0.3706811978803173,-0.26957891455565086,-0.16468215395517416,0.0489224815207554,0.3049874001951912,0.3288240245064773,0.35610812289190275,0.3713848216065794,0.3877757957365229,0.519745266938624,0.641220402684027,0.5392702850147271,-0.0179761254835884,-1.1606243015470943,-0.39482298115274694,-0.3408506792660133,-0.23363361062593835,-0.13796342852273713,-0.1494772451222589,-0.10438133114804093,-0.08622977054911651,-0.07730645254873125,-0.06813842963895156,-0.06796973935209294,-0.0885013429426239,-0.22357131340558656,-0.13273647659535381,-0.16782314389851272,-0.2659433736450574,-0.3575741861100312,-0.3904269202156736,-0.32118500238084047,-0.22382278848669634,-0.2169656961850479,-0.3133866196649735,-0.32369172645546174,-0.3419452394813023,-0.4048655767783469,-0.37387489986043,-0.27988517028745985,-0.16251758426441665,0.09445548275291094,0.30132076268850905,0.3231585848108165,0.3261206556632976,0.3226735673765948,0.3367971271655624,0.5023255267253499,0.5755344466660106,0.09177205825032742,-0.15451371714539874,-1.235561259261241,-0.6658900781224775,-0.3133491261597584,-0.1518738489346294,-0.08342508173038543,-0.10149274974685629,-0.09835492816779479,-0.09433854028182254,-0.08571722367172663,-0.07677539380012799,-0.07654637496411398,-0.11768071281325287,-0.23551251487891078,-0.21343768980547373,0.007446570921893159,-0.11026408185952175,-0.1136283976648782,-0.20276017043400585,-0.2565764974275728,-0.29733886850318214,-0.35326473613925713,-0.3849202798013591,-0.39092602799555953,-0.40209937712865074,-0.46430005590030454,-0.42104682622727907,-0.2648348582887139,-0.13887472303588044,0.06063374079363015,0.2464930682182226,0.2679016276998184,0.26400198053874036,0.26632658808401033,0.419783898218519,0.5910486671413626,0.5691467040940814,0.026911773864938926,0.1857891869079138,-0.006461057826539385,-0.17594220590594123,-0.15747646353438327,-0.07832076218810857,-0.0867780339113493,-0.07688580508529341,-0.09428929049839285,-0.106759829806095,-0.12186400070706938,-0.14520950186503745,-0.1487412872737388,-0.22014466299012525,-0.3325068195837151,-0.3572765963565123,-0.21303360868391352,-0.3162232608256559,-0.19576569480117922,-0.13537867533320158,-0.14185223179649165,-0.1834394595432296,-0.26483260637660644,-0.36848871372314695,-0.37320616173476173,-0.37756720342247707,-0.41671576585960723,-0.3993180375497203,-0.33422221176308753,-0.3167705682977946,-0.22884011061906917,0.10112341601030894,0.21733548040065676,0.24348240078072192,0.27179171715838557,0.44713459473142997,0.5945597097956463,0.37853650939883865,0.20098398042774956,0.5726056973023907,0.06410984526329333,-0.11937336952101507,0.05908463633681649,0.08148770030295038,-0.08797631559903962,0.06904866672461707,-0.08977355801457323,-0.0843572344590563,-0.13636098589804702,-0.14543796661845187,-0.15673048319196947,-0.26781097685462296,-0.21340644102607764,-0.22787800592147778,-0.1379728603299588,-0.32703962036355794,-0.15339070091039497,-0.24098624046425243,-0.25096670386644115,-0.23187755552988465,-0.3137530365664991,-0.39082946078755754,-0.3976573785029971,-0.4096004306828154,-0.47329587237995163,-0.4566483811194706,-0.36607745206531384,-0.34951517511395025,-0.284018197862542,0.05962725011586967,0.17675904373553142,0.21767844955058702,0.342886654530029,0.08118060409295857,0.3986059955790804,0.15362075960644006,0.028245730155263438,-0.05871989500783181,-0.8341220617133738,-0.6264370482234973,-0.5337686545086786,-0.10458008918497042,-0.05791909286355956,0.0696684432174921,-0.06108338686884551,-0.07906995269707368,-0.15194809498515038,-0.15702450260468714,-0.14970074961309565,-0.1355160185226374,-0.08046817327776512,0.02641319414380927,0.1155979652062955,0.08116899901372165,0.14997132709058647,0.029214984101243013,-0.021064280422308235,-0.12374581229165327,-0.37038016571340027,-0.4160464587964663,-0.4204213731728039,-0.4361773945858505,-0.46436950557748835,-0.42354830058145465,-0.3983663689428756,-0.3886899843020104,-0.31125160377117367,0.014649045507074687,0.13116961131785387,0.2599778001298051,0.34923342509646405,0.2239625778400547,0.3059967803619279,0.1296678805636069,-0.10274032692961521,-0.43240245316225145,-1.004004149846618,-0.870948664151884,-0.6983877315630904,-0.6736329970641419,-0.1739369022666799,-0.0674817800047105,0.03176648054352871,0.11534553662684432,0.0023870150672906654,-0.0903486470923971,-0.18476699244923633,-0.36823110300949174,-0.12287826793313616,-0.04654799314340308,-0.004035614979337465,0.06332430318770943,0.06436114233914281,0.06562856382585369,0.035446061625843295,-0.0925877097262997,-0.2697315297339169,-0.4287873547706642,-0.44510173235594275,-0.45511193058838906,-0.47473779984845343,-0.49139693713105714,-0.4647753332273168,-0.43852321351568646,-0.23976176109038616,-0.15828320946224683,0.12662843906028887,0.1142150157757924,0.3322378141507838,0.3470037805973758,0.39154494516031213,0.4169119184266885,0.05141542487852613,0.37010652446009473,0.6553001243328609,-1.1358092471760788,-1.0204742336768913,-0.8631265103291366,-0.6721634400577399,-0.5585210873466488,-0.5250213397421026,-0.4300452628785205,-0.3352181721236449,-0.030593384374574928,-0.06631382149390541,-0.21093819953947923,-0.4647683064612178,-0.1764924813500064,-0.15166537553983928,-0.0801244174539395,-0.010925627542879401,0.02606875886819071,0.053876069567187046,0.0159934862945339,-0.21517422368571815,-0.38534145871938996,-0.4584572503865525,-0.46291209950176215,-0.47115242437719074,-0.5090691623566985,-0.5133089745832136,-0.438986640020806,-0.41033034902661525,-0.0834993001048705,0.05329905338735563,0.3634619808662892,0.05443896811318605,0.24966746292504594,0.2349166724418903,0.6151576951984135,0.24758781723800327,0.17400160027432143,0.35089487142531084,1.4324508168397827,-1.7984139691344527,-1.169505051107973,-0.8335382065744099,-0.7308161370670154,-0.6662091431910468,-0.6438013718790394,-0.6420435160931746,-0.5749161589364915,-0.06694245424014067,-0.10391877160021235,-0.4325850533745612,-0.5442515836951287,-0.48638197502523095,-0.2225069678949223,-0.11843390999156544,-0.14173343932093824,-0.13959556131546436,-0.14911292892462835,-0.15999745657097086,-0.232357315086426,-0.37979434614365015,-0.39698321971592243,-0.2469378639679085,-0.29722142235208837,-0.37595714887730813,-0.4799331985640354,-0.4543920354968063,-0.07572870386266106,0.030123763041814744,0.4149663779678956,0.11707908356858931,0.12062727721320687,0.17973877124125837,0.33553492015566544,0.5729304576218244,0.5218423823578746,0.44199252161926594,0.06671982277398136,0.3334223592307053,-0.8462870647645255,-0.9375396096642818,-0.803135895297272,-0.8304836691925646,-0.7819222007221853,-0.7458025640153298,-0.7628461315649373,-0.6681488406653813,-0.4051032155954388,-0.2734546074326185,-0.36113162146093636,-0.45767877466382156,-0.5217095238065266,-0.16913395254737562,-0.07046020680252418,-0.14611493998984315,-0.013029253779846206,-0.10235735200133439,-0.30870114320638875,-0.25608712786970644,-0.30981586509838355,-0.25292705030832274,0.09274698496681222,0.08933510899545183,-0.029173435015856564,-0.2514024187640007,-0.5488205574065319,-0.015679370067076093,0.0662311729775601,0.46986635421553535,0.014300147367903193,0.12319458857739951,0.09554734775819673,0.37382035425656124,-0.044946994327972334,-0.09868537940622968,0.08280757088886226,0.0849739472440616,-0.1888474162650473,-0.3842807382193727,-0.3419582989702503,-0.31584949107072546,-0.6675495312881603,-0.7097496919168265,-0.770877203939599,-0.685222313045232,-0.6028806154046391,-0.29505788110171904,-0.16447850490149785,-0.1490884301483506,-0.13177246655411867,-0.11348873432432915,-0.10103247754463096,-0.13326367954905827,-0.009654645569034948,-0.24155270570080134,-0.32299302412825553,-0.2580553157905353,-0.2478336487707099,-0.0806423224050451,0.232279202361038,0.2855162431950674,0.19393565565294102,0.11920645973841593,-0.15385759918417563,0.007766164417445709,-0.013665567824329705,0.33331794430389494,0.0008779063694337452,0.1278098400901757,0.09553428699404876,0.4209398956095871,-0.11380020739662644,-0.22621780448507067,0.10614947790569396,0.3278425565016887,-0.47792972879532325,-0.3929573731509657,-0.2563786669847943,-0.18849507620811545,-0.5747625343607954,-0.6972105469399441,-0.7814376024785528,-0.7974532102904828,-0.7847839718664913,-0.7519302158847978,-0.6664683355935264,-0.5768346230480041,-0.30649444530980086,-0.10433622462683001,-0.10674735461367524,-0.1066999536975839,-0.24492740897506327,-0.5881858020715169,-0.4406236705812292,-0.23672035129460456,-0.2197871006210277,-0.03535368509523895,-0.33620969404875956,0.16332814867384915,0.3133883713578629,0.4749948641456899,-0.03321481453679631,-0.23639358054608106,0.1909989675336483,-0.3324729420138257,-0.2550136786114807,-0.3676956620364593,-0.5570521676455638,-0.7105431389042529,-0.7862706054527493,-0.8040776186935084,-0.7959690148534184,-0.8212840598486482,-0.8142981276113677,-0.8998356635734899,-0.4421811008358687,-0.04408680609684357,-0.07607016674205136,-0.054876358241494394,-0.2451194869279284,-0.13051792075951263,-0.16294265885443737,-0.18827129926504416,-0.19823150516947674,0.11450690622076642,-0.20564114230842545,0.11448083086171579,0.5880545203176484,0.49429809220026955,-0.8387903003838613,-0.8260506856130423,-0.7959473452845041,-0.9177891070937907,-0.3639228584820824,-0.004223821685728435,-0.05841276422836805,-0.10961089134356611,-0.22854039741135346,-0.12901404689306362,-0.10646135059706996,-0.0931869069884973,-0.08311920210279788,0.12485725518584534,0.4408046942307582,0.15410913495459067,0.268501835999984,0.638991739566745,-0.20825133801630652,-0.16532338287529952,-0.133042201363406,-0.10310155767910367,-0.09015939836021214,-0.06785290167390923,0.20273142880951722,0.4339121718760133,0.22574474934712274,0.008320609609338003,0.2273153543056745],\"type\":\"scatter3d\"},{\"customdata\":[[35,23],[36,22],[36,23]],\"hovertemplate\":\"color=red<br>PC1=%{x}<br>PC2=%{y}<br>PC3=%{z}<br>x=%{customdata[0]}<br>y=%{customdata[1]}<extra></extra>\",\"legendgroup\":\"red\",\"marker\":{\"color\":\"#EF553B\",\"opacity\":0.5,\"symbol\":\"circle\"},\"mode\":\"markers\",\"name\":\"red\",\"scene\":\"scene\",\"showlegend\":true,\"x\":[28.869727688098507,23.40306422472335,29.396909826129384],\"y\":[0.6583866644545289,0.38343837441080497,0.7588789007285488],\"z\":[12.380851968565896,11.256064395085176,12.510209485669563],\"type\":\"scatter3d\"}],                        {\"template\":{\"data\":{\"histogram2dcontour\":[{\"type\":\"histogram2dcontour\",\"colorbar\":{\"outlinewidth\":0,\"ticks\":\"\"},\"colorscale\":[[0.0,\"#0d0887\"],[0.1111111111111111,\"#46039f\"],[0.2222222222222222,\"#7201a8\"],[0.3333333333333333,\"#9c179e\"],[0.4444444444444444,\"#bd3786\"],[0.5555555555555556,\"#d8576b\"],[0.6666666666666666,\"#ed7953\"],[0.7777777777777778,\"#fb9f3a\"],[0.8888888888888888,\"#fdca26\"],[1.0,\"#f0f921\"]]}],\"choropleth\":[{\"type\":\"choropleth\",\"colorbar\":{\"outlinewidth\":0,\"ticks\":\"\"}}],\"histogram2d\":[{\"type\":\"histogram2d\",\"colorbar\":{\"outlinewidth\":0,\"ticks\":\"\"},\"colorscale\":[[0.0,\"#0d0887\"],[0.1111111111111111,\"#46039f\"],[0.2222222222222222,\"#7201a8\"],[0.3333333333333333,\"#9c179e\"],[0.4444444444444444,\"#bd3786\"],[0.5555555555555556,\"#d8576b\"],[0.6666666666666666,\"#ed7953\"],[0.7777777777777778,\"#fb9f3a\"],[0.8888888888888888,\"#fdca26\"],[1.0,\"#f0f921\"]]}],\"heatmap\":[{\"type\":\"heatmap\",\"colorbar\":{\"outlinewidth\":0,\"ticks\":\"\"},\"colorscale\":[[0.0,\"#0d0887\"],[0.1111111111111111,\"#46039f\"],[0.2222222222222222,\"#7201a8\"],[0.3333333333333333,\"#9c179e\"],[0.4444444444444444,\"#bd3786\"],[0.5555555555555556,\"#d8576b\"],[0.6666666666666666,\"#ed7953\"],[0.7777777777777778,\"#fb9f3a\"],[0.8888888888888888,\"#fdca26\"],[1.0,\"#f0f921\"]]}],\"heatmapgl\":[{\"type\":\"heatmapgl\",\"colorbar\":{\"outlinewidth\":0,\"ticks\":\"\"},\"colorscale\":[[0.0,\"#0d0887\"],[0.1111111111111111,\"#46039f\"],[0.2222222222222222,\"#7201a8\"],[0.3333333333333333,\"#9c179e\"],[0.4444444444444444,\"#bd3786\"],[0.5555555555555556,\"#d8576b\"],[0.6666666666666666,\"#ed7953\"],[0.7777777777777778,\"#fb9f3a\"],[0.8888888888888888,\"#fdca26\"],[1.0,\"#f0f921\"]]}],\"contourcarpet\":[{\"type\":\"contourcarpet\",\"colorbar\":{\"outlinewidth\":0,\"ticks\":\"\"}}],\"contour\":[{\"type\":\"contour\",\"colorbar\":{\"outlinewidth\":0,\"ticks\":\"\"},\"colorscale\":[[0.0,\"#0d0887\"],[0.1111111111111111,\"#46039f\"],[0.2222222222222222,\"#7201a8\"],[0.3333333333333333,\"#9c179e\"],[0.4444444444444444,\"#bd3786\"],[0.5555555555555556,\"#d8576b\"],[0.6666666666666666,\"#ed7953\"],[0.7777777777777778,\"#fb9f3a\"],[0.8888888888888888,\"#fdca26\"],[1.0,\"#f0f921\"]]}],\"surface\":[{\"type\":\"surface\",\"colorbar\":{\"outlinewidth\":0,\"ticks\":\"\"},\"colorscale\":[[0.0,\"#0d0887\"],[0.1111111111111111,\"#46039f\"],[0.2222222222222222,\"#7201a8\"],[0.3333333333333333,\"#9c179e\"],[0.4444444444444444,\"#bd3786\"],[0.5555555555555556,\"#d8576b\"],[0.6666666666666666,\"#ed7953\"],[0.7777777777777778,\"#fb9f3a\"],[0.8888888888888888,\"#fdca26\"],[1.0,\"#f0f921\"]]}],\"mesh3d\":[{\"type\":\"mesh3d\",\"colorbar\":{\"outlinewidth\":0,\"ticks\":\"\"}}],\"scatter\":[{\"fillpattern\":{\"fillmode\":\"overlay\",\"size\":10,\"solidity\":0.2},\"type\":\"scatter\"}],\"parcoords\":[{\"type\":\"parcoords\",\"line\":{\"colorbar\":{\"outlinewidth\":0,\"ticks\":\"\"}}}],\"scatterpolargl\":[{\"type\":\"scatterpolargl\",\"marker\":{\"colorbar\":{\"outlinewidth\":0,\"ticks\":\"\"}}}],\"bar\":[{\"error_x\":{\"color\":\"#2a3f5f\"},\"error_y\":{\"color\":\"#2a3f5f\"},\"marker\":{\"line\":{\"color\":\"#E5ECF6\",\"width\":0.5},\"pattern\":{\"fillmode\":\"overlay\",\"size\":10,\"solidity\":0.2}},\"type\":\"bar\"}],\"scattergeo\":[{\"type\":\"scattergeo\",\"marker\":{\"colorbar\":{\"outlinewidth\":0,\"ticks\":\"\"}}}],\"scatterpolar\":[{\"type\":\"scatterpolar\",\"marker\":{\"colorbar\":{\"outlinewidth\":0,\"ticks\":\"\"}}}],\"histogram\":[{\"marker\":{\"pattern\":{\"fillmode\":\"overlay\",\"size\":10,\"solidity\":0.2}},\"type\":\"histogram\"}],\"scattergl\":[{\"type\":\"scattergl\",\"marker\":{\"colorbar\":{\"outlinewidth\":0,\"ticks\":\"\"}}}],\"scatter3d\":[{\"type\":\"scatter3d\",\"line\":{\"colorbar\":{\"outlinewidth\":0,\"ticks\":\"\"}},\"marker\":{\"colorbar\":{\"outlinewidth\":0,\"ticks\":\"\"}}}],\"scattermapbox\":[{\"type\":\"scattermapbox\",\"marker\":{\"colorbar\":{\"outlinewidth\":0,\"ticks\":\"\"}}}],\"scatterternary\":[{\"type\":\"scatterternary\",\"marker\":{\"colorbar\":{\"outlinewidth\":0,\"ticks\":\"\"}}}],\"scattercarpet\":[{\"type\":\"scattercarpet\",\"marker\":{\"colorbar\":{\"outlinewidth\":0,\"ticks\":\"\"}}}],\"carpet\":[{\"aaxis\":{\"endlinecolor\":\"#2a3f5f\",\"gridcolor\":\"white\",\"linecolor\":\"white\",\"minorgridcolor\":\"white\",\"startlinecolor\":\"#2a3f5f\"},\"baxis\":{\"endlinecolor\":\"#2a3f5f\",\"gridcolor\":\"white\",\"linecolor\":\"white\",\"minorgridcolor\":\"white\",\"startlinecolor\":\"#2a3f5f\"},\"type\":\"carpet\"}],\"table\":[{\"cells\":{\"fill\":{\"color\":\"#EBF0F8\"},\"line\":{\"color\":\"white\"}},\"header\":{\"fill\":{\"color\":\"#C8D4E3\"},\"line\":{\"color\":\"white\"}},\"type\":\"table\"}],\"barpolar\":[{\"marker\":{\"line\":{\"color\":\"#E5ECF6\",\"width\":0.5},\"pattern\":{\"fillmode\":\"overlay\",\"size\":10,\"solidity\":0.2}},\"type\":\"barpolar\"}],\"pie\":[{\"automargin\":true,\"type\":\"pie\"}]},\"layout\":{\"autotypenumbers\":\"strict\",\"colorway\":[\"#636efa\",\"#EF553B\",\"#00cc96\",\"#ab63fa\",\"#FFA15A\",\"#19d3f3\",\"#FF6692\",\"#B6E880\",\"#FF97FF\",\"#FECB52\"],\"font\":{\"color\":\"#2a3f5f\"},\"hovermode\":\"closest\",\"hoverlabel\":{\"align\":\"left\"},\"paper_bgcolor\":\"white\",\"plot_bgcolor\":\"#E5ECF6\",\"polar\":{\"bgcolor\":\"#E5ECF6\",\"angularaxis\":{\"gridcolor\":\"white\",\"linecolor\":\"white\",\"ticks\":\"\"},\"radialaxis\":{\"gridcolor\":\"white\",\"linecolor\":\"white\",\"ticks\":\"\"}},\"ternary\":{\"bgcolor\":\"#E5ECF6\",\"aaxis\":{\"gridcolor\":\"white\",\"linecolor\":\"white\",\"ticks\":\"\"},\"baxis\":{\"gridcolor\":\"white\",\"linecolor\":\"white\",\"ticks\":\"\"},\"caxis\":{\"gridcolor\":\"white\",\"linecolor\":\"white\",\"ticks\":\"\"}},\"coloraxis\":{\"colorbar\":{\"outlinewidth\":0,\"ticks\":\"\"}},\"colorscale\":{\"sequential\":[[0.0,\"#0d0887\"],[0.1111111111111111,\"#46039f\"],[0.2222222222222222,\"#7201a8\"],[0.3333333333333333,\"#9c179e\"],[0.4444444444444444,\"#bd3786\"],[0.5555555555555556,\"#d8576b\"],[0.6666666666666666,\"#ed7953\"],[0.7777777777777778,\"#fb9f3a\"],[0.8888888888888888,\"#fdca26\"],[1.0,\"#f0f921\"]],\"sequentialminus\":[[0.0,\"#0d0887\"],[0.1111111111111111,\"#46039f\"],[0.2222222222222222,\"#7201a8\"],[0.3333333333333333,\"#9c179e\"],[0.4444444444444444,\"#bd3786\"],[0.5555555555555556,\"#d8576b\"],[0.6666666666666666,\"#ed7953\"],[0.7777777777777778,\"#fb9f3a\"],[0.8888888888888888,\"#fdca26\"],[1.0,\"#f0f921\"]],\"diverging\":[[0,\"#8e0152\"],[0.1,\"#c51b7d\"],[0.2,\"#de77ae\"],[0.3,\"#f1b6da\"],[0.4,\"#fde0ef\"],[0.5,\"#f7f7f7\"],[0.6,\"#e6f5d0\"],[0.7,\"#b8e186\"],[0.8,\"#7fbc41\"],[0.9,\"#4d9221\"],[1,\"#276419\"]]},\"xaxis\":{\"gridcolor\":\"white\",\"linecolor\":\"white\",\"ticks\":\"\",\"title\":{\"standoff\":15},\"zerolinecolor\":\"white\",\"automargin\":true,\"zerolinewidth\":2},\"yaxis\":{\"gridcolor\":\"white\",\"linecolor\":\"white\",\"ticks\":\"\",\"title\":{\"standoff\":15},\"zerolinecolor\":\"white\",\"automargin\":true,\"zerolinewidth\":2},\"scene\":{\"xaxis\":{\"backgroundcolor\":\"#E5ECF6\",\"gridcolor\":\"white\",\"linecolor\":\"white\",\"showbackground\":true,\"ticks\":\"\",\"zerolinecolor\":\"white\",\"gridwidth\":2},\"yaxis\":{\"backgroundcolor\":\"#E5ECF6\",\"gridcolor\":\"white\",\"linecolor\":\"white\",\"showbackground\":true,\"ticks\":\"\",\"zerolinecolor\":\"white\",\"gridwidth\":2},\"zaxis\":{\"backgroundcolor\":\"#E5ECF6\",\"gridcolor\":\"white\",\"linecolor\":\"white\",\"showbackground\":true,\"ticks\":\"\",\"zerolinecolor\":\"white\",\"gridwidth\":2}},\"shapedefaults\":{\"line\":{\"color\":\"#2a3f5f\"}},\"annotationdefaults\":{\"arrowcolor\":\"#2a3f5f\",\"arrowhead\":0,\"arrowwidth\":1},\"geo\":{\"bgcolor\":\"white\",\"landcolor\":\"#E5ECF6\",\"subunitcolor\":\"white\",\"showland\":true,\"showlakes\":true,\"lakecolor\":\"white\"},\"title\":{\"x\":0.05},\"mapbox\":{\"style\":\"light\"}}},\"scene\":{\"domain\":{\"x\":[0.0,1.0],\"y\":[0.0,1.0]},\"xaxis\":{\"title\":{\"text\":\"PC1\"},\"range\":[-40,70]},\"yaxis\":{\"title\":{\"text\":\"PC2\"},\"range\":[-3,3]},\"zaxis\":{\"title\":{\"text\":\"PC3\"},\"range\":[-3,15]}},\"legend\":{\"title\":{\"text\":\"color\"},\"tracegroupgap\":0},\"margin\":{\"t\":0,\"l\":0,\"r\":0,\"b\":0}},                        {\"responsive\": true}                    ).then(function(){\n",
       "                            \n",
       "var gd = document.getElementById('0f5670fd-9a68-4fa0-9fb1-d40b97f8606a');\n",
       "var x = new MutationObserver(function (mutations, observer) {{\n",
       "        var display = window.getComputedStyle(gd).display;\n",
       "        if (!display || display === 'none') {{\n",
       "            console.log([gd, 'removed!']);\n",
       "            Plotly.purge(gd);\n",
       "            observer.disconnect();\n",
       "        }}\n",
       "}});\n",
       "\n",
       "// Listen for the removal of the full notebook cells\n",
       "var notebookContainer = gd.closest('#notebook-container');\n",
       "if (notebookContainer) {{\n",
       "    x.observe(notebookContainer, {childList: true});\n",
       "}}\n",
       "\n",
       "// Listen for the clearing of the current output cell\n",
       "var outputEl = gd.closest('.output');\n",
       "if (outputEl) {{\n",
       "    x.observe(outputEl, {childList: true});\n",
       "}}\n",
       "\n",
       "                        })                };                });            </script>        </div>"
      ]
     },
     "metadata": {},
     "output_type": "display_data"
    }
   ],
   "source": [
    "time1 = time.perf_counter()\n",
    "print(f\"Runtime of the extraction: {time1 - time0:0.1f} seconds\")\n",
    "\n",
    "fig = px.scatter_3d(df_scores, x='PC1', y='PC2', z='PC3',\n",
    "              opacity=0.5, color = 'color', range_x =(-40,70), range_y =(-3,3), range_z =(-3,15),\n",
    "                   hover_data = ['x','y'])\n",
    "                   \n",
    "    \n",
    "# Remove ranges for your analysis. Here I use them only to better the visualization\n",
    "\n",
    "fig.update_layout(margin=dict(l=0, r=0, b=0, t=0))\n",
    "\n",
    "fig"
   ]
  },
  {
   "cell_type": "markdown",
   "id": "1c76be13",
   "metadata": {},
   "source": [
    "#### 2D representation and clustering\n",
    "\n",
    "We can also spot these weird spaxels in a hotmap. We must choose which variable (PC 1,2 or 3) we want to plot. If we plot PC3 by setting up the variable 'analysis', we spot these spaxels as hotspots in the lower part of the image."
   ]
  },
  {
   "cell_type": "code",
   "execution_count": null,
   "id": "eb69eb15",
   "metadata": {},
   "outputs": [],
   "source": [
    "analysis = 'PC3' # PC1, PC2 or PC3\n",
    "\n",
    "maxrow=int(scores_df['x'].max())\n",
    "maxcol=int(scores_df['y'].max())\n",
    "arr=np.zeros((maxrow,maxcol))\n",
    "\n",
    "for index, row in scores_df.iterrows():\n",
    "    i=int(row['x'])-1\n",
    "    j=int(row['y'])-1\n",
    "    value=row[analysis]\n",
    "    arr[i,j]=value\n",
    "\n",
    "figure(figsize=(8, 5), dpi=80)\n",
    "plt.imshow(arr, aspect='auto')\n",
    "plt.colorbar()"
   ]
  },
  {
   "cell_type": "markdown",
   "id": "ed2620af",
   "metadata": {},
   "source": [
    "### DONT FORGET\n",
    "\n",
    "If you are using real data, put cluster to zero or any value except one, in order to not change anything on your spectra.\n",
    "\n",
    "Part of the code is taken from https://github.com/dataprofessor/code/blob/master/python/PCA_analysis.ipynb for the PCA analysis of the IRIS file, widely used in Machine Learning for teaching."
   ]
  },
  {
   "cell_type": "code",
   "execution_count": null,
   "id": "9d023473",
   "metadata": {},
   "outputs": [],
   "source": []
  }
 ],
 "metadata": {
  "kernelspec": {
   "display_name": "Python 3 (ipykernel)",
   "language": "python",
   "name": "python3"
  },
  "language_info": {
   "codemirror_mode": {
    "name": "ipython",
    "version": 3
   },
   "file_extension": ".py",
   "mimetype": "text/x-python",
   "name": "python",
   "nbconvert_exporter": "python",
   "pygments_lexer": "ipython3",
   "version": "3.7.11"
  }
 },
 "nbformat": 4,
 "nbformat_minor": 5
}
